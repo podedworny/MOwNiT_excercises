{
 "cells": [
  {
   "cell_type": "code",
   "execution_count": 134,
   "id": "initial_id",
   "metadata": {
    "collapsed": true,
    "ExecuteTime": {
     "end_time": "2024-06-11T23:29:51.304274Z",
     "start_time": "2024-06-11T23:29:51.300996Z"
    }
   },
   "outputs": [],
   "source": [
    "import numpy as np\n",
    "import time"
   ]
  },
  {
   "cell_type": "code",
   "outputs": [],
   "source": [
    "m = 2.5\n",
    "k = 8"
   ],
   "metadata": {
    "collapsed": false,
    "ExecuteTime": {
     "end_time": "2024-06-11T23:29:51.327610Z",
     "start_time": "2024-06-11T23:29:51.324829Z"
    }
   },
   "id": "8455f91787c0bda6",
   "execution_count": 135
  },
  {
   "cell_type": "code",
   "outputs": [],
   "source": [
    "def generate_matrix_and_vector(n, dtype=np.float64):\n",
    "    matrix = np.zeros((n,n), dtype=dtype)\n",
    "\n",
    "    for i in range(1, n+1):\n",
    "        for j in range(1, n+1):\n",
    "            if i == j:\n",
    "                matrix[i-1, j-1] = k\n",
    "            elif j > i:\n",
    "                matrix[i-1, j-1] = (-1) ** j * (m / j)\n",
    "            elif j == i-1:\n",
    "                matrix[i-1, j-1] = m/i\n",
    "\n",
    "\n",
    "    vector = np.array([1 if i % 2 == 0 else -1 for i in range(n)], dtype=dtype)\n",
    "\n",
    "    return matrix, vector"
   ],
   "metadata": {
    "collapsed": false,
    "ExecuteTime": {
     "end_time": "2024-06-11T23:29:51.373176Z",
     "start_time": "2024-06-11T23:29:51.368566Z"
    }
   },
   "id": "af853410f8c2099c",
   "execution_count": 136
  },
  {
   "cell_type": "code",
   "outputs": [],
   "source": [
    "def difference(v1, v2):\n",
    "    differences = np.abs(v1 - v2)\n",
    "\n",
    "    max_difference = np.max(differences)\n",
    "    return max_difference"
   ],
   "metadata": {
    "collapsed": false,
    "ExecuteTime": {
     "end_time": "2024-06-11T23:29:51.377452Z",
     "start_time": "2024-06-11T23:29:51.374161Z"
    }
   },
   "id": "739f82a68db9d362",
   "execution_count": 137
  },
  {
   "cell_type": "code",
   "outputs": [],
   "source": [
    "def jacobi_iteration_matrix(A):\n",
    "    D = np.diag(np.diag(A))\n",
    "    D_inv = np.linalg.inv(D)\n",
    "    M = np.eye(A.shape[0]) - D_inv @ A\n",
    "    return M\n",
    "\n",
    "def spectral_radius(matrix):\n",
    "    eigenvalues = np.linalg.eigvals(matrix)\n",
    "    return max(abs(eigenvalues))"
   ],
   "metadata": {
    "collapsed": false,
    "ExecuteTime": {
     "end_time": "2024-06-11T23:29:51.392219Z",
     "start_time": "2024-06-11T23:29:51.388165Z"
    }
   },
   "id": "3eee708120a24e7",
   "execution_count": 138
  },
  {
   "cell_type": "code",
   "outputs": [],
   "source": [
    "# for i in range(3, 200):\n",
    "#     A, _ = generate_matrix_and_vector(i)\n",
    "#     M = jacobi_iteration_matrix(A)\n",
    "#     rho = spectral_radius(M)\n",
    "#     print(f\"n = {i}, rho = {rho}\")"
   ],
   "metadata": {
    "collapsed": false,
    "ExecuteTime": {
     "end_time": "2024-06-11T23:29:51.396401Z",
     "start_time": "2024-06-11T23:29:51.393214Z"
    }
   },
   "id": "be147005a20ec7f3",
   "execution_count": 139
  },
  {
   "cell_type": "code",
   "outputs": [],
   "source": [
    "def jacobi_method(A, b, rho, type=1, stop=1):\n",
    "    iterations = 0\n",
    "    if type == 1:\n",
    "        x = np.zeros_like(b)\n",
    "    else:\n",
    "        x = np.array([100 if i % 2 == 0 else -100 for i in range(b.shape[0])])\n",
    "        \n",
    "    D = np.diag(A)\n",
    "    R = A - np.diagflat(D)\n",
    "    start_time = time.time()\n",
    "    while True:\n",
    "        x_new = (b - R @ x) / D\n",
    "        iterations += 1\n",
    "        if stop == 1:\n",
    "            if np.linalg.norm(x_new - x) < rho:\n",
    "                break\n",
    "        else:\n",
    "            if np.linalg.norm(A @ x_new - b) < rho:\n",
    "                break\n",
    "        x = x_new\n",
    "    end_time = time.time()\n",
    "            \n",
    "    return x_new, iterations, end_time - start_time"
   ],
   "metadata": {
    "collapsed": false,
    "ExecuteTime": {
     "end_time": "2024-06-11T23:29:51.402104Z",
     "start_time": "2024-06-11T23:29:51.397392Z"
    }
   },
   "id": "32f04b79ac7d7f98",
   "execution_count": 140
  },
  {
   "cell_type": "code",
   "outputs": [],
   "source": [
    "rhos = [1e-1, 1e-3, 1e-5, 1e-7, 1e-9, 1e-11]"
   ],
   "metadata": {
    "collapsed": false,
    "ExecuteTime": {
     "end_time": "2024-06-11T23:29:51.406094Z",
     "start_time": "2024-06-11T23:29:51.403095Z"
    }
   },
   "id": "214fe2cca4cd00d3",
   "execution_count": 141
  },
  {
   "cell_type": "code",
   "outputs": [],
   "source": [
    "def generate_iterations_table(type, stop):\n",
    "    table = \"\\\\noindent\\\\begin{minipage}{\\\\linewidth}\\n\\\\centering\\n\"\n",
    "    table += \"\\\\begin{tabular}{|c|\" + \"c|\" * len(rhos) + \"}\\n\\\\hline\\n\"\n",
    "    table += \"\\\\multicolumn{1}{|c|}{} & \\\\multicolumn{\" + str(len(rhos)) + \"}{c|}{\\\\textbf{$\\\\rho$}} \\\\\\\\ \\\\cline{2-\" + str(len(rhos) + 1) + \"}\\n\"\n",
    "    table += \"\\\\multicolumn{1}{|c|}{\\\\multirow{-2}{*}{\\\\textbf{$n$}}} \"\n",
    "    for rho in rhos:\n",
    "        table += f\"& {rho} \"\n",
    "    table += \"\\\\\\\\ \\\\hline\\n\"\n",
    "\n",
    "    for n in range(5, 351, 20):\n",
    "        row = f\"{n} \"\n",
    "        for rho in rhos:\n",
    "            A, b = generate_matrix_and_vector(n)\n",
    "            _, iterations, _ = jacobi_method(A, b, rho=rho, type=type, stop=stop)\n",
    "            row += f\"& {iterations} \"\n",
    "        row += \"\\\\\\\\ \\\\hline\\n\"\n",
    "        table += row\n",
    "\n",
    "    table += \"\\\\end{tabular}\\n\"\n",
    "    table += \"\\\\captionsetup{justification=centering}\\n\"\n",
    "    if type == 1 and stop == 1:\n",
    "        table += \"\\\\captionof{table}{Liczba iteracji dla różnych wartości n dla wektora 0 i pierwszego kryterium stopu}\\n\\\\end{minipage}\"\n",
    "    elif type == 1 and stop == 2:\n",
    "        table += \"\\\\captionof{table}{Liczba iteracji dla różnych wartości n dla wektora 0 i drugiego kryterium stopu}\\n\\\\end{minipage}\"\n",
    "    elif type == 2 and stop == 1:\n",
    "        table += \"\\\\captionof{table}{Liczba iteracji dla różnych wartości n dla wektora 100 i pierwszego kryterium stopu}\\n\\\\end{minipage}\"\n",
    "    else:\n",
    "        table += \"\\\\captionof{table}{Liczba iteracji dla różnych wartości n dla wektora 100 i drugiego kryterium stopu}\\n\\\\end{minipage}\"\n",
    "    return table"
   ],
   "metadata": {
    "collapsed": false,
    "ExecuteTime": {
     "end_time": "2024-06-11T23:29:51.424580Z",
     "start_time": "2024-06-11T23:29:51.418641Z"
    }
   },
   "id": "30ea6ca60f0ced40",
   "execution_count": 142
  },
  {
   "cell_type": "code",
   "outputs": [],
   "source": [
    "def generate_difference_table(type, stop):\n",
    "    table = \"\\\\noindent\\\\begin{minipage}{\\\\linewidth}\\n\\\\centering\\n\"\n",
    "    table += \"\\\\begin{tabular}{|c|\" + \"c|\" * len(rhos) + \"}\\n\\\\hline\\n\"\n",
    "    table += \"\\\\multicolumn{1}{|c|}{} & \\\\multicolumn{\" + str(len(rhos)) + \"}{c|}{\\\\textbf{$\\\\rho$}} \\\\\\\\ \\\\cline{2-\" + str(len(rhos) + 1) + \"}\\n\"\n",
    "    table += \"\\\\multicolumn{1}{|c|}{\\\\multirow{-2}{*}{\\\\textbf{$n$}}} \"\n",
    "    for rho in rhos:\n",
    "        table += f\"& {rho} \"\n",
    "    table += \"\\\\\\\\ \\\\hline\\n\"\n",
    "\n",
    "    for n in range(5, 351, 20):\n",
    "        row = f\"{n} \"\n",
    "        for rho in rhos:\n",
    "            A, b = generate_matrix_and_vector(n)\n",
    "            x, _, _ = jacobi_method(A, b, rho=rho, type=type, stop=stop)\n",
    "            diff = difference(b, A @ x)\n",
    "            row += f\"& {diff:.8f} \"\n",
    "        row += \"\\\\\\\\ \\\\hline\\n\"\n",
    "        table += row\n",
    "\n",
    "    table += \"\\\\end{tabular}\\n\"\n",
    "    table += \"\\\\captionsetup{justification=centering}\\n\"\n",
    "    if type == 1 and stop == 1:\n",
    "        table += \"\\\\captionof{table}{Różnice dla różnych wartości n dla wektora 0 i pierwszego kryterium stopu}\\n\\\\end{minipage}\"\n",
    "    elif type == 1 and stop == 2:\n",
    "        table += \"\\\\captionof{table}{Różnice dla różnych wartości n dla wektora 0 i drugiego kryterium stopu}\\n\\\\end{minipage}\"\n",
    "    elif type == 2 and stop == 1:\n",
    "        table += \"\\\\captionof{table}{Różnice dla różnych wartości n dla wektora 100 i pierwszego kryterium stopu}\\n\\\\end{minipage}\"\n",
    "    else:\n",
    "        table += \"\\\\captionof{table}{Różnice dla różnych wartości n dla wektora 100 i drugiego kryterium stopu}\\n\\\\end{minipage}\"\n",
    "    return table"
   ],
   "metadata": {
    "collapsed": false,
    "ExecuteTime": {
     "end_time": "2024-06-11T23:29:51.431433Z",
     "start_time": "2024-06-11T23:29:51.425564Z"
    }
   },
   "id": "636ce65feada7e3d",
   "execution_count": 143
  },
  {
   "cell_type": "code",
   "outputs": [],
   "source": [
    "def generate_execution_time_table(type, stop):\n",
    "    table = \"\\\\noindent\\\\begin{minipage}{\\\\linewidth}\\n\\\\centering\\n\"\n",
    "    table += \"\\\\begin{tabular}{|c|\" + \"c|\" * len(rhos) + \"}\\n\\\\hline\\n\"\n",
    "    table += \"\\\\multicolumn{1}{|c|}{} & \\\\multicolumn{\" + str(len(rhos)) + \"}{c|}{\\\\textbf{$\\\\rho$}} \\\\\\\\ \\\\cline{2-\" + str(len(rhos) + 1) + \"}\\n\"\n",
    "    table += \"\\\\multicolumn{1}{|c|}{\\\\multirow{-2}{*}{\\\\textbf{$n$}}} \"\n",
    "    for rho in rhos:\n",
    "        table += f\"& {rho} \"\n",
    "    table += \"\\\\\\\\ \\\\hline\\n\"\n",
    "\n",
    "    for n in range(5, 351, 20):\n",
    "        row = f\"{n} \"\n",
    "        for rho in rhos:\n",
    "            A, b = generate_matrix_and_vector(n)\n",
    "            _, _, exec_time = jacobi_method(A, b, rho=rho, type=type, stop=stop)\n",
    "            row += f\"& {exec_time:.8f} \"\n",
    "        row += \"\\\\\\\\ \\\\hline\\n\"\n",
    "        table += row\n",
    "\n",
    "    table += \"\\\\end{tabular}\\n\"\n",
    "    table += \"\\\\captionsetup{justification=centering}\\n\"\n",
    "    if type == 1 and stop == 1:\n",
    "        table += \"\\\\captionof{table}{Czasy wykonania w sekundach dla różnych wartości n dla wektora 0 i pierwszego kryterium stopu}\\n\\\\end{minipage}\"\n",
    "    elif type == 1 and stop == 2:\n",
    "        table += \"\\\\captionof{table}{Czasy wykonania w sekundach dla różnych wartości n dla wektora 0 i drugiego kryterium stopu}\\n\\\\end{minipage}\"\n",
    "    elif type == 2 and stop == 1:\n",
    "        table += \"\\\\captionof{table}{Czasy wykonania w sekundach dla różnych wartości n dla wektora 100 i pierwszego kryterium stopu}\\n\\\\end{minipage}\"\n",
    "    else:\n",
    "        table += \"\\\\captionof{table}{Czasy wykonania w sekundach dla różnych wartości n dla wektora 100 i drugiego kryterium stopu}\\n\\\\end{minipage}\"\n",
    "    return table"
   ],
   "metadata": {
    "collapsed": false,
    "ExecuteTime": {
     "end_time": "2024-06-11T23:29:51.441181Z",
     "start_time": "2024-06-11T23:29:51.435949Z"
    }
   },
   "id": "ec5aa57579831ce0",
   "execution_count": 144
  },
  {
   "cell_type": "code",
   "outputs": [
    {
     "name": "stdout",
     "output_type": "stream",
     "text": [
      "\\noindent\\begin{minipage}{\\linewidth}\n",
      "\\centering\n",
      "\\begin{tabular}{|c|c|c|c|c|c|c|}\n",
      "\\hline\n",
      "\\multicolumn{1}{|c|}{} & \\multicolumn{6}{c|}{\\textbf{$\\rho$}} \\\\ \\cline{2-7}\n",
      "\\multicolumn{1}{|c|}{\\multirow{-2}{*}{\\textbf{$n$}}} & 0.1 & 0.001 & 1e-05 & 1e-07 & 1e-09 & 1e-11 \\\\ \\hline\n",
      "5 & 2 & 4 & 7 & 9 & 12 & 14 \\\\ \\hline\n",
      "25 & 3 & 5 & 7 & 9 & 12 & 14 \\\\ \\hline\n",
      "45 & 3 & 5 & 7 & 9 & 12 & 14 \\\\ \\hline\n",
      "65 & 3 & 5 & 7 & 9 & 12 & 14 \\\\ \\hline\n",
      "85 & 3 & 5 & 7 & 9 & 12 & 14 \\\\ \\hline\n",
      "105 & 3 & 5 & 7 & 9 & 12 & 14 \\\\ \\hline\n",
      "125 & 3 & 5 & 7 & 9 & 12 & 14 \\\\ \\hline\n",
      "145 & 3 & 5 & 7 & 9 & 12 & 14 \\\\ \\hline\n",
      "165 & 3 & 5 & 7 & 9 & 12 & 14 \\\\ \\hline\n",
      "185 & 3 & 5 & 7 & 9 & 12 & 14 \\\\ \\hline\n",
      "205 & 3 & 5 & 7 & 9 & 12 & 14 \\\\ \\hline\n",
      "225 & 3 & 5 & 7 & 9 & 12 & 14 \\\\ \\hline\n",
      "245 & 3 & 5 & 7 & 9 & 12 & 14 \\\\ \\hline\n",
      "265 & 3 & 5 & 7 & 9 & 12 & 14 \\\\ \\hline\n",
      "285 & 3 & 5 & 7 & 9 & 12 & 14 \\\\ \\hline\n",
      "305 & 3 & 5 & 7 & 9 & 12 & 14 \\\\ \\hline\n",
      "325 & 3 & 5 & 7 & 9 & 12 & 14 \\\\ \\hline\n",
      "345 & 3 & 5 & 7 & 9 & 12 & 14 \\\\ \\hline\n",
      "\\end{tabular}\n",
      "\\captionsetup{justification=centering}\n",
      "\\captionof{table}{Liczba iteracji dla różnych wartości n dla wektora 0 i pierwszego kryterium stopu}\n",
      "\\end{minipage}\n"
     ]
    }
   ],
   "source": [
    "print(generate_iterations_table(1, 1))"
   ],
   "metadata": {
    "collapsed": false,
    "ExecuteTime": {
     "end_time": "2024-06-11T23:29:52.448143Z",
     "start_time": "2024-06-11T23:29:51.442222Z"
    }
   },
   "id": "bcdb97f2dae12301",
   "execution_count": 145
  },
  {
   "cell_type": "code",
   "outputs": [
    {
     "name": "stdout",
     "output_type": "stream",
     "text": [
      "\\noindent\\begin{minipage}{\\linewidth}\n",
      "\\centering\n",
      "\\begin{tabular}{|c|c|c|c|c|c|c|}\n",
      "\\hline\n",
      "\\multicolumn{1}{|c|}{} & \\multicolumn{6}{c|}{\\textbf{$\\rho$}} \\\\ \\cline{2-7}\n",
      "\\multicolumn{1}{|c|}{\\multirow{-2}{*}{\\textbf{$n$}}} & 0.1 & 0.001 & 1e-05 & 1e-07 & 1e-09 & 1e-11 \\\\ \\hline\n",
      "5 & 0.03203668 & 0.00078881 & 0.00000267 & 0.00000007 & 0.00000000 & 0.00000000 \\\\ \\hline\n",
      "25 & 0.00581458 & 0.00012548 & 0.00000242 & 0.00000008 & 0.00000000 & 0.00000000 \\\\ \\hline\n",
      "45 & 0.00640438 & 0.00014263 & 0.00000235 & 0.00000008 & 0.00000000 & 0.00000000 \\\\ \\hline\n",
      "65 & 0.00744797 & 0.00015333 & 0.00000230 & 0.00000008 & 0.00000000 & 0.00000000 \\\\ \\hline\n",
      "85 & 0.00822080 & 0.00016114 & 0.00000228 & 0.00000008 & 0.00000000 & 0.00000000 \\\\ \\hline\n",
      "105 & 0.00883454 & 0.00016729 & 0.00000230 & 0.00000008 & 0.00000000 & 0.00000000 \\\\ \\hline\n",
      "125 & 0.00934353 & 0.00017237 & 0.00000233 & 0.00000008 & 0.00000000 & 0.00000000 \\\\ \\hline\n",
      "145 & 0.00977835 & 0.00017669 & 0.00000234 & 0.00000008 & 0.00000000 & 0.00000000 \\\\ \\hline\n",
      "165 & 0.01015787 & 0.00018045 & 0.00000236 & 0.00000008 & 0.00000000 & 0.00000000 \\\\ \\hline\n",
      "185 & 0.01049458 & 0.00018379 & 0.00000237 & 0.00000008 & 0.00000000 & 0.00000000 \\\\ \\hline\n",
      "205 & 0.01079715 & 0.00018678 & 0.00000238 & 0.00000008 & 0.00000000 & 0.00000000 \\\\ \\hline\n",
      "225 & 0.01107188 & 0.00018949 & 0.00000239 & 0.00000008 & 0.00000000 & 0.00000000 \\\\ \\hline\n",
      "245 & 0.01132346 & 0.00019197 & 0.00000240 & 0.00000008 & 0.00000000 & 0.00000000 \\\\ \\hline\n",
      "265 & 0.01155549 & 0.00019426 & 0.00000241 & 0.00000008 & 0.00000000 & 0.00000000 \\\\ \\hline\n",
      "285 & 0.01177078 & 0.00019638 & 0.00000242 & 0.00000009 & 0.00000000 & 0.00000000 \\\\ \\hline\n",
      "305 & 0.01197159 & 0.00019836 & 0.00000243 & 0.00000009 & 0.00000000 & 0.00000000 \\\\ \\hline\n",
      "325 & 0.01215975 & 0.00020021 & 0.00000244 & 0.00000009 & 0.00000000 & 0.00000000 \\\\ \\hline\n",
      "345 & 0.01233676 & 0.00020195 & 0.00000244 & 0.00000009 & 0.00000000 & 0.00000000 \\\\ \\hline\n",
      "\\end{tabular}\n",
      "\\captionsetup{justification=centering}\n",
      "\\captionof{table}{Różnice dla różnych wartości n dla wektora 0 i pierwszego kryterium stopu}\n",
      "\\end{minipage}\n"
     ]
    }
   ],
   "source": [
    "print(generate_difference_table(1, 1))"
   ],
   "metadata": {
    "collapsed": false,
    "ExecuteTime": {
     "end_time": "2024-06-11T23:29:53.412642Z",
     "start_time": "2024-06-11T23:29:52.449140Z"
    }
   },
   "id": "9fb3661ad3861367",
   "execution_count": 146
  },
  {
   "cell_type": "code",
   "outputs": [
    {
     "name": "stdout",
     "output_type": "stream",
     "text": [
      "\\noindent\\begin{minipage}{\\linewidth}\n",
      "\\centering\n",
      "\\begin{tabular}{|c|c|c|c|c|c|c|}\n",
      "\\hline\n",
      "\\multicolumn{1}{|c|}{} & \\multicolumn{6}{c|}{\\textbf{$\\rho$}} \\\\ \\cline{2-7}\n",
      "\\multicolumn{1}{|c|}{\\multirow{-2}{*}{\\textbf{$n$}}} & 0.1 & 0.001 & 1e-05 & 1e-07 & 1e-09 & 1e-11 \\\\ \\hline\n",
      "5 & 0.00000000 & 0.00000000 & 0.00000000 & 0.00000000 & 0.00000000 & 0.00099850 \\\\ \\hline\n",
      "25 & 0.00000000 & 0.00000000 & 0.00000000 & 0.00000000 & 0.00099969 & 0.00000000 \\\\ \\hline\n",
      "45 & 0.00000000 & 0.00000000 & 0.00000000 & 0.00000000 & 0.00000000 & 0.00000000 \\\\ \\hline\n",
      "65 & 0.00000000 & 0.00000000 & 0.00000000 & 0.00000000 & 0.00000000 & 0.00099897 \\\\ \\hline\n",
      "85 & 0.00000000 & 0.00000000 & 0.00000000 & 0.00000000 & 0.00000000 & 0.00000000 \\\\ \\hline\n",
      "105 & 0.00100231 & 0.00000000 & 0.00000000 & 0.00099969 & 0.00100207 & 0.00099969 \\\\ \\hline\n",
      "125 & 0.00000000 & 0.00000000 & 0.00099897 & 0.00100112 & 0.00099921 & 0.00099921 \\\\ \\hline\n",
      "145 & 0.00000000 & 0.00000000 & 0.00000000 & 0.00000000 & 0.00098324 & 0.00100160 \\\\ \\hline\n",
      "165 & 0.00000000 & 0.00000000 & 0.00100350 & 0.00000000 & 0.00099897 & 0.00200105 \\\\ \\hline\n",
      "185 & 0.00000000 & 0.00000000 & 0.00000000 & 0.00099993 & 0.00100112 & 0.00100064 \\\\ \\hline\n",
      "205 & 0.00000000 & 0.00099945 & 0.00100017 & 0.00100017 & 0.00100207 & 0.00099850 \\\\ \\hline\n",
      "225 & 0.00000000 & 0.00000000 & 0.00000000 & 0.00100017 & 0.00105429 & 0.00200248 \\\\ \\hline\n",
      "245 & 0.00100064 & 0.00100183 & 0.00099969 & 0.00099969 & 0.00200248 & 0.00099897 \\\\ \\hline\n",
      "265 & 0.00000000 & 0.00100470 & 0.00099730 & 0.00100136 & 0.00100017 & 0.00107312 \\\\ \\hline\n",
      "285 & 0.00099730 & 0.00106168 & 0.00100112 & 0.00100136 & 0.00200200 & 0.00099945 \\\\ \\hline\n",
      "305 & 0.00099969 & 0.00100803 & 0.00100112 & 0.00099707 & 0.00200224 & 0.00099921 \\\\ \\hline\n",
      "325 & 0.00000000 & 0.00099969 & 0.00100064 & 0.00099826 & 0.00099945 & 0.00200033 \\\\ \\hline\n",
      "345 & 0.00000000 & 0.00000000 & 0.00100398 & 0.00099802 & 0.00099993 & 0.00100017 \\\\ \\hline\n",
      "\\end{tabular}\n",
      "\\captionsetup{justification=centering}\n",
      "\\captionof{table}{Czasy wykonania w sekundach dla różnych wartości n dla wektora 0 i pierwszego kryterium stopu}\n",
      "\\end{minipage}\n"
     ]
    }
   ],
   "source": [
    "print(generate_execution_time_table(1, 1))"
   ],
   "metadata": {
    "collapsed": false,
    "ExecuteTime": {
     "end_time": "2024-06-11T23:29:54.270528Z",
     "start_time": "2024-06-11T23:29:53.413640Z"
    }
   },
   "id": "4ded7a341c803f15",
   "execution_count": 147
  },
  {
   "cell_type": "code",
   "outputs": [
    {
     "name": "stdout",
     "output_type": "stream",
     "text": [
      "\\noindent\\begin{minipage}{\\linewidth}\n",
      "\\centering\n",
      "\\begin{tabular}{|c|c|c|c|c|c|c|}\n",
      "\\hline\n",
      "\\multicolumn{1}{|c|}{} & \\multicolumn{6}{c|}{\\textbf{$\\rho$}} \\\\ \\cline{2-7}\n",
      "\\multicolumn{1}{|c|}{\\multirow{-2}{*}{\\textbf{$n$}}} & 0.1 & 0.001 & 1e-05 & 1e-07 & 1e-09 & 1e-11 \\\\ \\hline\n",
      "5 & 2 & 4 & 7 & 9 & 12 & 14 \\\\ \\hline\n",
      "25 & 2 & 5 & 7 & 9 & 12 & 14 \\\\ \\hline\n",
      "45 & 3 & 5 & 7 & 9 & 12 & 14 \\\\ \\hline\n",
      "65 & 3 & 5 & 7 & 9 & 12 & 14 \\\\ \\hline\n",
      "85 & 3 & 5 & 7 & 9 & 12 & 14 \\\\ \\hline\n",
      "105 & 3 & 5 & 7 & 9 & 12 & 14 \\\\ \\hline\n",
      "125 & 3 & 5 & 7 & 9 & 12 & 14 \\\\ \\hline\n",
      "145 & 3 & 5 & 7 & 9 & 12 & 14 \\\\ \\hline\n",
      "165 & 3 & 5 & 7 & 9 & 12 & 14 \\\\ \\hline\n",
      "185 & 3 & 5 & 7 & 9 & 12 & 14 \\\\ \\hline\n",
      "205 & 3 & 5 & 7 & 9 & 12 & 14 \\\\ \\hline\n",
      "225 & 3 & 5 & 7 & 9 & 12 & 14 \\\\ \\hline\n",
      "245 & 3 & 5 & 7 & 9 & 12 & 14 \\\\ \\hline\n",
      "265 & 3 & 5 & 7 & 9 & 12 & 14 \\\\ \\hline\n",
      "285 & 3 & 5 & 7 & 9 & 12 & 14 \\\\ \\hline\n",
      "305 & 3 & 5 & 7 & 9 & 12 & 14 \\\\ \\hline\n",
      "325 & 3 & 5 & 7 & 9 & 12 & 14 \\\\ \\hline\n",
      "345 & 3 & 5 & 7 & 9 & 12 & 14 \\\\ \\hline\n",
      "\\end{tabular}\n",
      "\\captionsetup{justification=centering}\n",
      "\\captionof{table}{Liczba iteracji dla różnych wartości n dla wektora 0 i drugiego kryterium stopu}\n",
      "\\end{minipage}\n"
     ]
    }
   ],
   "source": [
    "print(generate_iterations_table(1, 2))"
   ],
   "metadata": {
    "collapsed": false,
    "ExecuteTime": {
     "end_time": "2024-06-11T23:29:55.178220Z",
     "start_time": "2024-06-11T23:29:54.271519Z"
    }
   },
   "id": "32ef7f1122e7c5e6",
   "execution_count": 148
  },
  {
   "cell_type": "code",
   "outputs": [
    {
     "name": "stdout",
     "output_type": "stream",
     "text": [
      "\\noindent\\begin{minipage}{\\linewidth}\n",
      "\\centering\n",
      "\\begin{tabular}{|c|c|c|c|c|c|c|}\n",
      "\\hline\n",
      "\\multicolumn{1}{|c|}{} & \\multicolumn{6}{c|}{\\textbf{$\\rho$}} \\\\ \\cline{2-7}\n",
      "\\multicolumn{1}{|c|}{\\multirow{-2}{*}{\\textbf{$n$}}} & 0.1 & 0.001 & 1e-05 & 1e-07 & 1e-09 & 1e-11 \\\\ \\hline\n",
      "5 & 0.03203668 & 0.00078881 & 0.00000267 & 0.00000007 & 0.00000000 & 0.00000000 \\\\ \\hline\n",
      "25 & 0.06326623 & 0.00012548 & 0.00000242 & 0.00000008 & 0.00000000 & 0.00000000 \\\\ \\hline\n",
      "45 & 0.00640438 & 0.00014263 & 0.00000235 & 0.00000008 & 0.00000000 & 0.00000000 \\\\ \\hline\n",
      "65 & 0.00744797 & 0.00015333 & 0.00000230 & 0.00000008 & 0.00000000 & 0.00000000 \\\\ \\hline\n",
      "85 & 0.00822080 & 0.00016114 & 0.00000228 & 0.00000008 & 0.00000000 & 0.00000000 \\\\ \\hline\n",
      "105 & 0.00883454 & 0.00016729 & 0.00000230 & 0.00000008 & 0.00000000 & 0.00000000 \\\\ \\hline\n",
      "125 & 0.00934353 & 0.00017237 & 0.00000233 & 0.00000008 & 0.00000000 & 0.00000000 \\\\ \\hline\n",
      "145 & 0.00977835 & 0.00017669 & 0.00000234 & 0.00000008 & 0.00000000 & 0.00000000 \\\\ \\hline\n",
      "165 & 0.01015787 & 0.00018045 & 0.00000236 & 0.00000008 & 0.00000000 & 0.00000000 \\\\ \\hline\n",
      "185 & 0.01049458 & 0.00018379 & 0.00000237 & 0.00000008 & 0.00000000 & 0.00000000 \\\\ \\hline\n",
      "205 & 0.01079715 & 0.00018678 & 0.00000238 & 0.00000008 & 0.00000000 & 0.00000000 \\\\ \\hline\n",
      "225 & 0.01107188 & 0.00018949 & 0.00000239 & 0.00000008 & 0.00000000 & 0.00000000 \\\\ \\hline\n",
      "245 & 0.01132346 & 0.00019197 & 0.00000240 & 0.00000008 & 0.00000000 & 0.00000000 \\\\ \\hline\n",
      "265 & 0.01155549 & 0.00019426 & 0.00000241 & 0.00000008 & 0.00000000 & 0.00000000 \\\\ \\hline\n",
      "285 & 0.01177078 & 0.00019638 & 0.00000242 & 0.00000009 & 0.00000000 & 0.00000000 \\\\ \\hline\n",
      "305 & 0.01197159 & 0.00019836 & 0.00000243 & 0.00000009 & 0.00000000 & 0.00000000 \\\\ \\hline\n",
      "325 & 0.01215975 & 0.00020021 & 0.00000244 & 0.00000009 & 0.00000000 & 0.00000000 \\\\ \\hline\n",
      "345 & 0.01233676 & 0.00020195 & 0.00000244 & 0.00000009 & 0.00000000 & 0.00000000 \\\\ \\hline\n",
      "\\end{tabular}\n",
      "\\captionsetup{justification=centering}\n",
      "\\captionof{table}{Różnice dla różnych wartości n dla wektora 0 i drugiego kryterium stopu}\n",
      "\\end{minipage}\n"
     ]
    }
   ],
   "source": [
    "print(generate_difference_table(1, 2))"
   ],
   "metadata": {
    "collapsed": false,
    "ExecuteTime": {
     "end_time": "2024-06-11T23:29:56.101309Z",
     "start_time": "2024-06-11T23:29:55.179214Z"
    }
   },
   "id": "efa1fe085ff84425",
   "execution_count": 149
  },
  {
   "cell_type": "code",
   "outputs": [
    {
     "name": "stdout",
     "output_type": "stream",
     "text": [
      "\\noindent\\begin{minipage}{\\linewidth}\n",
      "\\centering\n",
      "\\begin{tabular}{|c|c|c|c|c|c|c|}\n",
      "\\hline\n",
      "\\multicolumn{1}{|c|}{} & \\multicolumn{6}{c|}{\\textbf{$\\rho$}} \\\\ \\cline{2-7}\n",
      "\\multicolumn{1}{|c|}{\\multirow{-2}{*}{\\textbf{$n$}}} & 0.1 & 0.001 & 1e-05 & 1e-07 & 1e-09 & 1e-11 \\\\ \\hline\n",
      "5 & 0.00000000 & 0.00000000 & 0.00000000 & 0.00000000 & 0.00000000 & 0.00000000 \\\\ \\hline\n",
      "25 & 0.00000000 & 0.00000000 & 0.00000000 & 0.00000000 & 0.00000000 & 0.00099874 \\\\ \\hline\n",
      "45 & 0.00000000 & 0.00000000 & 0.00000000 & 0.00000000 & 0.00000000 & 0.00000000 \\\\ \\hline\n",
      "65 & 0.00000000 & 0.00000000 & 0.00000000 & 0.00100064 & 0.00000000 & 0.00000000 \\\\ \\hline\n",
      "85 & 0.00000000 & 0.00000000 & 0.00000000 & 0.00000000 & 0.00100017 & 0.00000000 \\\\ \\hline\n",
      "105 & 0.00100040 & 0.00099993 & 0.00099969 & 0.00199962 & 0.00152159 & 0.00300002 \\\\ \\hline\n",
      "125 & 0.00000000 & 0.00000000 & 0.00100136 & 0.00099921 & 0.00099874 & 0.00200081 \\\\ \\hline\n",
      "145 & 0.00000000 & 0.00100422 & 0.00199986 & 0.00099921 & 0.00200009 & 0.00199986 \\\\ \\hline\n",
      "165 & 0.00000000 & 0.00100088 & 0.00100160 & 0.00099730 & 0.00099969 & 0.00200057 \\\\ \\hline\n",
      "185 & 0.00099826 & 0.00100040 & 0.00099754 & 0.00109100 & 0.00200129 & 0.00200081 \\\\ \\hline\n",
      "205 & 0.00000000 & 0.00100064 & 0.00199962 & 0.00200057 & 0.00099707 & 0.00199866 \\\\ \\hline\n",
      "225 & 0.00100350 & 0.00000000 & 0.00100255 & 0.00100136 & 0.00300074 & 0.00200009 \\\\ \\hline\n",
      "245 & 0.00000000 & 0.00100207 & 0.00098228 & 0.00199962 & 0.00099921 & 0.00200224 \\\\ \\hline\n",
      "265 & 0.00100136 & 0.00000000 & 0.00100136 & 0.00100040 & 0.00158715 & 0.00200248 \\\\ \\hline\n",
      "285 & 0.00000000 & 0.00100327 & 0.00100279 & 0.00200295 & 0.00255251 & 0.00298691 \\\\ \\hline\n",
      "305 & 0.00100207 & 0.00099874 & 0.00100398 & 0.00199986 & 0.00199986 & 0.00200081 \\\\ \\hline\n",
      "325 & 0.00000000 & 0.00100088 & 0.00100064 & 0.00100112 & 0.00199723 & 0.00199842 \\\\ \\hline\n",
      "345 & 0.00100374 & 0.00099969 & 0.00200176 & 0.00099802 & 0.00200057 & 0.00200009 \\\\ \\hline\n",
      "\\end{tabular}\n",
      "\\captionsetup{justification=centering}\n",
      "\\captionof{table}{Czasy wykonania w sekundach dla różnych wartości n dla wektora 0 i drugiego kryterium stopu}\n",
      "\\end{minipage}\n"
     ]
    }
   ],
   "source": [
    "print(generate_execution_time_table(1, 2))"
   ],
   "metadata": {
    "collapsed": false,
    "ExecuteTime": {
     "end_time": "2024-06-11T23:29:56.991117Z",
     "start_time": "2024-06-11T23:29:56.102305Z"
    }
   },
   "id": "29fdb62b4a2f755",
   "execution_count": 150
  },
  {
   "cell_type": "code",
   "outputs": [
    {
     "name": "stdout",
     "output_type": "stream",
     "text": [
      "\\noindent\\begin{minipage}{\\linewidth}\n",
      "\\centering\n",
      "\\begin{tabular}{|c|c|c|c|c|c|c|}\n",
      "\\hline\n",
      "\\multicolumn{1}{|c|}{} & \\multicolumn{6}{c|}{\\textbf{$\\rho$}} \\\\ \\cline{2-7}\n",
      "\\multicolumn{1}{|c|}{\\multirow{-2}{*}{\\textbf{$n$}}} & 0.1 & 0.001 & 1e-05 & 1e-07 & 1e-09 & 1e-11 \\\\ \\hline\n",
      "5 & 5 & 8 & 10 & 13 & 15 & 18 \\\\ \\hline\n",
      "25 & 6 & 8 & 10 & 13 & 15 & 18 \\\\ \\hline\n",
      "45 & 6 & 8 & 10 & 13 & 15 & 18 \\\\ \\hline\n",
      "65 & 6 & 8 & 10 & 13 & 15 & 18 \\\\ \\hline\n",
      "85 & 6 & 8 & 10 & 13 & 15 & 18 \\\\ \\hline\n",
      "105 & 6 & 8 & 10 & 13 & 15 & 18 \\\\ \\hline\n",
      "125 & 6 & 8 & 10 & 13 & 15 & 18 \\\\ \\hline\n",
      "145 & 6 & 8 & 10 & 13 & 15 & 18 \\\\ \\hline\n",
      "165 & 6 & 8 & 10 & 13 & 15 & 18 \\\\ \\hline\n",
      "185 & 6 & 8 & 10 & 13 & 15 & 18 \\\\ \\hline\n",
      "205 & 6 & 8 & 10 & 13 & 15 & 18 \\\\ \\hline\n",
      "225 & 6 & 8 & 10 & 13 & 15 & 18 \\\\ \\hline\n",
      "245 & 6 & 8 & 10 & 13 & 15 & 18 \\\\ \\hline\n",
      "265 & 6 & 8 & 10 & 13 & 15 & 18 \\\\ \\hline\n",
      "285 & 6 & 8 & 10 & 13 & 15 & 18 \\\\ \\hline\n",
      "305 & 6 & 8 & 10 & 13 & 15 & 18 \\\\ \\hline\n",
      "325 & 6 & 8 & 10 & 13 & 15 & 18 \\\\ \\hline\n",
      "345 & 6 & 8 & 10 & 13 & 15 & 18 \\\\ \\hline\n",
      "\\end{tabular}\n",
      "\\captionsetup{justification=centering}\n",
      "\\captionof{table}{Liczba iteracji dla różnych wartości n dla wektora 100 i pierwszego kryterium stopu}\n",
      "\\end{minipage}\n"
     ]
    }
   ],
   "source": [
    "print(generate_iterations_table(2, 1))"
   ],
   "metadata": {
    "collapsed": false,
    "ExecuteTime": {
     "end_time": "2024-06-11T23:29:57.870907Z",
     "start_time": "2024-06-11T23:29:56.992110Z"
    }
   },
   "id": "749c9744692e85a5",
   "execution_count": 151
  },
  {
   "cell_type": "code",
   "outputs": [
    {
     "name": "stdout",
     "output_type": "stream",
     "text": [
      "\\noindent\\begin{minipage}{\\linewidth}\n",
      "\\centering\n",
      "\\begin{tabular}{|c|c|c|c|c|c|c|}\n",
      "\\hline\n",
      "\\multicolumn{1}{|c|}{} & \\multicolumn{6}{c|}{\\textbf{$\\rho$}} \\\\ \\cline{2-7}\n",
      "\\multicolumn{1}{|c|}{\\multirow{-2}{*}{\\textbf{$n$}}} & 0.1 & 0.001 & 1e-05 & 1e-07 & 1e-09 & 1e-11 \\\\ \\hline\n",
      "5 & 0.06864039 & 0.00033275 & 0.00000748 & 0.00000003 & 0.00000000 & 0.00000000 \\\\ \\hline\n",
      "25 & 0.01928879 & 0.00032974 & 0.00000689 & 0.00000003 & 0.00000000 & 0.00000000 \\\\ \\hline\n",
      "45 & 0.02071558 & 0.00032277 & 0.00000660 & 0.00000003 & 0.00000000 & 0.00000000 \\\\ \\hline\n",
      "65 & 0.02157283 & 0.00031797 & 0.00000642 & 0.00000003 & 0.00000000 & 0.00000000 \\\\ \\hline\n",
      "85 & 0.02218599 & 0.00031434 & 0.00000628 & 0.00000003 & 0.00000000 & 0.00000000 \\\\ \\hline\n",
      "105 & 0.02266334 & 0.00031142 & 0.00000617 & 0.00000003 & 0.00000000 & 0.00000000 \\\\ \\hline\n",
      "125 & 0.02305415 & 0.00030898 & 0.00000609 & 0.00000003 & 0.00000000 & 0.00000000 \\\\ \\hline\n",
      "145 & 0.02338499 & 0.00030688 & 0.00000601 & 0.00000003 & 0.00000000 & 0.00000000 \\\\ \\hline\n",
      "165 & 0.02367182 & 0.00030505 & 0.00000594 & 0.00000003 & 0.00000000 & 0.00000000 \\\\ \\hline\n",
      "185 & 0.02392497 & 0.00030341 & 0.00000589 & 0.00000003 & 0.00000000 & 0.00000000 \\\\ \\hline\n",
      "205 & 0.02415153 & 0.00030194 & 0.00000586 & 0.00000003 & 0.00000000 & 0.00000000 \\\\ \\hline\n",
      "225 & 0.02435654 & 0.00030060 & 0.00000591 & 0.00000003 & 0.00000000 & 0.00000000 \\\\ \\hline\n",
      "245 & 0.02454376 & 0.00029938 & 0.00000595 & 0.00000003 & 0.00000000 & 0.00000000 \\\\ \\hline\n",
      "265 & 0.02471602 & 0.00029824 & 0.00000599 & 0.00000003 & 0.00000000 & 0.00000000 \\\\ \\hline\n",
      "285 & 0.02487553 & 0.00029719 & 0.00000603 & 0.00000003 & 0.00000000 & 0.00000000 \\\\ \\hline\n",
      "305 & 0.02502406 & 0.00029621 & 0.00000606 & 0.00000003 & 0.00000000 & 0.00000000 \\\\ \\hline\n",
      "325 & 0.02516302 & 0.00029529 & 0.00000609 & 0.00000003 & 0.00000000 & 0.00000000 \\\\ \\hline\n",
      "345 & 0.02529356 & 0.00029633 & 0.00000613 & 0.00000003 & 0.00000000 & 0.00000000 \\\\ \\hline\n",
      "\\end{tabular}\n",
      "\\captionsetup{justification=centering}\n",
      "\\captionof{table}{Różnice dla różnych wartości n dla wektora 100 i pierwszego kryterium stopu}\n",
      "\\end{minipage}\n"
     ]
    }
   ],
   "source": [
    "print(generate_difference_table(2, 1))"
   ],
   "metadata": {
    "collapsed": false,
    "ExecuteTime": {
     "end_time": "2024-06-11T23:29:58.758984Z",
     "start_time": "2024-06-11T23:29:57.871893Z"
    }
   },
   "id": "96a6e532a1b6d682",
   "execution_count": 152
  },
  {
   "cell_type": "code",
   "outputs": [
    {
     "name": "stdout",
     "output_type": "stream",
     "text": [
      "\\noindent\\begin{minipage}{\\linewidth}\n",
      "\\centering\n",
      "\\begin{tabular}{|c|c|c|c|c|c|c|}\n",
      "\\hline\n",
      "\\multicolumn{1}{|c|}{} & \\multicolumn{6}{c|}{\\textbf{$\\rho$}} \\\\ \\cline{2-7}\n",
      "\\multicolumn{1}{|c|}{\\multirow{-2}{*}{\\textbf{$n$}}} & 0.1 & 0.001 & 1e-05 & 1e-07 & 1e-09 & 1e-11 \\\\ \\hline\n",
      "5 & 0.00000000 & 0.00000000 & 0.00000000 & 0.00100088 & 0.00000000 & 0.00000000 \\\\ \\hline\n",
      "25 & 0.00000000 & 0.00000000 & 0.00000000 & 0.00000000 & 0.00000000 & 0.00000000 \\\\ \\hline\n",
      "45 & 0.00000000 & 0.00000000 & 0.00000000 & 0.00000000 & 0.00000000 & 0.00000000 \\\\ \\hline\n",
      "65 & 0.00000000 & 0.00000000 & 0.00099850 & 0.00000000 & 0.00000000 & 0.00000000 \\\\ \\hline\n",
      "85 & 0.00099945 & 0.00000000 & 0.00000000 & 0.00100183 & 0.00000000 & 0.00000000 \\\\ \\hline\n",
      "105 & 0.00099993 & 0.00099993 & 0.00099993 & 0.00100160 & 0.00199962 & 0.00199771 \\\\ \\hline\n",
      "125 & 0.00099850 & 0.00099826 & 0.00200081 & 0.00100112 & 0.00099993 & 0.00151300 \\\\ \\hline\n",
      "145 & 0.00100279 & 0.00100303 & 0.00100064 & 0.00200200 & 0.00100160 & 0.00199962 \\\\ \\hline\n",
      "165 & 0.00100136 & 0.00100279 & 0.00099874 & 0.00099850 & 0.00200057 & 0.00200105 \\\\ \\hline\n",
      "185 & 0.00099897 & 0.00000000 & 0.00100064 & 0.00100160 & 0.00100327 & 0.00200081 \\\\ \\hline\n",
      "205 & 0.00000000 & 0.00000000 & 0.00100470 & 0.00200272 & 0.00100112 & 0.00200081 \\\\ \\hline\n",
      "225 & 0.00000000 & 0.00100112 & 0.00100183 & 0.00100088 & 0.00200152 & 0.00200009 \\\\ \\hline\n",
      "245 & 0.00100112 & 0.00000000 & 0.00100017 & 0.00200057 & 0.00199747 & 0.00199842 \\\\ \\hline\n",
      "265 & 0.00000000 & 0.00099993 & 0.00100112 & 0.00100136 & 0.00100017 & 0.00212002 \\\\ \\hline\n",
      "285 & 0.00053096 & 0.00100040 & 0.00100088 & 0.00151491 & 0.00200176 & 0.00200200 \\\\ \\hline\n",
      "305 & 0.00099945 & 0.00106263 & 0.00105786 & 0.00200081 & 0.00241637 & 0.00151563 \\\\ \\hline\n",
      "325 & 0.00000000 & 0.00000000 & 0.00100064 & 0.00099730 & 0.00099969 & 0.00200081 \\\\ \\hline\n",
      "345 & 0.00000000 & 0.00099945 & 0.00100136 & 0.00100231 & 0.00099969 & 0.00200081 \\\\ \\hline\n",
      "\\end{tabular}\n",
      "\\captionsetup{justification=centering}\n",
      "\\captionof{table}{Czasy wykonania w sekundach dla różnych wartości n dla wektora 100 i pierwszego kryterium stopu}\n",
      "\\end{minipage}\n"
     ]
    }
   ],
   "source": [
    "print(generate_execution_time_table(2, 1))"
   ],
   "metadata": {
    "collapsed": false,
    "ExecuteTime": {
     "end_time": "2024-06-11T23:29:59.639861Z",
     "start_time": "2024-06-11T23:29:58.759983Z"
    }
   },
   "id": "92364d68d2dbf7ab",
   "execution_count": 153
  },
  {
   "cell_type": "code",
   "outputs": [
    {
     "name": "stdout",
     "output_type": "stream",
     "text": [
      "\\noindent\\begin{minipage}{\\linewidth}\n",
      "\\centering\n",
      "\\begin{tabular}{|c|c|c|c|c|c|c|}\n",
      "\\hline\n",
      "\\multicolumn{1}{|c|}{} & \\multicolumn{6}{c|}{\\textbf{$\\rho$}} \\\\ \\cline{2-7}\n",
      "\\multicolumn{1}{|c|}{\\multirow{-2}{*}{\\textbf{$n$}}} & 0.1 & 0.001 & 1e-05 & 1e-07 & 1e-09 & 1e-11 \\\\ \\hline\n",
      "5 & 6 & 8 & 10 & 13 & 15 & 18 \\\\ \\hline\n",
      "25 & 6 & 8 & 10 & 13 & 15 & 18 \\\\ \\hline\n",
      "45 & 6 & 8 & 10 & 13 & 15 & 18 \\\\ \\hline\n",
      "65 & 6 & 8 & 10 & 13 & 15 & 18 \\\\ \\hline\n",
      "85 & 6 & 8 & 10 & 13 & 15 & 18 \\\\ \\hline\n",
      "105 & 6 & 8 & 10 & 13 & 15 & 18 \\\\ \\hline\n",
      "125 & 6 & 8 & 10 & 13 & 15 & 18 \\\\ \\hline\n",
      "145 & 6 & 8 & 10 & 13 & 15 & 18 \\\\ \\hline\n",
      "165 & 6 & 8 & 10 & 13 & 15 & 18 \\\\ \\hline\n",
      "185 & 6 & 8 & 10 & 13 & 15 & 18 \\\\ \\hline\n",
      "205 & 6 & 8 & 10 & 13 & 15 & 18 \\\\ \\hline\n",
      "225 & 6 & 8 & 10 & 13 & 15 & 18 \\\\ \\hline\n",
      "245 & 6 & 8 & 10 & 13 & 15 & 18 \\\\ \\hline\n",
      "265 & 6 & 8 & 10 & 13 & 15 & 18 \\\\ \\hline\n",
      "285 & 6 & 8 & 10 & 13 & 15 & 18 \\\\ \\hline\n",
      "305 & 6 & 8 & 10 & 13 & 15 & 18 \\\\ \\hline\n",
      "325 & 6 & 8 & 10 & 13 & 15 & 18 \\\\ \\hline\n",
      "345 & 6 & 8 & 10 & 13 & 15 & 18 \\\\ \\hline\n",
      "\\end{tabular}\n",
      "\\captionsetup{justification=centering}\n",
      "\\captionof{table}{Liczba iteracji dla różnych wartości n dla wektora 100 i drugiego kryterium stopu}\n",
      "\\end{minipage}\n"
     ]
    }
   ],
   "source": [
    "print(generate_iterations_table(2, 2))"
   ],
   "metadata": {
    "collapsed": false,
    "ExecuteTime": {
     "end_time": "2024-06-11T23:30:00.617886Z",
     "start_time": "2024-06-11T23:29:59.641844Z"
    }
   },
   "id": "b3e022b5a3accfa6",
   "execution_count": 154
  },
  {
   "cell_type": "code",
   "outputs": [
    {
     "name": "stdout",
     "output_type": "stream",
     "text": [
      "\\noindent\\begin{minipage}{\\linewidth}\n",
      "\\centering\n",
      "\\begin{tabular}{|c|c|c|c|c|c|c|}\n",
      "\\hline\n",
      "\\multicolumn{1}{|c|}{} & \\multicolumn{6}{c|}{\\textbf{$\\rho$}} \\\\ \\cline{2-7}\n",
      "\\multicolumn{1}{|c|}{\\multirow{-2}{*}{\\textbf{$n$}}} & 0.1 & 0.001 & 1e-05 & 1e-07 & 1e-09 & 1e-11 \\\\ \\hline\n",
      "5 & 0.01509448 & 0.00033275 & 0.00000748 & 0.00000003 & 0.00000000 & 0.00000000 \\\\ \\hline\n",
      "25 & 0.01928879 & 0.00032974 & 0.00000689 & 0.00000003 & 0.00000000 & 0.00000000 \\\\ \\hline\n",
      "45 & 0.02071558 & 0.00032277 & 0.00000660 & 0.00000003 & 0.00000000 & 0.00000000 \\\\ \\hline\n",
      "65 & 0.02157283 & 0.00031797 & 0.00000642 & 0.00000003 & 0.00000000 & 0.00000000 \\\\ \\hline\n",
      "85 & 0.02218599 & 0.00031434 & 0.00000628 & 0.00000003 & 0.00000000 & 0.00000000 \\\\ \\hline\n",
      "105 & 0.02266334 & 0.00031142 & 0.00000617 & 0.00000003 & 0.00000000 & 0.00000000 \\\\ \\hline\n",
      "125 & 0.02305415 & 0.00030898 & 0.00000609 & 0.00000003 & 0.00000000 & 0.00000000 \\\\ \\hline\n",
      "145 & 0.02338499 & 0.00030688 & 0.00000601 & 0.00000003 & 0.00000000 & 0.00000000 \\\\ \\hline\n",
      "165 & 0.02367182 & 0.00030505 & 0.00000594 & 0.00000003 & 0.00000000 & 0.00000000 \\\\ \\hline\n",
      "185 & 0.02392497 & 0.00030341 & 0.00000589 & 0.00000003 & 0.00000000 & 0.00000000 \\\\ \\hline\n",
      "205 & 0.02415153 & 0.00030194 & 0.00000586 & 0.00000003 & 0.00000000 & 0.00000000 \\\\ \\hline\n",
      "225 & 0.02435654 & 0.00030060 & 0.00000591 & 0.00000003 & 0.00000000 & 0.00000000 \\\\ \\hline\n",
      "245 & 0.02454376 & 0.00029938 & 0.00000595 & 0.00000003 & 0.00000000 & 0.00000000 \\\\ \\hline\n",
      "265 & 0.02471602 & 0.00029824 & 0.00000599 & 0.00000003 & 0.00000000 & 0.00000000 \\\\ \\hline\n",
      "285 & 0.02487553 & 0.00029719 & 0.00000603 & 0.00000003 & 0.00000000 & 0.00000000 \\\\ \\hline\n",
      "305 & 0.02502406 & 0.00029621 & 0.00000606 & 0.00000003 & 0.00000000 & 0.00000000 \\\\ \\hline\n",
      "325 & 0.02516302 & 0.00029529 & 0.00000609 & 0.00000003 & 0.00000000 & 0.00000000 \\\\ \\hline\n",
      "345 & 0.02529356 & 0.00029633 & 0.00000613 & 0.00000003 & 0.00000000 & 0.00000000 \\\\ \\hline\n",
      "\\end{tabular}\n",
      "\\captionsetup{justification=centering}\n",
      "\\captionof{table}{Różnice dla różnych wartości n dla wektora 100 i drugiego kryterium stopu}\n",
      "\\end{minipage}\n"
     ]
    }
   ],
   "source": [
    "print(generate_difference_table(2, 2))"
   ],
   "metadata": {
    "collapsed": false,
    "ExecuteTime": {
     "end_time": "2024-06-11T23:30:01.597485Z",
     "start_time": "2024-06-11T23:30:00.618888Z"
    }
   },
   "id": "9f32f3be2f213c11",
   "execution_count": 155
  },
  {
   "cell_type": "code",
   "outputs": [
    {
     "name": "stdout",
     "output_type": "stream",
     "text": [
      "\\noindent\\begin{minipage}{\\linewidth}\n",
      "\\centering\n",
      "\\begin{tabular}{|c|c|c|c|c|c|c|}\n",
      "\\hline\n",
      "\\multicolumn{1}{|c|}{} & \\multicolumn{6}{c|}{\\textbf{$\\rho$}} \\\\ \\cline{2-7}\n",
      "\\multicolumn{1}{|c|}{\\multirow{-2}{*}{\\textbf{$n$}}} & 0.1 & 0.001 & 1e-05 & 1e-07 & 1e-09 & 1e-11 \\\\ \\hline\n",
      "5 & 0.00000000 & 0.00000000 & 0.00099969 & 0.00000000 & 0.00000000 & 0.00000000 \\\\ \\hline\n",
      "25 & 0.00000000 & 0.00099969 & 0.00000000 & 0.00000000 & 0.00000000 & 0.00000000 \\\\ \\hline\n",
      "45 & 0.00000000 & 0.00000000 & 0.00000000 & 0.00000000 & 0.00000000 & 0.00000000 \\\\ \\hline\n",
      "65 & 0.00000000 & 0.00000000 & 0.00000000 & 0.00000000 & 0.00000000 & 0.00000000 \\\\ \\hline\n",
      "85 & 0.00000000 & 0.00000000 & 0.00000000 & 0.00000000 & 0.00000000 & 0.00099921 \\\\ \\hline\n",
      "105 & 0.00099945 & 0.00100207 & 0.00200009 & 0.00200009 & 0.00300050 & 0.00300121 \\\\ \\hline\n",
      "125 & 0.00099969 & 0.00100136 & 0.00200105 & 0.00200009 & 0.00299978 & 0.00300097 \\\\ \\hline\n",
      "145 & 0.00099993 & 0.00100040 & 0.00200009 & 0.00200200 & 0.00200129 & 0.00300241 \\\\ \\hline\n",
      "165 & 0.00100064 & 0.00100088 & 0.00100064 & 0.00200105 & 0.00300336 & 0.00300121 \\\\ \\hline\n",
      "185 & 0.00100088 & 0.00099826 & 0.00200129 & 0.00200081 & 0.00300097 & 0.00300026 \\\\ \\hline\n",
      "205 & 0.00100207 & 0.00100255 & 0.00100040 & 0.00199986 & 0.00300050 & 0.00200224 \\\\ \\hline\n",
      "225 & 0.00100064 & 0.00100255 & 0.00100112 & 0.00200057 & 0.00300050 & 0.00400329 \\\\ \\hline\n",
      "245 & 0.00100136 & 0.00200105 & 0.00200272 & 0.00200009 & 0.00300145 & 0.00300241 \\\\ \\hline\n",
      "265 & 0.00095439 & 0.00100040 & 0.00099945 & 0.00251174 & 0.00199819 & 0.00300050 \\\\ \\hline\n",
      "285 & 0.00100088 & 0.00100064 & 0.00200224 & 0.00200200 & 0.00300193 & 0.00300145 \\\\ \\hline\n",
      "305 & 0.00100064 & 0.00100183 & 0.00200248 & 0.00200129 & 0.00199986 & 0.00200009 \\\\ \\hline\n",
      "325 & 0.00100064 & 0.00100064 & 0.00200438 & 0.00199986 & 0.00300622 & 0.00354671 \\\\ \\hline\n",
      "345 & 0.00200033 & 0.00200057 & 0.00200438 & 0.00299883 & 0.00300288 & 0.00400066 \\\\ \\hline\n",
      "\\end{tabular}\n",
      "\\captionsetup{justification=centering}\n",
      "\\captionof{table}{Czasy wykonania w sekundach dla różnych wartości n dla wektora 100 i drugiego kryterium stopu}\n",
      "\\end{minipage}\n"
     ]
    }
   ],
   "source": [
    "print(generate_execution_time_table(2, 2))"
   ],
   "metadata": {
    "collapsed": false,
    "ExecuteTime": {
     "end_time": "2024-06-11T23:30:02.546033Z",
     "start_time": "2024-06-11T23:30:01.598483Z"
    }
   },
   "id": "967ba46f1276e076",
   "execution_count": 156
  },
  {
   "cell_type": "code",
   "outputs": [],
   "source": [
    "def generate_latex_table_radius():\n",
    "    n_values = range(5, 351, 20)\n",
    "    table_rows = []\n",
    "\n",
    "    for n in n_values:\n",
    "        A, _ = generate_matrix_and_vector(n)\n",
    "        M = jacobi_iteration_matrix(A)\n",
    "        radius = spectral_radius(M)\n",
    "        table_rows.append((n, radius))\n",
    "\n",
    "    latex_code = \"\\\\begin{table}[h!]\\n\\\\centering\\n\\\\begin{tabular}{|c|c|}\\n\\\\hline\\nn & Promień spektralny \\\\\\\\ \\\\hline\\n\"\n",
    "\n",
    "    for n, radius in table_rows:\n",
    "        latex_code += f\"{n} & {radius:.6f} \\\\\\\\ \\\\hline\\n\"\n",
    "\n",
    "    latex_code += \"\\\\end{tabular}\\n\\\\caption{Promienie spektralne dla różnych wartości n}\\n\\\\end{table}\"\n",
    "\n",
    "    return latex_code"
   ],
   "metadata": {
    "collapsed": false,
    "ExecuteTime": {
     "end_time": "2024-06-12T09:40:04.136937Z",
     "start_time": "2024-06-12T09:40:04.132069Z"
    }
   },
   "id": "7de4b3b7dd190212",
   "execution_count": 159
  },
  {
   "cell_type": "code",
   "outputs": [
    {
     "name": "stdout",
     "output_type": "stream",
     "text": [
      "\\begin{table}[h!]\n",
      "\\centering\n",
      "\\begin{tabular}{|c|c|}\n",
      "\\hline\n",
      "n & Promień spektralny \\\\ \\hline\n",
      "5 & 0.1562500000 \\\\ \\hline\n",
      "25 & 0.1562500000 \\\\ \\hline\n",
      "45 & 0.1562500000 \\\\ \\hline\n",
      "65 & 0.1562500000 \\\\ \\hline\n",
      "85 & 0.1562500000 \\\\ \\hline\n",
      "105 & 0.1562500000 \\\\ \\hline\n",
      "125 & 0.1562500000 \\\\ \\hline\n",
      "145 & 0.1562500000 \\\\ \\hline\n",
      "165 & 0.1562500000 \\\\ \\hline\n",
      "185 & 0.1562500000 \\\\ \\hline\n",
      "205 & 0.1562500000 \\\\ \\hline\n",
      "225 & 0.1562500000 \\\\ \\hline\n",
      "245 & 0.1562500000 \\\\ \\hline\n",
      "265 & 0.1562500000 \\\\ \\hline\n",
      "285 & 0.1562500000 \\\\ \\hline\n",
      "305 & 0.1562500000 \\\\ \\hline\n",
      "325 & 0.1562500000 \\\\ \\hline\n",
      "345 & 0.1562500000 \\\\ \\hline\n",
      "\\end{tabular}\n",
      "\\caption{Promienie spektralne dla różnych wartości n}\n",
      "\\end{table}\n"
     ]
    }
   ],
   "source": [
    "print(generate_latex_table_radius())"
   ],
   "metadata": {
    "collapsed": false,
    "ExecuteTime": {
     "end_time": "2024-06-12T09:40:05.846024Z",
     "start_time": "2024-06-12T09:40:04.451888Z"
    }
   },
   "id": "792f3d9a7180bee3",
   "execution_count": 160
  },
  {
   "cell_type": "code",
   "outputs": [],
   "source": [],
   "metadata": {
    "collapsed": false
   },
   "id": "187376234595b612"
  }
 ],
 "metadata": {
  "kernelspec": {
   "display_name": "Python 3",
   "language": "python",
   "name": "python3"
  },
  "language_info": {
   "codemirror_mode": {
    "name": "ipython",
    "version": 2
   },
   "file_extension": ".py",
   "mimetype": "text/x-python",
   "name": "python",
   "nbconvert_exporter": "python",
   "pygments_lexer": "ipython2",
   "version": "2.7.6"
  }
 },
 "nbformat": 4,
 "nbformat_minor": 5
}
