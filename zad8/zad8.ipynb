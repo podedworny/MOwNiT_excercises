{
 "cells": [
  {
   "cell_type": "code",
   "execution_count": 169,
   "id": "initial_id",
   "metadata": {
    "collapsed": true,
    "ExecuteTime": {
     "end_time": "2024-06-13T19:49:59.758547Z",
     "start_time": "2024-06-13T19:49:59.756360Z"
    }
   },
   "outputs": [],
   "source": [
    "import numpy as np\n",
    "import timeit"
   ]
  },
  {
   "cell_type": "code",
   "outputs": [],
   "source": [
    "m = 2.5\n",
    "k = 8"
   ],
   "metadata": {
    "collapsed": false,
    "ExecuteTime": {
     "end_time": "2024-06-13T19:49:59.764469Z",
     "start_time": "2024-06-13T19:49:59.759542Z"
    }
   },
   "id": "8455f91787c0bda6",
   "execution_count": 170
  },
  {
   "cell_type": "code",
   "outputs": [],
   "source": [
    "def generate_matrix_and_vector(n, dtype=np.float64):\n",
    "    matrix = np.zeros((n,n), dtype=dtype)\n",
    "\n",
    "    for i in range(1, n+1):\n",
    "        for j in range(1, n+1):\n",
    "            if i == j:\n",
    "                matrix[i-1, j-1] = k\n",
    "            elif j > i:\n",
    "                matrix[i-1, j-1] = (-1) ** j * (m / j)\n",
    "            elif j == i-1:\n",
    "                matrix[i-1, j-1] = m/i\n",
    "\n",
    "\n",
    "    vector = np.array([1 if i % 2 == 0 else -1 for i in range(n)], dtype=dtype)\n",
    "\n",
    "    return matrix, vector"
   ],
   "metadata": {
    "collapsed": false,
    "ExecuteTime": {
     "end_time": "2024-06-13T19:49:59.771059Z",
     "start_time": "2024-06-13T19:49:59.765468Z"
    }
   },
   "id": "af853410f8c2099c",
   "execution_count": 171
  },
  {
   "cell_type": "code",
   "outputs": [],
   "source": [
    "def difference(v1, v2):\n",
    "    differences = np.abs(v1 - v2)\n",
    "\n",
    "    max_difference = np.max(differences)\n",
    "    return max_difference"
   ],
   "metadata": {
    "collapsed": false,
    "ExecuteTime": {
     "end_time": "2024-06-13T19:49:59.775355Z",
     "start_time": "2024-06-13T19:49:59.772055Z"
    }
   },
   "id": "739f82a68db9d362",
   "execution_count": 172
  },
  {
   "cell_type": "code",
   "outputs": [],
   "source": [
    "def jacobi_iteration_matrix(A):\n",
    "    D = np.diag(np.diag(A))\n",
    "    D_inv = np.linalg.inv(D)\n",
    "    M = np.eye(A.shape[0]) - D_inv @ A\n",
    "    return M\n",
    "\n",
    "def spectral_radius(matrix):\n",
    "    eigenvalues = np.linalg.eigvals(matrix)\n",
    "    return max(abs(eigenvalues))"
   ],
   "metadata": {
    "collapsed": false,
    "ExecuteTime": {
     "end_time": "2024-06-13T19:49:59.781353Z",
     "start_time": "2024-06-13T19:49:59.776353Z"
    }
   },
   "id": "3eee708120a24e7",
   "execution_count": 173
  },
  {
   "cell_type": "code",
   "outputs": [],
   "source": [
    "# for i in range(3, 200):\n",
    "#     A, _ = generate_matrix_and_vector(i)\n",
    "#     M = jacobi_iteration_matrix(A)\n",
    "#     rho = spectral_radius(M)\n",
    "#     print(f\"n = {i}, rho = {rho}\")"
   ],
   "metadata": {
    "collapsed": false,
    "ExecuteTime": {
     "end_time": "2024-06-13T19:49:59.787352Z",
     "start_time": "2024-06-13T19:49:59.782352Z"
    }
   },
   "id": "be147005a20ec7f3",
   "execution_count": 174
  },
  {
   "cell_type": "code",
   "outputs": [],
   "source": [
    "def jacobi_method(A, b, rho, typed=1, stop=1):\n",
    "    iterations = 0\n",
    "    if typed == 1:\n",
    "        x = np.zeros_like(b)\n",
    "    else:\n",
    "        x = np.array([100 if i % 2 == 0 else -100 for i in range(b.shape[0])])\n",
    "        \n",
    "    D = np.diag(A)\n",
    "    R = A - np.diagflat(D)\n",
    "    while True:\n",
    "        x_new = (b - R @ x) / D\n",
    "        iterations += 1\n",
    "        if stop == 1:\n",
    "            if np.linalg.norm(x_new - x) < rho:\n",
    "                break\n",
    "        else:\n",
    "            if np.linalg.norm(A @ x_new - b) < rho:\n",
    "                break\n",
    "        x = x_new\n",
    "            \n",
    "    return x_new, iterations"
   ],
   "metadata": {
    "collapsed": false,
    "ExecuteTime": {
     "end_time": "2024-06-13T19:49:59.794018Z",
     "start_time": "2024-06-13T19:49:59.788170Z"
    }
   },
   "id": "32f04b79ac7d7f98",
   "execution_count": 175
  },
  {
   "cell_type": "code",
   "outputs": [],
   "source": [
    "rhos = [1e-1, 1e-3, 1e-5, 1e-7, 1e-9, 1e-11]"
   ],
   "metadata": {
    "collapsed": false,
    "ExecuteTime": {
     "end_time": "2024-06-13T19:49:59.799017Z",
     "start_time": "2024-06-13T19:49:59.795015Z"
    }
   },
   "id": "214fe2cca4cd00d3",
   "execution_count": 176
  },
  {
   "cell_type": "code",
   "outputs": [],
   "source": [
    "def generate_iterations_table(typed, stop):\n",
    "    table = \"\\\\noindent\\\\begin{minipage}{\\\\linewidth}\\n\\\\centering\\n\"\n",
    "    table += \"\\\\begin{tabular}{|c|\" + \"c|\" * len(rhos) + \"}\\n\\\\hline\\n\"\n",
    "    table += \"\\\\multicolumn{1}{|c|}{} & \\\\multicolumn{\" + str(len(rhos)) + \"}{c|}{\\\\textbf{$\\\\rho$}} \\\\\\\\ \\\\cline{2-\" + str(len(rhos) + 1) + \"}\\n\"\n",
    "    table += \"\\\\multicolumn{1}{|c|}{\\\\multirow{-2}{*}{\\\\textbf{$n$}}} \"\n",
    "    for rho in rhos:\n",
    "        table += f\"& {rho} \"\n",
    "    table += \"\\\\\\\\ \\\\hline\\n\"\n",
    "\n",
    "    n_values = list(range(5, 431, 25)) + [500,1000]\n",
    "\n",
    "    for n in n_values:\n",
    "        row = f\"{n} \"\n",
    "        for rho in rhos:\n",
    "            A, b = generate_matrix_and_vector(n)\n",
    "            _, iterations = jacobi_method(A, b, rho=rho, typed=typed, stop=stop)\n",
    "            row += f\"& {iterations} \"\n",
    "        row += \"\\\\\\\\ \\\\hline\\n\"\n",
    "        table += row\n",
    "\n",
    "    table += \"\\\\end{tabular}\\n\"\n",
    "    table += \"\\\\captionsetup{justification=centering}\\n\"\n",
    "    if typed == 1 and stop == 1:\n",
    "        table += \"\\\\captionof{table}{Liczba iteracji dla różnych wartości n dla wektora [0, 0, ...] i pierwszego kryterium stopu}\\n\\\\end{minipage}\"\n",
    "    elif typed == 1 and stop == 2:\n",
    "        table += \"\\\\captionof{table}{Liczba iteracji dla różnych wartości n dla wektora [0, 0, ...] i drugiego kryterium stopu}\\n\\\\end{minipage}\"\n",
    "    elif typed == 2 and stop == 1:\n",
    "        table += \"\\\\captionof{table}{Liczba iteracji dla różnych wartości n dla wektora [100, -100, ...] i pierwszego kryterium stopu}\\n\\\\end{minipage}\"\n",
    "    else:\n",
    "        table += \"\\\\captionof{table}{Liczba iteracji dla różnych wartości n dla wektora [100, -100, ...] i drugiego kryterium stopu}\\n\\\\end{minipage}\"\n",
    "    return table"
   ],
   "metadata": {
    "collapsed": false,
    "ExecuteTime": {
     "end_time": "2024-06-13T19:49:59.806027Z",
     "start_time": "2024-06-13T19:49:59.800015Z"
    }
   },
   "id": "30ea6ca60f0ced40",
   "execution_count": 177
  },
  {
   "cell_type": "code",
   "outputs": [],
   "source": [
    "def generate_difference_table(typed, stop):\n",
    "    table = \"\\\\noindent\\\\begin{minipage}{\\\\linewidth}\\n\\\\centering\\n\"\n",
    "    table += \"\\\\begin{tabular}{|c|\" + \"c|\" * len(rhos) + \"}\\n\\\\hline\\n\"\n",
    "    table += \"\\\\multicolumn{1}{|c|}{} & \\\\multicolumn{\" + str(len(rhos)) + \"}{c|}{\\\\textbf{$\\\\rho$}} \\\\\\\\ \\\\cline{2-\" + str(len(rhos) + 1) + \"}\\n\"\n",
    "    table += \"\\\\multicolumn{1}{|c|}{\\\\multirow{-2}{*}{\\\\textbf{$n$}}} \"\n",
    "    for rho in rhos:\n",
    "        table += f\"& {rho} \"\n",
    "    table += \"\\\\\\\\ \\\\hline\\n\"\n",
    "\n",
    "    n_values = list(range(5, 431, 25)) + [500,1000]\n",
    "\n",
    "    for n in n_values:\n",
    "        row = f\"{n} \"\n",
    "        for rho in rhos:\n",
    "            A, b = generate_matrix_and_vector(n)\n",
    "            x, _ = jacobi_method(A, b, rho=rho, typed=typed, stop=stop)\n",
    "            diff = difference(b, A @ x)\n",
    "            row += f\"& {diff:.8f} \"\n",
    "        row += \"\\\\\\\\ \\\\hline\\n\"\n",
    "        table += row\n",
    "\n",
    "    table += \"\\\\end{tabular}\\n\"\n",
    "    table += \"\\\\captionsetup{justification=centering}\\n\"\n",
    "    if typed == 1 and stop == 1:\n",
    "        table += \"\\\\captionof{table}{Różnice dla różnych wartości n dla wektora [0, 0, ...] i pierwszego kryterium stopu}\\n\\\\end{minipage}\"\n",
    "    elif typed == 1 and stop == 2:\n",
    "        table += \"\\\\captionof{table}{Różnice dla różnych wartości n dla wektora [0, 0, ...] i drugiego kryterium stopu}\\n\\\\end{minipage}\"\n",
    "    elif typed == 2 and stop == 1:\n",
    "        table += \"\\\\captionof{table}{Różnice dla różnych wartości n dla wektora [100, -100, ...] i pierwszego kryterium stopu}\\n\\\\end{minipage}\"\n",
    "    else:\n",
    "        table += \"\\\\captionof{table}{Różnice dla różnych wartości n dla wektora [100, -100, ...] i drugiego kryterium stopu}\\n\\\\end{minipage}\"\n",
    "    return table"
   ],
   "metadata": {
    "collapsed": false,
    "ExecuteTime": {
     "end_time": "2024-06-13T19:49:59.812920Z",
     "start_time": "2024-06-13T19:49:59.807021Z"
    }
   },
   "id": "636ce65feada7e3d",
   "execution_count": 178
  },
  {
   "cell_type": "code",
   "outputs": [],
   "source": [
    "def generate_execution_time_table(typed, stop):\n",
    "    table = \"\\\\noindent\\\\begin{minipage}{\\\\linewidth}\\n\\\\centering\\n\"\n",
    "    table += \"\\\\begin{tabular}{|c|\" + \"c|\" * len(rhos) + \"}\\n\\\\hline\\n\"\n",
    "    table += \"\\\\multicolumn{1}{|c|}{} & \\\\multicolumn{\" + str(len(rhos)) + \"}{c|}{\\\\textbf{$\\\\rho$}} \\\\\\\\ \\\\cline{2-\" + str(len(rhos) + 1) + \"}\\n\"\n",
    "    table += \"\\\\multicolumn{1}{|c|}{\\\\multirow{-2}{*}{\\\\textbf{$n$}}} \"\n",
    "    for rho in rhos:\n",
    "        table += f\"& {rho} \"\n",
    "    table += \"\\\\\\\\ \\\\hline\\n\"\n",
    "\n",
    "    n_values = list(range(5, 431, 25)) + [500,1000]\n",
    "    \n",
    "    for n in n_values:\n",
    "        row = f\"{n} \"\n",
    "        for rho in rhos:\n",
    "            A, b = generate_matrix_and_vector(n)\n",
    "            exec_time = timeit.timeit(lambda: jacobi_method(A, b, rho=rho, typed=typed, stop=stop), number=1)\n",
    "            row += f\"& {exec_time:.8f} \"\n",
    "        row += \"\\\\\\\\ \\\\hline\\n\"\n",
    "        table += row\n",
    "\n",
    "    table += \"\\\\end{tabular}\\n\"\n",
    "    table += \"\\\\captionsetup{justification=centering}\\n\"\n",
    "    if typed == 1 and stop == 1:\n",
    "        table += \"\\\\captionof{table}{Czasy wykonania w sekundach dla różnych wartości n dla wektora [0, 0, ...] i pierwszego kryterium stopu}\\n\\\\end{minipage}\"\n",
    "    elif typed == 1 and stop == 2:\n",
    "        table += \"\\\\captionof{table}{Czasy wykonania w sekundach dla różnych wartości n dla wektora [0, 0, ...] i drugiego kryterium stopu}\\n\\\\end{minipage}\"\n",
    "    elif typed == 2 and stop == 1:\n",
    "        table += \"\\\\captionof{table}{Czasy wykonania w sekundach dla różnych wartości n dla wektora [100, -100, ...] i pierwszego kryterium stopu}\\n\\\\end{minipage}\"\n",
    "    else:\n",
    "        table += \"\\\\captionof{table}{Czasy wykonania w sekundach dla różnych wartości n dla wektora [100, -100, ...] i drugiego kryterium stopu}\\n\\\\end{minipage}\"\n",
    "    return table"
   ],
   "metadata": {
    "collapsed": false,
    "ExecuteTime": {
     "end_time": "2024-06-13T19:49:59.821897Z",
     "start_time": "2024-06-13T19:49:59.813897Z"
    }
   },
   "id": "ec5aa57579831ce0",
   "execution_count": 179
  },
  {
   "cell_type": "code",
   "outputs": [
    {
     "name": "stdout",
     "output_type": "stream",
     "text": [
      "\\noindent\\begin{minipage}{\\linewidth}\n",
      "\\centering\n",
      "\\begin{tabular}{|c|c|c|c|c|c|c|}\n",
      "\\hline\n",
      "\\multicolumn{1}{|c|}{} & \\multicolumn{6}{c|}{\\textbf{$\\rho$}} \\\\ \\cline{2-7}\n",
      "\\multicolumn{1}{|c|}{\\multirow{-2}{*}{\\textbf{$n$}}} & 0.1 & 0.001 & 1e-05 & 1e-07 & 1e-09 & 1e-11 \\\\ \\hline\n",
      "5 & 2 & 4 & 7 & 9 & 12 & 14 \\\\ \\hline\n",
      "30 & 3 & 5 & 7 & 9 & 12 & 14 \\\\ \\hline\n",
      "55 & 3 & 5 & 7 & 9 & 12 & 14 \\\\ \\hline\n",
      "80 & 3 & 5 & 7 & 9 & 12 & 14 \\\\ \\hline\n",
      "105 & 3 & 5 & 7 & 9 & 12 & 14 \\\\ \\hline\n",
      "130 & 3 & 5 & 7 & 9 & 12 & 14 \\\\ \\hline\n",
      "155 & 3 & 5 & 7 & 9 & 12 & 14 \\\\ \\hline\n",
      "180 & 3 & 5 & 7 & 9 & 12 & 14 \\\\ \\hline\n",
      "205 & 3 & 5 & 7 & 9 & 12 & 14 \\\\ \\hline\n",
      "230 & 3 & 5 & 7 & 9 & 12 & 14 \\\\ \\hline\n",
      "255 & 3 & 5 & 7 & 9 & 12 & 14 \\\\ \\hline\n",
      "280 & 3 & 5 & 7 & 9 & 12 & 14 \\\\ \\hline\n",
      "305 & 3 & 5 & 7 & 9 & 12 & 14 \\\\ \\hline\n",
      "330 & 3 & 5 & 7 & 9 & 12 & 14 \\\\ \\hline\n",
      "355 & 3 & 5 & 7 & 9 & 12 & 14 \\\\ \\hline\n",
      "380 & 3 & 5 & 7 & 9 & 12 & 14 \\\\ \\hline\n",
      "405 & 3 & 5 & 7 & 9 & 12 & 14 \\\\ \\hline\n",
      "430 & 3 & 5 & 7 & 9 & 12 & 14 \\\\ \\hline\n",
      "500 & 3 & 5 & 7 & 9 & 12 & 14 \\\\ \\hline\n",
      "1000 & 3 & 5 & 7 & 9 & 12 & 14 \\\\ \\hline\n",
      "\\end{tabular}\n",
      "\\captionsetup{justification=centering}\n",
      "\\captionof{table}{Liczba iteracji dla różnych wartości n dla wektora [0, 0, ...] i pierwszego kryterium stopu}\n",
      "\\end{minipage}\n"
     ]
    }
   ],
   "source": [
    "print(generate_iterations_table(1, 1))"
   ],
   "metadata": {
    "collapsed": false,
    "ExecuteTime": {
     "end_time": "2024-06-13T19:50:02.591570Z",
     "start_time": "2024-06-13T19:49:59.822898Z"
    }
   },
   "id": "bcdb97f2dae12301",
   "execution_count": 180
  },
  {
   "cell_type": "code",
   "outputs": [
    {
     "name": "stdout",
     "output_type": "stream",
     "text": [
      "\\noindent\\begin{minipage}{\\linewidth}\n",
      "\\centering\n",
      "\\begin{tabular}{|c|c|c|c|c|c|c|}\n",
      "\\hline\n",
      "\\multicolumn{1}{|c|}{} & \\multicolumn{6}{c|}{\\textbf{$\\rho$}} \\\\ \\cline{2-7}\n",
      "\\multicolumn{1}{|c|}{\\multirow{-2}{*}{\\textbf{$n$}}} & 0.1 & 0.001 & 1e-05 & 1e-07 & 1e-09 & 1e-11 \\\\ \\hline\n",
      "5 & 0.03203668 & 0.00078881 & 0.00000267 & 0.00000007 & 0.00000000 & 0.00000000 \\\\ \\hline\n",
      "30 & 0.00586995 & 0.00013075 & 0.00000240 & 0.00000008 & 0.00000000 & 0.00000000 \\\\ \\hline\n",
      "55 & 0.00697123 & 0.00014847 & 0.00000232 & 0.00000008 & 0.00000000 & 0.00000000 \\\\ \\hline\n",
      "80 & 0.00804614 & 0.00015937 & 0.00000228 & 0.00000008 & 0.00000000 & 0.00000000 \\\\ \\hline\n",
      "105 & 0.00883454 & 0.00016729 & 0.00000230 & 0.00000008 & 0.00000000 & 0.00000000 \\\\ \\hline\n",
      "130 & 0.00945857 & 0.00017350 & 0.00000233 & 0.00000008 & 0.00000000 & 0.00000000 \\\\ \\hline\n",
      "155 & 0.00997413 & 0.00017863 & 0.00000235 & 0.00000008 & 0.00000000 & 0.00000000 \\\\ \\hline\n",
      "180 & 0.01041403 & 0.00018299 & 0.00000237 & 0.00000008 & 0.00000000 & 0.00000000 \\\\ \\hline\n",
      "205 & 0.01079715 & 0.00018678 & 0.00000238 & 0.00000008 & 0.00000000 & 0.00000000 \\\\ \\hline\n",
      "230 & 0.01113688 & 0.00019013 & 0.00000240 & 0.00000008 & 0.00000000 & 0.00000000 \\\\ \\hline\n",
      "255 & 0.01144172 & 0.00019314 & 0.00000241 & 0.00000008 & 0.00000000 & 0.00000000 \\\\ \\hline\n",
      "280 & 0.01171845 & 0.00019586 & 0.00000242 & 0.00000009 & 0.00000000 & 0.00000000 \\\\ \\hline\n",
      "305 & 0.01197159 & 0.00019836 & 0.00000243 & 0.00000009 & 0.00000000 & 0.00000000 \\\\ \\hline\n",
      "330 & 0.01220504 & 0.00020065 & 0.00000244 & 0.00000009 & 0.00000000 & 0.00000000 \\\\ \\hline\n",
      "355 & 0.01242148 & 0.00020278 & 0.00000245 & 0.00000009 & 0.00000000 & 0.00000000 \\\\ \\hline\n",
      "380 & 0.01262335 & 0.00020477 & 0.00000245 & 0.00000009 & 0.00000000 & 0.00000000 \\\\ \\hline\n",
      "405 & 0.01281238 & 0.00020663 & 0.00000246 & 0.00000009 & 0.00000000 & 0.00000000 \\\\ \\hline\n",
      "430 & 0.01299021 & 0.00020837 & 0.00000247 & 0.00000009 & 0.00000000 & 0.00000000 \\\\ \\hline\n",
      "500 & 0.01343817 & 0.00021277 & 0.00000248 & 0.00000009 & 0.00000000 & 0.00000000 \\\\ \\hline\n",
      "1000 & 0.01550066 & 0.00023299 & 0.00000256 & 0.00000009 & 0.00000000 & 0.00000000 \\\\ \\hline\n",
      "\\end{tabular}\n",
      "\\captionsetup{justification=centering}\n",
      "\\captionof{table}{Różnice dla różnych wartości n dla wektora [0, 0, ...] i pierwszego kryterium stopu}\n",
      "\\end{minipage}\n"
     ]
    }
   ],
   "source": [
    "print(generate_difference_table(1, 1))"
   ],
   "metadata": {
    "collapsed": false,
    "ExecuteTime": {
     "end_time": "2024-06-13T19:50:05.361338Z",
     "start_time": "2024-06-13T19:50:02.592562Z"
    }
   },
   "id": "9fb3661ad3861367",
   "execution_count": 181
  },
  {
   "cell_type": "code",
   "outputs": [
    {
     "name": "stdout",
     "output_type": "stream",
     "text": [
      "\\noindent\\begin{minipage}{\\linewidth}\n",
      "\\centering\n",
      "\\begin{tabular}{|c|c|c|c|c|c|c|}\n",
      "\\hline\n",
      "\\multicolumn{1}{|c|}{} & \\multicolumn{6}{c|}{\\textbf{$\\rho$}} \\\\ \\cline{2-7}\n",
      "\\multicolumn{1}{|c|}{\\multirow{-2}{*}{\\textbf{$n$}}} & 0.1 & 0.001 & 1e-05 & 1e-07 & 1e-09 & 1e-11 \\\\ \\hline\n",
      "5 & 0.00011250 & 0.00011640 & 0.00006850 & 0.00007820 & 0.00009500 & 0.00010910 \\\\ \\hline\n",
      "30 & 0.00005170 & 0.00007180 & 0.00007200 & 0.00008330 & 0.00010820 & 0.00011490 \\\\ \\hline\n",
      "55 & 0.00007730 & 0.00006380 & 0.00013220 & 0.00017060 & 0.00017460 & 0.00015570 \\\\ \\hline\n",
      "80 & 0.00008080 & 0.00006700 & 0.00009820 & 0.00009830 & 0.00011380 & 0.00012440 \\\\ \\hline\n",
      "105 & 0.00038060 & 0.00071810 & 0.00089630 & 0.00105040 & 0.00110620 & 0.00137160 \\\\ \\hline\n",
      "130 & 0.00057150 & 0.00075180 & 0.00076270 & 0.00086530 & 0.00132250 & 0.00160300 \\\\ \\hline\n",
      "155 & 0.00038740 & 0.00067950 & 0.00079070 & 0.00072500 & 0.00093890 & 0.00123270 \\\\ \\hline\n",
      "180 & 0.00038100 & 0.00045280 & 0.00058510 & 0.00080420 & 0.00097770 & 0.00113510 \\\\ \\hline\n",
      "205 & 0.00041120 & 0.00064580 & 0.00071190 & 0.00096150 & 0.00106690 & 0.00113480 \\\\ \\hline\n",
      "230 & 0.00042860 & 0.00065900 & 0.00080900 & 0.00101120 & 0.00150130 & 0.00154170 \\\\ \\hline\n",
      "255 & 0.00042400 & 0.00058590 & 0.00074990 & 0.00084750 & 0.00116690 & 0.00122370 \\\\ \\hline\n",
      "280 & 0.00045930 & 0.00087500 & 0.00077230 & 0.00101800 & 0.00112850 & 0.00146590 \\\\ \\hline\n",
      "305 & 0.00062370 & 0.00072360 & 0.00111160 & 0.00102800 & 0.00130940 & 0.00161480 \\\\ \\hline\n",
      "330 & 0.00071770 & 0.00064320 & 0.00082320 & 0.00105600 & 0.00153800 & 0.00157540 \\\\ \\hline\n",
      "355 & 0.00101910 & 0.00108290 & 0.00089200 & 0.00104510 & 0.00146550 & 0.00174710 \\\\ \\hline\n",
      "380 & 0.00104790 & 0.00136220 & 0.00129690 & 0.00139390 & 0.00165740 & 0.00186990 \\\\ \\hline\n",
      "405 & 0.00114030 & 0.00119220 & 0.00183840 & 0.00181920 & 0.00202240 & 0.00193490 \\\\ \\hline\n",
      "430 & 0.00106380 & 0.00282580 & 0.00162590 & 0.00161790 & 0.00188150 & 0.00187440 \\\\ \\hline\n",
      "500 & 0.00111040 & 0.00165740 & 0.00177350 & 0.00173240 & 0.00210960 & 0.00212160 \\\\ \\hline\n",
      "1000 & 0.00552540 & 0.00511620 & 0.00692370 & 0.01400630 & 0.00607890 & 0.00627880 \\\\ \\hline\n",
      "\\end{tabular}\n",
      "\\captionsetup{justification=centering}\n",
      "\\captionof{table}{Czasy wykonania w sekundach dla różnych wartości n dla wektora [0, 0, ...] i pierwszego kryterium stopu}\n",
      "\\end{minipage}\n"
     ]
    }
   ],
   "source": [
    "print(generate_execution_time_table(1, 1))"
   ],
   "metadata": {
    "collapsed": false,
    "ExecuteTime": {
     "end_time": "2024-06-13T19:50:08.175302Z",
     "start_time": "2024-06-13T19:50:05.362334Z"
    }
   },
   "id": "4ded7a341c803f15",
   "execution_count": 182
  },
  {
   "cell_type": "code",
   "outputs": [
    {
     "name": "stdout",
     "output_type": "stream",
     "text": [
      "\\noindent\\begin{minipage}{\\linewidth}\n",
      "\\centering\n",
      "\\begin{tabular}{|c|c|c|c|c|c|c|}\n",
      "\\hline\n",
      "\\multicolumn{1}{|c|}{} & \\multicolumn{6}{c|}{\\textbf{$\\rho$}} \\\\ \\cline{2-7}\n",
      "\\multicolumn{1}{|c|}{\\multirow{-2}{*}{\\textbf{$n$}}} & 0.1 & 0.001 & 1e-05 & 1e-07 & 1e-09 & 1e-11 \\\\ \\hline\n",
      "5 & 2 & 4 & 7 & 9 & 12 & 14 \\\\ \\hline\n",
      "30 & 3 & 5 & 7 & 9 & 12 & 14 \\\\ \\hline\n",
      "55 & 3 & 5 & 7 & 9 & 12 & 14 \\\\ \\hline\n",
      "80 & 3 & 5 & 7 & 9 & 12 & 14 \\\\ \\hline\n",
      "105 & 3 & 5 & 7 & 9 & 12 & 14 \\\\ \\hline\n",
      "130 & 3 & 5 & 7 & 9 & 12 & 14 \\\\ \\hline\n",
      "155 & 3 & 5 & 7 & 9 & 12 & 14 \\\\ \\hline\n",
      "180 & 3 & 5 & 7 & 9 & 12 & 14 \\\\ \\hline\n",
      "205 & 3 & 5 & 7 & 9 & 12 & 14 \\\\ \\hline\n",
      "230 & 3 & 5 & 7 & 9 & 12 & 14 \\\\ \\hline\n",
      "255 & 3 & 5 & 7 & 9 & 12 & 14 \\\\ \\hline\n",
      "280 & 3 & 5 & 7 & 9 & 12 & 14 \\\\ \\hline\n",
      "305 & 3 & 5 & 7 & 9 & 12 & 14 \\\\ \\hline\n",
      "330 & 3 & 5 & 7 & 9 & 12 & 14 \\\\ \\hline\n",
      "355 & 3 & 5 & 7 & 9 & 12 & 14 \\\\ \\hline\n",
      "380 & 3 & 5 & 7 & 9 & 12 & 14 \\\\ \\hline\n",
      "405 & 3 & 5 & 7 & 9 & 12 & 14 \\\\ \\hline\n",
      "430 & 3 & 5 & 7 & 9 & 12 & 14 \\\\ \\hline\n",
      "500 & 3 & 5 & 7 & 9 & 12 & 14 \\\\ \\hline\n",
      "1000 & 3 & 5 & 7 & 10 & 12 & 14 \\\\ \\hline\n",
      "\\end{tabular}\n",
      "\\captionsetup{justification=centering}\n",
      "\\captionof{table}{Liczba iteracji dla różnych wartości n dla wektora [0, 0, ...] i drugiego kryterium stopu}\n",
      "\\end{minipage}\n"
     ]
    }
   ],
   "source": [
    "print(generate_iterations_table(1, 2))"
   ],
   "metadata": {
    "collapsed": false,
    "ExecuteTime": {
     "end_time": "2024-06-13T19:50:11.125691Z",
     "start_time": "2024-06-13T19:50:08.176296Z"
    }
   },
   "id": "32ef7f1122e7c5e6",
   "execution_count": 183
  },
  {
   "cell_type": "code",
   "outputs": [
    {
     "name": "stdout",
     "output_type": "stream",
     "text": [
      "\\noindent\\begin{minipage}{\\linewidth}\n",
      "\\centering\n",
      "\\begin{tabular}{|c|c|c|c|c|c|c|}\n",
      "\\hline\n",
      "\\multicolumn{1}{|c|}{} & \\multicolumn{6}{c|}{\\textbf{$\\rho$}} \\\\ \\cline{2-7}\n",
      "\\multicolumn{1}{|c|}{\\multirow{-2}{*}{\\textbf{$n$}}} & 0.1 & 0.001 & 1e-05 & 1e-07 & 1e-09 & 1e-11 \\\\ \\hline\n",
      "5 & 0.03203668 & 0.00078881 & 0.00000267 & 0.00000007 & 0.00000000 & 0.00000000 \\\\ \\hline\n",
      "30 & 0.00586995 & 0.00013075 & 0.00000240 & 0.00000008 & 0.00000000 & 0.00000000 \\\\ \\hline\n",
      "55 & 0.00697123 & 0.00014847 & 0.00000232 & 0.00000008 & 0.00000000 & 0.00000000 \\\\ \\hline\n",
      "80 & 0.00804614 & 0.00015937 & 0.00000228 & 0.00000008 & 0.00000000 & 0.00000000 \\\\ \\hline\n",
      "105 & 0.00883454 & 0.00016729 & 0.00000230 & 0.00000008 & 0.00000000 & 0.00000000 \\\\ \\hline\n",
      "130 & 0.00945857 & 0.00017350 & 0.00000233 & 0.00000008 & 0.00000000 & 0.00000000 \\\\ \\hline\n",
      "155 & 0.00997413 & 0.00017863 & 0.00000235 & 0.00000008 & 0.00000000 & 0.00000000 \\\\ \\hline\n",
      "180 & 0.01041403 & 0.00018299 & 0.00000237 & 0.00000008 & 0.00000000 & 0.00000000 \\\\ \\hline\n",
      "205 & 0.01079715 & 0.00018678 & 0.00000238 & 0.00000008 & 0.00000000 & 0.00000000 \\\\ \\hline\n",
      "230 & 0.01113688 & 0.00019013 & 0.00000240 & 0.00000008 & 0.00000000 & 0.00000000 \\\\ \\hline\n",
      "255 & 0.01144172 & 0.00019314 & 0.00000241 & 0.00000008 & 0.00000000 & 0.00000000 \\\\ \\hline\n",
      "280 & 0.01171845 & 0.00019586 & 0.00000242 & 0.00000009 & 0.00000000 & 0.00000000 \\\\ \\hline\n",
      "305 & 0.01197159 & 0.00019836 & 0.00000243 & 0.00000009 & 0.00000000 & 0.00000000 \\\\ \\hline\n",
      "330 & 0.01220504 & 0.00020065 & 0.00000244 & 0.00000009 & 0.00000000 & 0.00000000 \\\\ \\hline\n",
      "355 & 0.01242148 & 0.00020278 & 0.00000245 & 0.00000009 & 0.00000000 & 0.00000000 \\\\ \\hline\n",
      "380 & 0.01262335 & 0.00020477 & 0.00000245 & 0.00000009 & 0.00000000 & 0.00000000 \\\\ \\hline\n",
      "405 & 0.01281238 & 0.00020663 & 0.00000246 & 0.00000009 & 0.00000000 & 0.00000000 \\\\ \\hline\n",
      "430 & 0.01299021 & 0.00020837 & 0.00000247 & 0.00000009 & 0.00000000 & 0.00000000 \\\\ \\hline\n",
      "500 & 0.01343817 & 0.00021277 & 0.00000248 & 0.00000009 & 0.00000000 & 0.00000000 \\\\ \\hline\n",
      "1000 & 0.01550066 & 0.00023299 & 0.00000256 & 0.00000001 & 0.00000000 & 0.00000000 \\\\ \\hline\n",
      "\\end{tabular}\n",
      "\\captionsetup{justification=centering}\n",
      "\\captionof{table}{Różnice dla różnych wartości n dla wektora [0, 0, ...] i drugiego kryterium stopu}\n",
      "\\end{minipage}\n"
     ]
    }
   ],
   "source": [
    "print(generate_difference_table(1, 2))"
   ],
   "metadata": {
    "collapsed": false,
    "ExecuteTime": {
     "end_time": "2024-06-13T19:50:13.993631Z",
     "start_time": "2024-06-13T19:50:11.127734Z"
    }
   },
   "id": "efa1fe085ff84425",
   "execution_count": 184
  },
  {
   "cell_type": "code",
   "outputs": [
    {
     "name": "stdout",
     "output_type": "stream",
     "text": [
      "\\noindent\\begin{minipage}{\\linewidth}\n",
      "\\centering\n",
      "\\begin{tabular}{|c|c|c|c|c|c|c|}\n",
      "\\hline\n",
      "\\multicolumn{1}{|c|}{} & \\multicolumn{6}{c|}{\\textbf{$\\rho$}} \\\\ \\cline{2-7}\n",
      "\\multicolumn{1}{|c|}{\\multirow{-2}{*}{\\textbf{$n$}}} & 0.1 & 0.001 & 1e-05 & 1e-07 & 1e-09 & 1e-11 \\\\ \\hline\n",
      "5 & 0.00011330 & 0.00007480 & 0.00010340 & 0.00016560 & 0.00015040 & 0.00017000 \\\\ \\hline\n",
      "30 & 0.00010410 & 0.00008950 & 0.00011030 & 0.00012940 & 0.00015190 & 0.00017050 \\\\ \\hline\n",
      "55 & 0.00009110 & 0.00007400 & 0.00009500 & 0.00014520 & 0.00016300 & 0.00017920 \\\\ \\hline\n",
      "80 & 0.00009210 & 0.00007680 & 0.00009360 & 0.00011010 & 0.00013430 & 0.00015640 \\\\ \\hline\n",
      "105 & 0.00057720 & 0.00128130 & 0.00143230 & 0.00175490 & 0.00231920 & 0.00307570 \\\\ \\hline\n",
      "130 & 0.00056210 & 0.00090000 & 0.00087830 & 0.00187430 & 0.00232650 & 0.00229080 \\\\ \\hline\n",
      "155 & 0.00059660 & 0.00082940 & 0.00109810 & 0.00127150 & 0.00151520 & 0.00225260 \\\\ \\hline\n",
      "180 & 0.00064980 & 0.00074810 & 0.00144500 & 0.00136970 & 0.00202160 & 0.00190110 \\\\ \\hline\n",
      "205 & 0.00063720 & 0.00093920 & 0.00121330 & 0.00153820 & 0.00191880 & 0.00315720 \\\\ \\hline\n",
      "230 & 0.00092210 & 0.00142580 & 0.00194180 & 0.00262410 & 0.00291920 & 0.00358330 \\\\ \\hline\n",
      "255 & 0.00096080 & 0.00132940 & 0.00179190 & 0.00243770 & 0.00327690 & 0.00341530 \\\\ \\hline\n",
      "280 & 0.00080700 & 0.00097450 & 0.00135500 & 0.00152000 & 0.00208660 & 0.00224740 \\\\ \\hline\n",
      "305 & 0.00076910 & 0.00119290 & 0.00153600 & 0.00171310 & 0.00218610 & 0.00242760 \\\\ \\hline\n",
      "330 & 0.00104020 & 0.00152670 & 0.00139010 & 0.00176400 & 0.00215670 & 0.00274180 \\\\ \\hline\n",
      "355 & 0.00116590 & 0.00146010 & 0.00168350 & 0.00200390 & 0.00247710 & 0.00294640 \\\\ \\hline\n",
      "380 & 0.00112190 & 0.00197920 & 0.00239860 & 0.00285080 & 0.00370120 & 0.00427400 \\\\ \\hline\n",
      "405 & 0.00133530 & 0.00159500 & 0.00183740 & 0.00224350 & 0.00274670 & 0.00284850 \\\\ \\hline\n",
      "430 & 0.00121260 & 0.00163120 & 0.00193590 & 0.00239050 & 0.00268460 & 0.00312400 \\\\ \\hline\n",
      "500 & 0.00148640 & 0.00180500 & 0.00213090 & 0.00232020 & 0.00303650 & 0.00446400 \\\\ \\hline\n",
      "1000 & 0.00630940 & 0.00646260 & 0.00787010 & 0.00859830 & 0.00989910 & 0.01040740 \\\\ \\hline\n",
      "\\end{tabular}\n",
      "\\captionsetup{justification=centering}\n",
      "\\captionof{table}{Czasy wykonania w sekundach dla różnych wartości n dla wektora [0, 0, ...] i drugiego kryterium stopu}\n",
      "\\end{minipage}\n"
     ]
    }
   ],
   "source": [
    "print(generate_execution_time_table(1, 2))"
   ],
   "metadata": {
    "collapsed": false,
    "ExecuteTime": {
     "end_time": "2024-06-13T19:50:16.922639Z",
     "start_time": "2024-06-13T19:50:13.994630Z"
    }
   },
   "id": "29fdb62b4a2f755",
   "execution_count": 185
  },
  {
   "cell_type": "code",
   "outputs": [
    {
     "name": "stdout",
     "output_type": "stream",
     "text": [
      "\\noindent\\begin{minipage}{\\linewidth}\n",
      "\\centering\n",
      "\\begin{tabular}{|c|c|c|c|c|c|c|}\n",
      "\\hline\n",
      "\\multicolumn{1}{|c|}{} & \\multicolumn{6}{c|}{\\textbf{$\\rho$}} \\\\ \\cline{2-7}\n",
      "\\multicolumn{1}{|c|}{\\multirow{-2}{*}{\\textbf{$n$}}} & 0.1 & 0.001 & 1e-05 & 1e-07 & 1e-09 & 1e-11 \\\\ \\hline\n",
      "5 & 5 & 8 & 10 & 13 & 15 & 18 \\\\ \\hline\n",
      "30 & 6 & 8 & 10 & 13 & 15 & 18 \\\\ \\hline\n",
      "55 & 6 & 8 & 10 & 13 & 15 & 18 \\\\ \\hline\n",
      "80 & 6 & 8 & 10 & 13 & 15 & 18 \\\\ \\hline\n",
      "105 & 6 & 8 & 10 & 13 & 15 & 18 \\\\ \\hline\n",
      "130 & 6 & 8 & 10 & 13 & 15 & 18 \\\\ \\hline\n",
      "155 & 6 & 8 & 10 & 13 & 15 & 18 \\\\ \\hline\n",
      "180 & 6 & 8 & 10 & 13 & 15 & 18 \\\\ \\hline\n",
      "205 & 6 & 8 & 10 & 13 & 15 & 18 \\\\ \\hline\n",
      "230 & 6 & 8 & 10 & 13 & 15 & 18 \\\\ \\hline\n",
      "255 & 6 & 8 & 10 & 13 & 15 & 18 \\\\ \\hline\n",
      "280 & 6 & 8 & 10 & 13 & 15 & 18 \\\\ \\hline\n",
      "305 & 6 & 8 & 10 & 13 & 15 & 18 \\\\ \\hline\n",
      "330 & 6 & 8 & 10 & 13 & 15 & 18 \\\\ \\hline\n",
      "355 & 6 & 8 & 10 & 13 & 15 & 18 \\\\ \\hline\n",
      "380 & 6 & 8 & 10 & 13 & 15 & 18 \\\\ \\hline\n",
      "405 & 6 & 8 & 10 & 13 & 15 & 18 \\\\ \\hline\n",
      "430 & 6 & 8 & 10 & 13 & 15 & 18 \\\\ \\hline\n",
      "500 & 6 & 8 & 10 & 13 & 15 & 18 \\\\ \\hline\n",
      "1000 & 6 & 8 & 10 & 13 & 15 & 18 \\\\ \\hline\n",
      "\\end{tabular}\n",
      "\\captionsetup{justification=centering}\n",
      "\\captionof{table}{Liczba iteracji dla różnych wartości n dla wektora [100, -100, ...] i pierwszego kryterium stopu}\n",
      "\\end{minipage}\n"
     ]
    }
   ],
   "source": [
    "print(generate_iterations_table(2, 1))"
   ],
   "metadata": {
    "collapsed": false,
    "ExecuteTime": {
     "end_time": "2024-06-13T19:50:19.810535Z",
     "start_time": "2024-06-13T19:50:16.923634Z"
    }
   },
   "id": "749c9744692e85a5",
   "execution_count": 186
  },
  {
   "cell_type": "code",
   "outputs": [
    {
     "name": "stdout",
     "output_type": "stream",
     "text": [
      "\\noindent\\begin{minipage}{\\linewidth}\n",
      "\\centering\n",
      "\\begin{tabular}{|c|c|c|c|c|c|c|}\n",
      "\\hline\n",
      "\\multicolumn{1}{|c|}{} & \\multicolumn{6}{c|}{\\textbf{$\\rho$}} \\\\ \\cline{2-7}\n",
      "\\multicolumn{1}{|c|}{\\multirow{-2}{*}{\\textbf{$n$}}} & 0.1 & 0.001 & 1e-05 & 1e-07 & 1e-09 & 1e-11 \\\\ \\hline\n",
      "5 & 0.06864039 & 0.00033275 & 0.00000748 & 0.00000003 & 0.00000000 & 0.00000000 \\\\ \\hline\n",
      "30 & 0.01973649 & 0.00032769 & 0.00000680 & 0.00000003 & 0.00000000 & 0.00000000 \\\\ \\hline\n",
      "55 & 0.02118610 & 0.00032018 & 0.00000650 & 0.00000003 & 0.00000000 & 0.00000000 \\\\ \\hline\n",
      "80 & 0.02204760 & 0.00031516 & 0.00000631 & 0.00000003 & 0.00000000 & 0.00000000 \\\\ \\hline\n",
      "105 & 0.02266334 & 0.00031142 & 0.00000617 & 0.00000003 & 0.00000000 & 0.00000000 \\\\ \\hline\n",
      "130 & 0.02314150 & 0.00030842 & 0.00000607 & 0.00000003 & 0.00000000 & 0.00000000 \\\\ \\hline\n",
      "155 & 0.02353316 & 0.00030594 & 0.00000598 & 0.00000003 & 0.00000000 & 0.00000000 \\\\ \\hline\n",
      "180 & 0.02386429 & 0.00030380 & 0.00000590 & 0.00000003 & 0.00000000 & 0.00000000 \\\\ \\hline\n",
      "205 & 0.02415153 & 0.00030194 & 0.00000586 & 0.00000003 & 0.00000000 & 0.00000000 \\\\ \\hline\n",
      "230 & 0.02440482 & 0.00030029 & 0.00000592 & 0.00000003 & 0.00000000 & 0.00000000 \\\\ \\hline\n",
      "255 & 0.02463160 & 0.00029880 & 0.00000597 & 0.00000003 & 0.00000000 & 0.00000000 \\\\ \\hline\n",
      "280 & 0.02483669 & 0.00029745 & 0.00000602 & 0.00000003 & 0.00000000 & 0.00000000 \\\\ \\hline\n",
      "305 & 0.02502406 & 0.00029621 & 0.00000606 & 0.00000003 & 0.00000000 & 0.00000000 \\\\ \\hline\n",
      "330 & 0.02519637 & 0.00029537 & 0.00000610 & 0.00000003 & 0.00000000 & 0.00000000 \\\\ \\hline\n",
      "355 & 0.02535599 & 0.00029695 & 0.00000614 & 0.00000003 & 0.00000000 & 0.00000000 \\\\ \\hline\n",
      "380 & 0.02550455 & 0.00029842 & 0.00000618 & 0.00000003 & 0.00000000 & 0.00000000 \\\\ \\hline\n",
      "405 & 0.02564358 & 0.00029980 & 0.00000621 & 0.00000003 & 0.00000000 & 0.00000000 \\\\ \\hline\n",
      "430 & 0.02577415 & 0.00030110 & 0.00000624 & 0.00000003 & 0.00000000 & 0.00000000 \\\\ \\hline\n",
      "500 & 0.02610262 & 0.00030436 & 0.00000632 & 0.00000003 & 0.00000000 & 0.00000000 \\\\ \\hline\n",
      "1000 & 0.02835640 & 0.00031930 & 0.00000667 & 0.00000003 & 0.00000000 & 0.00000000 \\\\ \\hline\n",
      "\\end{tabular}\n",
      "\\captionsetup{justification=centering}\n",
      "\\captionof{table}{Różnice dla różnych wartości n dla wektora [100, -100, ...] i pierwszego kryterium stopu}\n",
      "\\end{minipage}\n"
     ]
    }
   ],
   "source": [
    "print(generate_difference_table(2, 1))"
   ],
   "metadata": {
    "collapsed": false,
    "ExecuteTime": {
     "end_time": "2024-06-13T19:50:22.619089Z",
     "start_time": "2024-06-13T19:50:19.811451Z"
    }
   },
   "id": "96a6e532a1b6d682",
   "execution_count": 187
  },
  {
   "cell_type": "code",
   "outputs": [
    {
     "name": "stdout",
     "output_type": "stream",
     "text": [
      "\\noindent\\begin{minipage}{\\linewidth}\n",
      "\\centering\n",
      "\\begin{tabular}{|c|c|c|c|c|c|c|}\n",
      "\\hline\n",
      "\\multicolumn{1}{|c|}{} & \\multicolumn{6}{c|}{\\textbf{$\\rho$}} \\\\ \\cline{2-7}\n",
      "\\multicolumn{1}{|c|}{\\multirow{-2}{*}{\\textbf{$n$}}} & 0.1 & 0.001 & 1e-05 & 1e-07 & 1e-09 & 1e-11 \\\\ \\hline\n",
      "5 & 0.00013540 & 0.00013450 & 0.00025660 & 0.00019050 & 0.00016710 & 0.00020370 \\\\ \\hline\n",
      "30 & 0.00011350 & 0.00012170 & 0.00013080 & 0.00020200 & 0.00016960 & 0.00014860 \\\\ \\hline\n",
      "55 & 0.00009170 & 0.00017800 & 0.00012030 & 0.00012260 & 0.00013070 & 0.00015200 \\\\ \\hline\n",
      "80 & 0.00009880 & 0.00011720 & 0.00013570 & 0.00013140 & 0.00013870 & 0.00015890 \\\\ \\hline\n",
      "105 & 0.00067070 & 0.00082350 & 0.00098810 & 0.00151860 & 0.00160540 & 0.00175840 \\\\ \\hline\n",
      "130 & 0.00074040 & 0.00081280 & 0.00091330 & 0.00137180 & 0.00135970 & 0.00220350 \\\\ \\hline\n",
      "155 & 0.00075700 & 0.00079060 & 0.00102800 & 0.00125930 & 0.00151410 & 0.00176410 \\\\ \\hline\n",
      "180 & 0.00068780 & 0.00074600 & 0.00108640 & 0.00125920 & 0.00141060 & 0.00170450 \\\\ \\hline\n",
      "205 & 0.00068910 & 0.00087840 & 0.00114510 & 0.00132700 & 0.00137580 & 0.00188190 \\\\ \\hline\n",
      "230 & 0.00079380 & 0.00103950 & 0.00120410 & 0.00158350 & 0.00170920 & 0.00177110 \\\\ \\hline\n",
      "255 & 0.00081850 & 0.00092780 & 0.00106590 & 0.00145700 & 0.00145760 & 0.00176910 \\\\ \\hline\n",
      "280 & 0.00072980 & 0.00081120 & 0.00105530 & 0.00153150 & 0.00142000 & 0.00157810 \\\\ \\hline\n",
      "305 & 0.00077620 & 0.00098770 & 0.00097740 & 0.00126890 & 0.00145890 & 0.00200750 \\\\ \\hline\n",
      "330 & 0.00106190 & 0.00094750 & 0.00115670 & 0.00140630 & 0.00161190 & 0.00180410 \\\\ \\hline\n",
      "355 & 0.00132870 & 0.00137710 & 0.00161010 & 0.00179710 & 0.00156900 & 0.00195630 \\\\ \\hline\n",
      "380 & 0.00108600 & 0.00145190 & 0.00158880 & 0.00172870 & 0.00191190 & 0.00234930 \\\\ \\hline\n",
      "405 & 0.00115870 & 0.00150090 & 0.00190550 & 0.00232110 & 0.00204300 & 0.00226330 \\\\ \\hline\n",
      "430 & 0.00122050 & 0.00159620 & 0.00211400 & 0.00226060 & 0.00213760 & 0.00256930 \\\\ \\hline\n",
      "500 & 0.00159440 & 0.00205670 & 0.00223790 & 0.00201790 & 0.00235510 & 0.00285390 \\\\ \\hline\n",
      "1000 & 0.00586270 & 0.00730400 & 0.00641560 & 0.00803980 & 0.00729560 & 0.00808730 \\\\ \\hline\n",
      "\\end{tabular}\n",
      "\\captionsetup{justification=centering}\n",
      "\\captionof{table}{Czasy wykonania w sekundach dla różnych wartości n dla wektora [100, -100, ...] i pierwszego kryterium stopu}\n",
      "\\end{minipage}\n"
     ]
    }
   ],
   "source": [
    "print(generate_execution_time_table(2, 1))"
   ],
   "metadata": {
    "collapsed": false,
    "ExecuteTime": {
     "end_time": "2024-06-13T19:50:25.479009Z",
     "start_time": "2024-06-13T19:50:22.620091Z"
    }
   },
   "id": "92364d68d2dbf7ab",
   "execution_count": 188
  },
  {
   "cell_type": "code",
   "outputs": [
    {
     "name": "stdout",
     "output_type": "stream",
     "text": [
      "\\noindent\\begin{minipage}{\\linewidth}\n",
      "\\centering\n",
      "\\begin{tabular}{|c|c|c|c|c|c|c|}\n",
      "\\hline\n",
      "\\multicolumn{1}{|c|}{} & \\multicolumn{6}{c|}{\\textbf{$\\rho$}} \\\\ \\cline{2-7}\n",
      "\\multicolumn{1}{|c|}{\\multirow{-2}{*}{\\textbf{$n$}}} & 0.1 & 0.001 & 1e-05 & 1e-07 & 1e-09 & 1e-11 \\\\ \\hline\n",
      "5 & 6 & 8 & 10 & 13 & 15 & 18 \\\\ \\hline\n",
      "30 & 6 & 8 & 10 & 13 & 15 & 18 \\\\ \\hline\n",
      "55 & 6 & 8 & 10 & 13 & 15 & 18 \\\\ \\hline\n",
      "80 & 6 & 8 & 10 & 13 & 15 & 18 \\\\ \\hline\n",
      "105 & 6 & 8 & 10 & 13 & 15 & 18 \\\\ \\hline\n",
      "130 & 6 & 8 & 10 & 13 & 15 & 18 \\\\ \\hline\n",
      "155 & 6 & 8 & 10 & 13 & 15 & 18 \\\\ \\hline\n",
      "180 & 6 & 8 & 10 & 13 & 15 & 18 \\\\ \\hline\n",
      "205 & 6 & 8 & 10 & 13 & 15 & 18 \\\\ \\hline\n",
      "230 & 6 & 8 & 10 & 13 & 15 & 18 \\\\ \\hline\n",
      "255 & 6 & 8 & 10 & 13 & 15 & 18 \\\\ \\hline\n",
      "280 & 6 & 8 & 10 & 13 & 15 & 18 \\\\ \\hline\n",
      "305 & 6 & 8 & 10 & 13 & 15 & 18 \\\\ \\hline\n",
      "330 & 6 & 8 & 10 & 13 & 15 & 18 \\\\ \\hline\n",
      "355 & 6 & 8 & 10 & 13 & 15 & 18 \\\\ \\hline\n",
      "380 & 6 & 8 & 10 & 13 & 15 & 18 \\\\ \\hline\n",
      "405 & 6 & 8 & 10 & 13 & 15 & 18 \\\\ \\hline\n",
      "430 & 6 & 8 & 10 & 13 & 15 & 18 \\\\ \\hline\n",
      "500 & 6 & 8 & 10 & 13 & 15 & 18 \\\\ \\hline\n",
      "1000 & 6 & 8 & 10 & 13 & 15 & 18 \\\\ \\hline\n",
      "\\end{tabular}\n",
      "\\captionsetup{justification=centering}\n",
      "\\captionof{table}{Liczba iteracji dla różnych wartości n dla wektora [100, -100, ...] i drugiego kryterium stopu}\n",
      "\\end{minipage}\n"
     ]
    }
   ],
   "source": [
    "print(generate_iterations_table(2, 2))"
   ],
   "metadata": {
    "collapsed": false,
    "ExecuteTime": {
     "end_time": "2024-06-13T19:50:28.418746Z",
     "start_time": "2024-06-13T19:50:25.480006Z"
    }
   },
   "id": "b3e022b5a3accfa6",
   "execution_count": 189
  },
  {
   "cell_type": "code",
   "outputs": [
    {
     "name": "stdout",
     "output_type": "stream",
     "text": [
      "\\noindent\\begin{minipage}{\\linewidth}\n",
      "\\centering\n",
      "\\begin{tabular}{|c|c|c|c|c|c|c|}\n",
      "\\hline\n",
      "\\multicolumn{1}{|c|}{} & \\multicolumn{6}{c|}{\\textbf{$\\rho$}} \\\\ \\cline{2-7}\n",
      "\\multicolumn{1}{|c|}{\\multirow{-2}{*}{\\textbf{$n$}}} & 0.1 & 0.001 & 1e-05 & 1e-07 & 1e-09 & 1e-11 \\\\ \\hline\n",
      "5 & 0.01509448 & 0.00033275 & 0.00000748 & 0.00000003 & 0.00000000 & 0.00000000 \\\\ \\hline\n",
      "30 & 0.01973649 & 0.00032769 & 0.00000680 & 0.00000003 & 0.00000000 & 0.00000000 \\\\ \\hline\n",
      "55 & 0.02118610 & 0.00032018 & 0.00000650 & 0.00000003 & 0.00000000 & 0.00000000 \\\\ \\hline\n",
      "80 & 0.02204760 & 0.00031516 & 0.00000631 & 0.00000003 & 0.00000000 & 0.00000000 \\\\ \\hline\n",
      "105 & 0.02266334 & 0.00031142 & 0.00000617 & 0.00000003 & 0.00000000 & 0.00000000 \\\\ \\hline\n",
      "130 & 0.02314150 & 0.00030842 & 0.00000607 & 0.00000003 & 0.00000000 & 0.00000000 \\\\ \\hline\n",
      "155 & 0.02353316 & 0.00030594 & 0.00000598 & 0.00000003 & 0.00000000 & 0.00000000 \\\\ \\hline\n",
      "180 & 0.02386429 & 0.00030380 & 0.00000590 & 0.00000003 & 0.00000000 & 0.00000000 \\\\ \\hline\n",
      "205 & 0.02415153 & 0.00030194 & 0.00000586 & 0.00000003 & 0.00000000 & 0.00000000 \\\\ \\hline\n",
      "230 & 0.02440482 & 0.00030029 & 0.00000592 & 0.00000003 & 0.00000000 & 0.00000000 \\\\ \\hline\n",
      "255 & 0.02463160 & 0.00029880 & 0.00000597 & 0.00000003 & 0.00000000 & 0.00000000 \\\\ \\hline\n",
      "280 & 0.02483669 & 0.00029745 & 0.00000602 & 0.00000003 & 0.00000000 & 0.00000000 \\\\ \\hline\n",
      "305 & 0.02502406 & 0.00029621 & 0.00000606 & 0.00000003 & 0.00000000 & 0.00000000 \\\\ \\hline\n",
      "330 & 0.02519637 & 0.00029537 & 0.00000610 & 0.00000003 & 0.00000000 & 0.00000000 \\\\ \\hline\n",
      "355 & 0.02535599 & 0.00029695 & 0.00000614 & 0.00000003 & 0.00000000 & 0.00000000 \\\\ \\hline\n",
      "380 & 0.02550455 & 0.00029842 & 0.00000618 & 0.00000003 & 0.00000000 & 0.00000000 \\\\ \\hline\n",
      "405 & 0.02564358 & 0.00029980 & 0.00000621 & 0.00000003 & 0.00000000 & 0.00000000 \\\\ \\hline\n",
      "430 & 0.02577415 & 0.00030110 & 0.00000624 & 0.00000003 & 0.00000000 & 0.00000000 \\\\ \\hline\n",
      "500 & 0.02610262 & 0.00030436 & 0.00000632 & 0.00000003 & 0.00000000 & 0.00000000 \\\\ \\hline\n",
      "1000 & 0.02835640 & 0.00031930 & 0.00000667 & 0.00000003 & 0.00000000 & 0.00000000 \\\\ \\hline\n",
      "\\end{tabular}\n",
      "\\captionsetup{justification=centering}\n",
      "\\captionof{table}{Różnice dla różnych wartości n dla wektora [100, -100, ...] i drugiego kryterium stopu}\n",
      "\\end{minipage}\n"
     ]
    }
   ],
   "source": [
    "print(generate_difference_table(2, 2))"
   ],
   "metadata": {
    "collapsed": false,
    "ExecuteTime": {
     "end_time": "2024-06-13T19:50:31.378893Z",
     "start_time": "2024-06-13T19:50:28.418746Z"
    }
   },
   "id": "9f32f3be2f213c11",
   "execution_count": 190
  },
  {
   "cell_type": "code",
   "outputs": [
    {
     "name": "stdout",
     "output_type": "stream",
     "text": [
      "\\noindent\\begin{minipage}{\\linewidth}\n",
      "\\centering\n",
      "\\begin{tabular}{|c|c|c|c|c|c|c|}\n",
      "\\hline\n",
      "\\multicolumn{1}{|c|}{} & \\multicolumn{6}{c|}{\\textbf{$\\rho$}} \\\\ \\cline{2-7}\n",
      "\\multicolumn{1}{|c|}{\\multirow{-2}{*}{\\textbf{$n$}}} & 0.1 & 0.001 & 1e-05 & 1e-07 & 1e-09 & 1e-11 \\\\ \\hline\n",
      "5 & 0.00013430 & 0.00011100 & 0.00012670 & 0.00015290 & 0.00017620 & 0.00019910 \\\\ \\hline\n",
      "30 & 0.00009080 & 0.00009480 & 0.00018330 & 0.00014730 & 0.00018890 & 0.00021770 \\\\ \\hline\n",
      "55 & 0.00011170 & 0.00010340 & 0.00011650 & 0.00014220 & 0.00015910 & 0.00018550 \\\\ \\hline\n",
      "80 & 0.00011580 & 0.00010870 & 0.00012640 & 0.00020050 & 0.00017400 & 0.00019920 \\\\ \\hline\n",
      "105 & 0.00132680 & 0.00166560 & 0.00217130 & 0.00250230 & 0.00308810 & 0.00372290 \\\\ \\hline\n",
      "130 & 0.00115360 & 0.00138330 & 0.00150550 & 0.00218420 & 0.00249330 & 0.00296350 \\\\ \\hline\n",
      "155 & 0.00101780 & 0.00147950 & 0.00174210 & 0.00219270 & 0.00260990 & 0.00311770 \\\\ \\hline\n",
      "180 & 0.00106680 & 0.00135210 & 0.00156660 & 0.00222470 & 0.00235400 & 0.00294870 \\\\ \\hline\n",
      "205 & 0.00107690 & 0.00175840 & 0.00220130 & 0.00246660 & 0.00250060 & 0.00273040 \\\\ \\hline\n",
      "230 & 0.00113940 & 0.00142690 & 0.00166260 & 0.00215210 & 0.00241750 & 0.00384490 \\\\ \\hline\n",
      "255 & 0.00154630 & 0.00217030 & 0.00222930 & 0.00290850 & 0.00339030 & 0.00351200 \\\\ \\hline\n",
      "280 & 0.00127210 & 0.00158210 & 0.00202640 & 0.00253500 & 0.00305120 & 0.00357120 \\\\ \\hline\n",
      "305 & 0.00139180 & 0.00156780 & 0.00201760 & 0.00302510 & 0.00357300 & 0.00422250 \\\\ \\hline\n",
      "330 & 0.00189990 & 0.00199790 & 0.00233060 & 0.00349650 & 0.00328440 & 0.00374340 \\\\ \\hline\n",
      "355 & 0.00183790 & 0.00207260 & 0.00191510 & 0.00259840 & 0.00359820 & 0.00386030 \\\\ \\hline\n",
      "380 & 0.00161780 & 0.00192720 & 0.00241830 & 0.00288520 & 0.00311290 & 0.00375740 \\\\ \\hline\n",
      "405 & 0.00164290 & 0.00192410 & 0.00238420 & 0.00286720 & 0.00315810 & 0.00357270 \\\\ \\hline\n",
      "430 & 0.00174270 & 0.00202100 & 0.00243400 & 0.00302640 & 0.00456040 & 0.00535730 \\\\ \\hline\n",
      "500 & 0.00332050 & 0.00368640 & 0.00370880 & 0.00379570 & 0.00488510 & 0.00639580 \\\\ \\hline\n",
      "1000 & 0.01026550 & 0.01096350 & 0.01004000 & 0.01167500 & 0.01142450 & 0.01422360 \\\\ \\hline\n",
      "\\end{tabular}\n",
      "\\captionsetup{justification=centering}\n",
      "\\captionof{table}{Czasy wykonania w sekundach dla różnych wartości n dla wektora [100, -100, ...] i drugiego kryterium stopu}\n",
      "\\end{minipage}\n"
     ]
    }
   ],
   "source": [
    "print(generate_execution_time_table(2, 2))"
   ],
   "metadata": {
    "collapsed": false,
    "ExecuteTime": {
     "end_time": "2024-06-13T19:50:34.320432Z",
     "start_time": "2024-06-13T19:50:31.379838Z"
    }
   },
   "id": "967ba46f1276e076",
   "execution_count": 191
  },
  {
   "cell_type": "code",
   "outputs": [],
   "source": [
    "def generate_latex_table_radius():\n",
    "    n_values = list(range(5, 431, 25)) + [500,1000]\n",
    "    table_rows = []\n",
    "\n",
    "    for n in n_values:\n",
    "        A, _ = generate_matrix_and_vector(n)\n",
    "        M = jacobi_iteration_matrix(A)\n",
    "        radius = spectral_radius(M)\n",
    "        table_rows.append((n, radius))\n",
    "\n",
    "    latex_code = \"\\\\begin{table}[h!]\\n\\\\centering\\n\\\\begin{tabular}{|c|c|}\\n\\\\hline\\nn & Promień spektralny \\\\\\\\ \\\\hline\\n\"\n",
    "\n",
    "    for n, radius in table_rows:\n",
    "        latex_code += f\"{n} & {radius:.6f} \\\\\\\\ \\\\hline\\n\"\n",
    "\n",
    "    latex_code += \"\\\\end{tabular}\\n\\\\caption{Promienie spektralne dla różnych wartości n}\\n\\\\end{table}\"\n",
    "\n",
    "    return latex_code"
   ],
   "metadata": {
    "collapsed": false,
    "ExecuteTime": {
     "end_time": "2024-06-13T19:50:34.325953Z",
     "start_time": "2024-06-13T19:50:34.321428Z"
    }
   },
   "id": "7de4b3b7dd190212",
   "execution_count": 192
  },
  {
   "cell_type": "code",
   "outputs": [
    {
     "name": "stdout",
     "output_type": "stream",
     "text": [
      "\\begin{table}[h!]\n",
      "\\centering\n",
      "\\begin{tabular}{|c|c|}\n",
      "\\hline\n",
      "n & Promień spektralny \\\\ \\hline\n",
      "5 & 0.156250 \\\\ \\hline\n",
      "30 & 0.156250 \\\\ \\hline\n",
      "55 & 0.156250 \\\\ \\hline\n",
      "80 & 0.156250 \\\\ \\hline\n",
      "105 & 0.156250 \\\\ \\hline\n",
      "130 & 0.156250 \\\\ \\hline\n",
      "155 & 0.156250 \\\\ \\hline\n",
      "180 & 0.156250 \\\\ \\hline\n",
      "205 & 0.156250 \\\\ \\hline\n",
      "230 & 0.156250 \\\\ \\hline\n",
      "255 & 0.156250 \\\\ \\hline\n",
      "280 & 0.156250 \\\\ \\hline\n",
      "305 & 0.156250 \\\\ \\hline\n",
      "330 & 0.156250 \\\\ \\hline\n",
      "355 & 0.156250 \\\\ \\hline\n",
      "380 & 0.156250 \\\\ \\hline\n",
      "405 & 0.156250 \\\\ \\hline\n",
      "430 & 0.156250 \\\\ \\hline\n",
      "500 & 0.156250 \\\\ \\hline\n",
      "1000 & 0.156250 \\\\ \\hline\n",
      "\\end{tabular}\n",
      "\\caption{Promienie spektralne dla różnych wartości n}\n",
      "\\end{table}\n"
     ]
    }
   ],
   "source": [
    "print(generate_latex_table_radius())"
   ],
   "metadata": {
    "collapsed": false,
    "ExecuteTime": {
     "end_time": "2024-06-13T19:50:37.364074Z",
     "start_time": "2024-06-13T19:50:34.326946Z"
    }
   },
   "id": "792f3d9a7180bee3",
   "execution_count": 193
  },
  {
   "cell_type": "code",
   "outputs": [],
   "source": [],
   "metadata": {
    "collapsed": false,
    "ExecuteTime": {
     "end_time": "2024-06-13T19:50:37.367588Z",
     "start_time": "2024-06-13T19:50:37.365071Z"
    }
   },
   "id": "187376234595b612",
   "execution_count": 193
  }
 ],
 "metadata": {
  "kernelspec": {
   "display_name": "Python 3",
   "language": "python",
   "name": "python3"
  },
  "language_info": {
   "codemirror_mode": {
    "name": "ipython",
    "version": 2
   },
   "file_extension": ".py",
   "mimetype": "text/x-python",
   "name": "python",
   "nbconvert_exporter": "python",
   "pygments_lexer": "ipython2",
   "version": "2.7.6"
  }
 },
 "nbformat": 4,
 "nbformat_minor": 5
}
