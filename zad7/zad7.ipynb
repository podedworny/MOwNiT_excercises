{
 "cells": [
  {
   "cell_type": "code",
   "execution_count": 215,
   "id": "initial_id",
   "metadata": {
    "collapsed": true,
    "ExecuteTime": {
     "end_time": "2024-05-22T01:13:13.007648Z",
     "start_time": "2024-05-22T01:13:13.004888Z"
    }
   },
   "outputs": [],
   "source": [
    "import numpy as np\n",
    "import matplotlib.pyplot as plt\n",
    "kkk = 0"
   ]
  },
  {
   "cell_type": "code",
   "outputs": [],
   "source": [
    "def generate_matrix_and_vector(n, dtype=np.float64):\n",
    "    matrix = np.zeros((n, n), dtype=dtype)\n",
    "\n",
    "    matrix[0, :] = 1\n",
    "\n",
    "    for i in range(1, n):\n",
    "        for j in range(n):\n",
    "            matrix[i, j] = 1 / (i + j + 1)\n",
    "\n",
    "    vector = np.array([1 if i % 2 == 0 else -1 for i in range(n)], dtype=dtype)\n",
    "\n",
    "    return matrix, vector"
   ],
   "metadata": {
    "collapsed": false,
    "ExecuteTime": {
     "end_time": "2024-05-22T01:13:13.030309Z",
     "start_time": "2024-05-22T01:13:13.026018Z"
    }
   },
   "id": "de7c9ada636aae41",
   "execution_count": 216
  },
  {
   "cell_type": "code",
   "outputs": [],
   "source": [
    "def generate_matrix_and_vector_2(n, dtype=np.float64):\n",
    "    matrix = np.zeros((n, n), dtype=dtype)\n",
    "\n",
    "    for i in range(n):\n",
    "        for j in range(i, n):\n",
    "            matrix[i, j] = (2 * (i + 1)) / (j + 1)\n",
    "            matrix[j, i] = matrix[i, j]\n",
    "\n",
    "    vector = np.array([1 if i % 2 == 0 else -1 for i in range(n)], dtype=dtype)\n",
    "\n",
    "    return matrix, vector"
   ],
   "metadata": {
    "collapsed": false,
    "ExecuteTime": {
     "end_time": "2024-05-22T01:13:13.061307Z",
     "start_time": "2024-05-22T01:13:13.056306Z"
    }
   },
   "id": "922ecc9d4923b3cb",
   "execution_count": 217
  },
  {
   "cell_type": "code",
   "outputs": [],
   "source": [
    "def solve(n, f_type):\n",
    "    A, x = generate_matrix_and_vector(n, f_type)\n",
    "    B = (A @ x).astype(f_type)\n",
    "\n",
    "    for i in range(n):\n",
    "        for j in range(i+1, n):\n",
    "            ratio = A[j, i] / A[i, i]\n",
    "            A[j] -= ratio * A[i]\n",
    "            B[j] -= ratio * B[i]\n",
    "    x_new = np.zeros(n, dtype=f_type)\n",
    "    for i in range(n - 1, -1, -1):\n",
    "        x_new[i] = (B[i] - np.dot(A[i, i + 1:], x_new[i + 1:])) / A[i, i]\n",
    "\n",
    "    return x, x_new"
   ],
   "metadata": {
    "collapsed": false,
    "ExecuteTime": {
     "end_time": "2024-05-22T01:13:13.067307Z",
     "start_time": "2024-05-22T01:13:13.062309Z"
    }
   },
   "id": "706fa6f325796603",
   "execution_count": 218
  },
  {
   "cell_type": "code",
   "outputs": [],
   "source": [
    "def solve2(n, f_type):\n",
    "    A, x = generate_matrix_and_vector_2(n, f_type)\n",
    "    B = (A @ x).astype(f_type)\n",
    "\n",
    "    for i in range(n):\n",
    "        for j in range(i+1, n):\n",
    "            ratio = A[j, i] / A[i, i]\n",
    "            A[j] -= ratio * A[i]\n",
    "            B[j] -= ratio * B[i]\n",
    "    x_new = np.zeros(n, dtype=f_type)\n",
    "    for i in range(n - 1, -1, -1):\n",
    "        x_new[i] = (B[i] - np.dot(A[i, i + 1:], x_new[i + 1:])) / A[i, i]\n",
    "\n",
    "    return x, x_new"
   ],
   "metadata": {
    "collapsed": false,
    "ExecuteTime": {
     "end_time": "2024-05-22T01:13:13.072978Z",
     "start_time": "2024-05-22T01:13:13.068308Z"
    }
   },
   "id": "2890fa928ed4e36f",
   "execution_count": 219
  },
  {
   "cell_type": "code",
   "outputs": [],
   "source": [
    "def difference(v1, v2):\n",
    "    differences = np.abs(v1 - v2)\n",
    "\n",
    "    max_difference = np.max(differences)\n",
    "    return max_difference"
   ],
   "metadata": {
    "collapsed": false,
    "ExecuteTime": {
     "end_time": "2024-05-22T01:13:13.077497Z",
     "start_time": "2024-05-22T01:13:13.073978Z"
    }
   },
   "id": "85c65ba9f4d08284",
   "execution_count": 220
  },
  {
   "cell_type": "code",
   "outputs": [],
   "source": [
    "def rysuj_wykres_punktowy(listy_punktow, nazwy_zbiorow):\n",
    "    global kkk\n",
    "    # Tworzenie wykresu\n",
    "    plt.figure(figsize=(10, 6))\n",
    "\n",
    "    # Dodawanie punktów do wykresu\n",
    "    for punkty, nazwa in zip(listy_punktow, nazwy_zbiorow):\n",
    "        x_values = [punkt[0] for punkt in punkty]\n",
    "        y_values = [punkt[1] for punkt in punkty]\n",
    "        plt.scatter(x_values, y_values, label=nazwa)\n",
    "\n",
    "    # Dodanie tytułu i etykiet osi\n",
    "    plt.title('Wykres zależności błędu od n')\n",
    "    plt.xlabel('n')\n",
    "    plt.ylabel('Wartość błędu')\n",
    "\n",
    "    # Dodanie legendy\n",
    "    plt.legend()\n",
    "    name = \"obrazek\" + str(kkk) + \".png\"\n",
    "    plt.savefig(name,bbox_inches='tight')\n",
    "    kkk+=1\n",
    "    # Wyświetlenie wykresu\n",
    "    plt.show()"
   ],
   "metadata": {
    "collapsed": false,
    "ExecuteTime": {
     "end_time": "2024-05-22T01:13:13.083018Z",
     "start_time": "2024-05-22T01:13:13.078496Z"
    }
   },
   "id": "951da5ce9d49ac1c",
   "execution_count": 221
  },
  {
   "cell_type": "code",
   "outputs": [],
   "source": [
    "def generate_value():\n",
    "    f_16 = []\n",
    "    f_32 = []\n",
    "    f_64 = []\n",
    "    f = [np.float16, np.float32, np.float64]\n",
    "    for n in range(3, 101):\n",
    "        x, x_new = solve(n, np.float16)\n",
    "        f_16.append((n,difference(x, x_new)))\n",
    "        x, x_new = solve(n, np.float32)\n",
    "        f_32.append((n, difference(x, x_new)))\n",
    "        x, x_new = solve(n, np.float64)\n",
    "        f_64.append((n, difference(x, x_new)))\n",
    "        \n",
    "    rysuj_wykres_punktowy([f_16, f_32, f_64], [\"float16\", \"float32\", \"float64\"])"
   ],
   "metadata": {
    "collapsed": false,
    "ExecuteTime": {
     "end_time": "2024-05-22T01:13:13.088435Z",
     "start_time": "2024-05-22T01:13:13.084016Z"
    }
   },
   "id": "31369b48c112a463",
   "execution_count": 222
  },
  {
   "cell_type": "code",
   "outputs": [],
   "source": [
    "def generate_table():\n",
    "    n_values = list(range(3, 101))\n",
    "    sections = [n_values[:len(n_values)//2], n_values[len(n_values)//2:]]\n",
    "    \n",
    "    float_types = [np.float16, np.float32, np.float64]\n",
    "    \n",
    "    results = {f_type: [] for f_type in float_types}\n",
    "    \n",
    "    for f_type in float_types:\n",
    "        for n in n_values:\n",
    "            _, x_new = solve(n, f_type)\n",
    "            diff = difference(_, x_new)\n",
    "            results[f_type].append(f\"{diff:.6e}\")\n",
    "    \n",
    "    # Generate LaTeX table\n",
    "    latex_code = \"\\\\noindent\\\\begin{minipage}{\\\\linewidth}\\n\\\\centering\\n\"\n",
    "    latex_code += \"\\\\begin{tabular}{l|l|l|l|l|l|l|l}\\n\"\n",
    "    latex_code += \"n & float16 & float32 & float64 & n & float16 & float32 & float64 \\\\\\\\\\n\\\\hline\\n\"\n",
    "    \n",
    "    half = len(n_values) // 2\n",
    "    for i in range(half):\n",
    "        row = []\n",
    "        for j in range(2):\n",
    "            n_index = i + j * half\n",
    "            n = n_values[n_index] if n_index < len(n_values) else \"\"\n",
    "            float16_val = results[np.float16][n_index] if n_index < len(results[np.float16]) else \"\"\n",
    "            float32_val = results[np.float32][n_index] if n_index < len(results[np.float32]) else \"\"\n",
    "            float64_val = results[np.float64][n_index] if n_index < len(results[np.float64]) else \"\"\n",
    "            row.extend([n, float16_val, float32_val, float64_val])\n",
    "        latex_code += \" & \".join(map(str, row)) + \" \\\\\\\\\\n\\\\hline\\n\"\n",
    "    \n",
    "    latex_code += \"\\\\end{tabular}\\n\\\\end{minipage}\"\n",
    "    \n",
    "    print(latex_code)"
   ],
   "metadata": {
    "collapsed": false,
    "ExecuteTime": {
     "end_time": "2024-05-22T01:13:13.105404Z",
     "start_time": "2024-05-22T01:13:13.099425Z"
    }
   },
   "id": "4c75bdf22759d20c",
   "execution_count": 223
  },
  {
   "cell_type": "code",
   "outputs": [
    {
     "name": "stdout",
     "output_type": "stream",
     "text": [
      "\\noindent\\begin{minipage}{\\linewidth}\n",
      "\\centering\n",
      "\\begin{tabular}{l|l|l|l|l|l|l|l}\n",
      "n & float16 & float32 & float64 & n & float16 & float32 & float64 \\\\\n",
      "\\hline\n",
      "3 & 0.000000e+00 & 2.086163e-06 & 0.000000e+00 & 52 & 1.629688e+01 & 3.062476e+01 & 6.071071e+03 \\\\\n",
      "\\hline\n",
      "4 & 0.000000e+00 & 1.192093e-07 & 2.364775e-13 & 53 & 3.990625e+01 & 4.717926e+01 & 9.837303e+01 \\\\\n",
      "\\hline\n",
      "5 & 2.457031e+00 & 2.154112e-04 & 6.513567e-12 & 54 & 1.346875e+01 & 3.312175e+01 & 2.023546e+02 \\\\\n",
      "\\hline\n",
      "6 & 2.851562e+00 & 2.232707e-02 & 2.486656e-10 & 55 & 1.303906e+01 & 3.263861e+01 & 1.777629e+02 \\\\\n",
      "\\hline\n",
      "7 & 1.243750e+01 & 2.256898e-01 & 9.436947e-09 & 56 & 1.870312e+01 & 1.537783e+02 & 3.323734e+01 \\\\\n",
      "\\hline\n",
      "8 & 1.973633e+00 & 6.131389e+00 & 7.987404e-08 & 57 & 3.135938e+01 & 7.925193e+02 & 3.961283e+01 \\\\\n",
      "\\hline\n",
      "9 & 3.896484e+00 & 1.361608e+01 & 3.423918e-07 & 58 & 6.468750e+01 & 1.930979e+02 & 5.526779e+02 \\\\\n",
      "\\hline\n",
      "10 & 2.671875e+00 & 6.493102e+00 & 1.052929e-04 & 59 & 6.918750e+01 & 1.550894e+03 & 4.231669e+02 \\\\\n",
      "\\hline\n",
      "11 & 1.204688e+01 & 8.970181e+00 & 7.647956e-03 & 60 & 7.757812e+00 & 7.356954e+02 & 8.122544e+01 \\\\\n",
      "\\hline\n",
      "12 & 2.021875e+01 & 1.390667e+01 & 7.198639e-01 & 61 & 4.320312e+00 & 5.058438e+03 & 8.191651e+01 \\\\\n",
      "\\hline\n",
      "13 & 8.328125e+00 & 7.666101e+01 & 1.253223e+01 & 62 & 3.014062e+01 & 1.714483e+02 & 4.289252e+02 \\\\\n",
      "\\hline\n",
      "14 & 2.160156e+00 & 3.127844e+00 & 1.199258e+01 & 63 & 2.357812e+01 & 7.072668e+01 & 1.529717e+03 \\\\\n",
      "\\hline\n",
      "15 & 7.093750e+00 & 7.343045e+00 & 9.069112e+00 & 64 & 8.937500e+00 & 5.782871e+01 & 1.216298e+02 \\\\\n",
      "\\hline\n",
      "16 & 1.592969e+01 & 9.048605e+00 & 1.563721e+01 & 65 & 8.656250e+00 & 5.049787e+01 & 1.554558e+02 \\\\\n",
      "\\hline\n",
      "17 & 1.182812e+01 & 1.335542e+01 & 1.441393e+01 & 66 & 5.518750e+01 & 3.077133e+02 & 2.357047e+02 \\\\\n",
      "\\hline\n",
      "18 & 4.984375e+00 & 5.020634e+01 & 1.350042e+01 & 67 & 5.300781e+00 & 9.552725e+01 & 1.892660e+02 \\\\\n",
      "\\hline\n",
      "19 & 8.632812e+00 & 2.796179e+01 & 5.215635e+01 & 68 & 6.167969e+00 & 5.009526e+03 & 1.851692e+02 \\\\\n",
      "\\hline\n",
      "20 & 3.914062e+00 & 9.070479e+00 & 4.034555e+02 & 69 & 4.968750e+00 & 2.084826e+02 & 3.742649e+02 \\\\\n",
      "\\hline\n",
      "21 & 1.128906e+00 & 2.957231e+01 & 3.509902e+01 & 70 & 6.953125e+00 & 9.481884e+01 & 3.318431e+02 \\\\\n",
      "\\hline\n",
      "22 & 3.921875e+00 & 1.106279e+01 & 3.171708e+01 & 71 & 1.676562e+01 & 1.322151e+02 & 5.740399e+01 \\\\\n",
      "\\hline\n",
      "23 & 1.167969e+01 & 2.599313e+01 & 2.827398e+01 & 72 & 1.551562e+01 & 9.919510e+01 & 1.171664e+02 \\\\\n",
      "\\hline\n",
      "24 & 9.570312e+00 & 8.166528e+01 & 5.614575e+01 & 73 & 1.693750e+01 & 1.376801e+02 & 1.166984e+02 \\\\\n",
      "\\hline\n",
      "25 & 3.867188e+00 & 1.075171e+01 & 1.084481e+02 & 74 & 5.238281e+00 & 1.277815e+02 & 6.063637e+01 \\\\\n",
      "\\hline\n",
      "26 & 2.523438e+00 & 1.685675e+01 & 4.418602e+01 & 75 & 2.337500e+01 & 2.001040e+02 & 1.849931e+02 \\\\\n",
      "\\hline\n",
      "27 & 6.318750e+01 & 1.290479e+01 & 4.920547e+01 & 76 & 3.890625e+00 & 1.575104e+02 & 1.325503e+02 \\\\\n",
      "\\hline\n",
      "28 & 2.089062e+01 & 4.821634e+01 & 6.228043e+02 & 77 & 6.351562e+00 & 1.529825e+02 & 6.559090e+01 \\\\\n",
      "\\hline\n",
      "29 & 8.328125e+00 & 8.509238e+01 & 2.091955e+02 & 78 & 7.757812e+00 & 1.541707e+02 & 6.664510e+01 \\\\\n",
      "\\hline\n",
      "30 & 2.790000e+02 & 1.907706e+02 & 7.306653e+01 & 79 & 5.378906e+00 & 2.144151e+02 & 2.135193e+02 \\\\\n",
      "\\hline\n",
      "31 & 2.417188e+01 & 1.897828e+02 & 9.163853e+01 & 80 & 3.771875e+01 & 3.430642e+01 & 1.481672e+02 \\\\\n",
      "\\hline\n",
      "32 & 6.992188e+00 & 1.972600e+02 & 3.509670e+01 & 81 & 6.859375e+00 & 3.718914e+01 & 1.942691e+02 \\\\\n",
      "\\hline\n",
      "33 & 7.910156e+00 & 5.002145e+01 & 3.390448e+01 & 82 & 6.371094e+00 & 3.366858e+01 & 2.726473e+02 \\\\\n",
      "\\hline\n",
      "34 & 1.255469e+01 & 2.329869e+01 & 2.276538e+02 & 83 & 4.843750e+00 & 3.893975e+01 & 3.572966e+02 \\\\\n",
      "\\hline\n",
      "35 & 3.306250e+01 & 2.190313e+01 & 2.103052e+02 & 84 & 3.906250e+00 & 9.204881e+01 & 3.996610e+03 \\\\\n",
      "\\hline\n",
      "36 & 1.526562e+01 & 1.896061e+01 & 1.303747e+02 & 85 & 2.804688e+00 & 4.268037e+02 & 3.315762e+03 \\\\\n",
      "\\hline\n",
      "37 & 1.529688e+01 & 2.236827e+01 & 1.657402e+02 & 86 & 1.503125e+01 & 1.010108e+02 & 4.669576e+03 \\\\\n",
      "\\hline\n",
      "38 & 8.507812e+00 & 8.893836e+02 & 1.616218e+02 & 87 & 3.343750e+01 & 3.353461e+02 & 4.528245e+03 \\\\\n",
      "\\hline\n",
      "39 & 1.467969e+01 & 2.318866e+03 & 6.091644e+01 & 88 & 1.367188e+01 & 2.369765e+02 & 1.985183e+04 \\\\\n",
      "\\hline\n",
      "40 & 2.066406e+00 & 8.617405e+01 & 8.958721e+01 & 89 & 9.445312e+00 & 1.492021e+02 & 3.515118e+02 \\\\\n",
      "\\hline\n",
      "41 & 4.617188e+00 & 2.106941e+02 & 2.250211e+02 & 90 & 6.269531e+00 & 1.560840e+02 & 4.498301e+02 \\\\\n",
      "\\hline\n",
      "42 & 2.953125e+00 & 7.986317e+01 & 1.229253e+02 & 91 & 8.015625e+00 & 1.917918e+02 & 2.306234e+02 \\\\\n",
      "\\hline\n",
      "43 & 7.691406e+00 & 3.740156e+01 & 1.289306e+02 & 92 & 1.502344e+01 & 3.527930e+02 & 5.322209e+02 \\\\\n",
      "\\hline\n",
      "44 & 4.976562e+00 & 2.384373e+01 & 1.605805e+02 & 93 & 2.239062e+01 & 1.794124e+03 & 3.036176e+02 \\\\\n",
      "\\hline\n",
      "45 & 1.451562e+01 & 1.475754e+01 & 1.676999e+02 & 94 & 1.093750e+01 & 1.821385e+02 & 2.964348e+02 \\\\\n",
      "\\hline\n",
      "46 & 5.769531e+00 & 2.483219e+01 & 3.373351e+02 & 95 & 2.989062e+01 & 9.175431e+01 & 3.947597e+02 \\\\\n",
      "\\hline\n",
      "47 & 3.056641e+00 & 2.516216e+01 & 2.150193e+03 & 96 & 1.125781e+01 & 1.596641e+02 & 6.262699e+03 \\\\\n",
      "\\hline\n",
      "48 & 7.031250e+00 & 3.913171e+01 & 5.858135e+02 & 97 & 1.222656e+01 & 5.676474e+02 & 2.356061e+02 \\\\\n",
      "\\hline\n",
      "49 & 1.185938e+01 & 3.865654e+01 & 1.954779e+03 & 98 & 2.548438e+01 & 1.719651e+02 & 3.325777e+02 \\\\\n",
      "\\hline\n",
      "50 & 7.769531e+00 & 5.363106e+04 & 8.685740e+01 & 99 & 3.293750e+01 & 3.710122e+02 & 4.438253e+02 \\\\\n",
      "\\hline\n",
      "51 & 7.812500e+01 & 4.398067e+01 & 3.383147e+02 & 100 & 3.662500e+01 & 3.643686e+03 & 1.160700e+03 \\\\\n",
      "\\hline\n",
      "\\end{tabular}\n",
      "\\end{minipage}\n"
     ]
    }
   ],
   "source": [
    "generate_table()"
   ],
   "metadata": {
    "collapsed": false,
    "ExecuteTime": {
     "end_time": "2024-05-22T01:13:15.274780Z",
     "start_time": "2024-05-22T01:13:13.111921Z"
    }
   },
   "id": "85adff50ec8cfba1",
   "execution_count": 224
  },
  {
   "cell_type": "code",
   "outputs": [
    {
     "data": {
      "text/plain": "<Figure size 1000x600 with 1 Axes>",
      "image/png": "[encoded data removed]"
     },
     "metadata": {},
     "output_type": "display_data"
    }
   ],
   "source": [
    "generate_value()"
   ],
   "metadata": {
    "collapsed": false,
    "ExecuteTime": {
     "end_time": "2024-05-22T01:13:17.745073Z",
     "start_time": "2024-05-22T01:13:15.275781Z"
    }
   },
   "id": "e157d4f0091af253",
   "execution_count": 225
  },
  {
   "cell_type": "code",
   "outputs": [],
   "source": [
    "def generate_table2():\n",
    "    n_values = list(range(3, 101))\n",
    "    sections = [n_values[:len(n_values)//2], n_values[len(n_values)//2:]]\n",
    "\n",
    "    float_types = [np.float16, np.float32, np.float64]\n",
    "\n",
    "    results = {f_type: [] for f_type in float_types}\n",
    "\n",
    "    for f_type in float_types:\n",
    "        for n in n_values:\n",
    "            _, x_new = solve2(n, f_type)\n",
    "            diff = difference(_, x_new)\n",
    "            results[f_type].append(f\"{diff:.6e}\")\n",
    "\n",
    "    # Generate LaTeX table\n",
    "    latex_code = \"\\\\noindent\\\\begin{minipage}{\\\\linewidth}\\n\\\\centering\\n\"\n",
    "    latex_code += \"\\\\begin{tabular}{l|l|l|l|l|l|l|l}\\n\"\n",
    "    latex_code += \"n & float16 & float32 & float64 & n & float16 & float32 & float64 \\\\\\\\\\n\\\\hline\\n\"\n",
    "\n",
    "    half = len(n_values) // 2\n",
    "    for i in range(half):\n",
    "        row = []\n",
    "        for j in range(2):\n",
    "            n_index = i + j * half\n",
    "            n = n_values[n_index] if n_index < len(n_values) else \"\"\n",
    "            float16_val = results[np.float16][n_index] if n_index < len(results[np.float16]) else \"\"\n",
    "            float32_val = results[np.float32][n_index] if n_index < len(results[np.float32]) else \"\"\n",
    "            float64_val = results[np.float64][n_index] if n_index < len(results[np.float64]) else \"\"\n",
    "            row.extend([n, float16_val, float32_val, float64_val])\n",
    "        latex_code += \" & \".join(map(str, row)) + \" \\\\\\\\\\n\\\\hline\\n\"\n",
    "\n",
    "    latex_code += \"\\\\end{tabular}\\n\\\\end{minipage}\"\n",
    "\n",
    "    print(latex_code)"
   ],
   "metadata": {
    "collapsed": false,
    "ExecuteTime": {
     "end_time": "2024-05-22T01:13:17.751758Z",
     "start_time": "2024-05-22T01:13:17.746073Z"
    }
   },
   "id": "34185bfcf584bbbf",
   "execution_count": 226
  },
  {
   "cell_type": "code",
   "outputs": [],
   "source": [
    "def generate_value2():\n",
    "    f_16 = []\n",
    "    f_32 = []\n",
    "    f_64 = []\n",
    "    for n in range(3, 101):\n",
    "        x, x_new = solve2(n, np.float16)\n",
    "        f_16.append((n,difference(x, x_new)))\n",
    "        x, x_new = solve2(n, np.float32)\n",
    "        f_32.append((n, difference(x, x_new)))\n",
    "        x, x_new = solve2(n, np.float64)\n",
    "        f_64.append((n, difference(x, x_new)))\n",
    "\n",
    "    rysuj_wykres_punktowy([f_16, f_32, f_64], [\"float16\", \"float32\", \"float64\"])"
   ],
   "metadata": {
    "collapsed": false,
    "ExecuteTime": {
     "end_time": "2024-05-22T01:13:17.757623Z",
     "start_time": "2024-05-22T01:13:17.752753Z"
    }
   },
   "id": "d53931449f7d6ca3",
   "execution_count": 227
  },
  {
   "cell_type": "code",
   "outputs": [
    {
     "name": "stdout",
     "output_type": "stream",
     "text": [
      "\\noindent\\begin{minipage}{\\linewidth}\n",
      "\\centering\n",
      "\\begin{tabular}{l|l|l|l|l|l|l|l}\n",
      "n & float16 & float32 & float64 & n & float16 & float32 & float64 \\\\\n",
      "\\hline\n",
      "3 & 9.765625e-04 & 1.192093e-07 & 2.220446e-16 & 52 & 4.570312e-01 & 6.377697e-05 & 1.414424e-13 \\\\\n",
      "\\hline\n",
      "4 & 1.953125e-03 & 1.192093e-07 & 2.220446e-16 & 53 & 4.316406e-01 & 7.939339e-05 & 1.301181e-13 \\\\\n",
      "\\hline\n",
      "5 & 9.765625e-04 & 1.192093e-07 & 3.330669e-16 & 54 & 4.511719e-01 & 5.769730e-05 & 1.429967e-13 \\\\\n",
      "\\hline\n",
      "6 & 2.929688e-03 & 2.980232e-07 & 6.661338e-16 & 55 & 3.989258e-01 & 6.496906e-05 & 1.634248e-13 \\\\\n",
      "\\hline\n",
      "7 & 6.347656e-03 & 1.072884e-06 & 1.332268e-15 & 56 & 4.433594e-01 & 1.406074e-04 & 1.658673e-13 \\\\\n",
      "\\hline\n",
      "8 & 7.324219e-03 & 1.192093e-06 & 3.774758e-15 & 57 & 4.755859e-01 & 1.475215e-04 & 1.758593e-13 \\\\\n",
      "\\hline\n",
      "9 & 1.171875e-02 & 1.072884e-06 & 2.664535e-15 & 58 & 6.386719e-01 & 1.456141e-04 & 2.011724e-13 \\\\\n",
      "\\hline\n",
      "10 & 1.171875e-02 & 3.099442e-06 & 1.665335e-15 & 59 & 6.152344e-01 & 1.512170e-04 & 2.013945e-13 \\\\\n",
      "\\hline\n",
      "11 & 1.074219e-02 & 2.741814e-06 & 2.442491e-15 & 60 & 5.537109e-01 & 1.424551e-04 & 2.822187e-13 \\\\\n",
      "\\hline\n",
      "12 & 1.367188e-02 & 5.125999e-06 & 1.176836e-14 & 61 & 5.488281e-01 & 1.394749e-04 & 2.853273e-13 \\\\\n",
      "\\hline\n",
      "13 & 2.587891e-02 & 6.675720e-06 & 1.243450e-14 & 62 & 5.546875e-01 & 1.453161e-04 & 2.713385e-13 \\\\\n",
      "\\hline\n",
      "14 & 1.660156e-02 & 7.331371e-06 & 1.287859e-14 & 63 & 5.107422e-01 & 1.418591e-04 & 2.833289e-13 \\\\\n",
      "\\hline\n",
      "15 & 1.904297e-02 & 7.450581e-06 & 1.620926e-14 & 64 & 5.058594e-01 & 1.446009e-04 & 4.352074e-13 \\\\\n",
      "\\hline\n",
      "16 & 4.101562e-02 & 5.483627e-06 & 2.020606e-14 & 65 & 5.454102e-01 & 1.364946e-04 & 4.389822e-13 \\\\\n",
      "\\hline\n",
      "17 & 6.347656e-02 & 5.900860e-06 & 2.020606e-14 & 66 & 5.332031e-01 & 1.393557e-04 & 4.416467e-13 \\\\\n",
      "\\hline\n",
      "18 & 5.761719e-02 & 6.198883e-06 & 2.020606e-14 & 67 & 6.074219e-01 & 1.379848e-04 & 4.692913e-13 \\\\\n",
      "\\hline\n",
      "19 & 7.666016e-02 & 5.602837e-06 & 2.176037e-14 & 68 & 6.464844e-01 & 1.422167e-04 & 2.744471e-13 \\\\\n",
      "\\hline\n",
      "20 & 6.689453e-02 & 9.059906e-06 & 2.464695e-14 & 69 & 7.363281e-01 & 1.372695e-04 & 2.797762e-13 \\\\\n",
      "\\hline\n",
      "21 & 6.689453e-02 & 1.090765e-05 & 2.131628e-14 & 70 & 7.275391e-01 & 1.802444e-04 & 2.950973e-13 \\\\\n",
      "\\hline\n",
      "22 & 5.273438e-02 & 1.543760e-05 & 2.620126e-14 & 71 & 1.199219e+00 & 1.766682e-04 & 3.652634e-13 \\\\\n",
      "\\hline\n",
      "23 & 6.445312e-02 & 1.794100e-05 & 2.198242e-14 & 72 & 1.458984e+00 & 1.859665e-04 & 5.127010e-13 \\\\\n",
      "\\hline\n",
      "24 & 6.933594e-02 & 1.770258e-05 & 1.798561e-14 & 73 & 1.666016e+00 & 1.835227e-04 & 5.099254e-13 \\\\\n",
      "\\hline\n",
      "25 & 7.812500e-02 & 1.507998e-05 & 1.731948e-14 & 74 & 1.421875e+00 & 1.978278e-04 & 5.138112e-13 \\\\\n",
      "\\hline\n",
      "26 & 9.667969e-02 & 1.853704e-05 & 2.065015e-14 & 75 & 1.242188e+00 & 2.186298e-04 & 4.675149e-13 \\\\\n",
      "\\hline\n",
      "27 & 1.054688e-01 & 1.609325e-05 & 1.865175e-14 & 76 & 1.468750e+00 & 2.695918e-04 & 6.546985e-13 \\\\\n",
      "\\hline\n",
      "28 & 1.220703e-01 & 1.513958e-05 & 5.329071e-14 & 77 & 1.501953e+00 & 2.642274e-04 & 6.523670e-13 \\\\\n",
      "\\hline\n",
      "29 & 1.015625e-01 & 2.491474e-05 & 5.928591e-14 & 78 & 1.371094e+00 & 2.602339e-04 & 6.651346e-13 \\\\\n",
      "\\hline\n",
      "30 & 1.044922e-01 & 2.694130e-05 & 4.862777e-14 & 79 & 1.664062e+00 & 2.538562e-04 & 6.483702e-13 \\\\\n",
      "\\hline\n",
      "31 & 1.328125e-01 & 2.384186e-05 & 5.639933e-14 & 80 & 1.435547e+00 & 2.229214e-04 & 6.054046e-13 \\\\\n",
      "\\hline\n",
      "32 & 1.376953e-01 & 1.507998e-05 & 6.994405e-14 & 81 & 1.310547e+00 & 2.341270e-04 & 6.771250e-13 \\\\\n",
      "\\hline\n",
      "33 & 1.542969e-01 & 1.871586e-05 & 6.705747e-14 & 82 & 1.251953e+00 & 3.732443e-04 & 8.537615e-13 \\\\\n",
      "\\hline\n",
      "34 & 1.386719e-01 & 1.889467e-05 & 6.861178e-14 & 83 & 1.390625e+00 & 3.246069e-04 & 8.690826e-13 \\\\\n",
      "\\hline\n",
      "35 & 1.552734e-01 & 2.062321e-05 & 6.328271e-14 & 84 & 1.605469e+00 & 2.126694e-04 & 7.833734e-13 \\\\\n",
      "\\hline\n",
      "36 & 1.728516e-01 & 3.516674e-05 & 8.681944e-14 & 85 & 1.505859e+00 & 1.991987e-04 & 7.476242e-13 \\\\\n",
      "\\hline\n",
      "37 & 1.884766e-01 & 3.898144e-05 & 8.282264e-14 & 86 & 1.464844e+00 & 1.935959e-04 & 7.371881e-13 \\\\\n",
      "\\hline\n",
      "38 & 2.607422e-01 & 3.868341e-05 & 8.060219e-14 & 87 & 1.181641e+00 & 2.006888e-04 & 7.797096e-13 \\\\\n",
      "\\hline\n",
      "39 & 2.309570e-01 & 4.261732e-05 & 7.793766e-14 & 88 & 1.712891e+00 & 2.572536e-04 & 8.302248e-13 \\\\\n",
      "\\hline\n",
      "40 & 2.641602e-01 & 4.810095e-05 & 1.145750e-13 & 89 & 1.203125e+00 & 2.747774e-04 & 7.929213e-13 \\\\\n",
      "\\hline\n",
      "41 & 3.222656e-01 & 3.659725e-05 & 1.183498e-13 & 90 & 1.412109e+00 & 3.967285e-04 & 7.649437e-13 \\\\\n",
      "\\hline\n",
      "42 & 4.296875e-01 & 4.172325e-05 & 1.125766e-13 & 91 & 1.386719e+00 & 3.864765e-04 & 1.142197e-12 \\\\\n",
      "\\hline\n",
      "43 & 3.984375e-01 & 4.464388e-05 & 1.014744e-13 & 92 & 1.371094e+00 & 2.440214e-04 & 7.789325e-13 \\\\\n",
      "\\hline\n",
      "44 & 4.316406e-01 & 3.975630e-05 & 9.015011e-14 & 93 & 1.312500e+00 & 2.300739e-04 & 7.804868e-13 \\\\\n",
      "\\hline\n",
      "45 & 3.906250e-01 & 3.874302e-05 & 8.903989e-14 & 94 & 1.371094e+00 & 2.355576e-04 & 7.667200e-13 \\\\\n",
      "\\hline\n",
      "46 & 4.550781e-01 & 3.802776e-05 & 1.001421e-13 & 95 & 1.382812e+00 & 2.481341e-04 & 7.598366e-13 \\\\\n",
      "\\hline\n",
      "47 & 4.492188e-01 & 7.110834e-05 & 1.305622e-13 & 96 & 1.474609e+00 & 3.924966e-04 & 8.032464e-13 \\\\\n",
      "\\hline\n",
      "48 & 4.160156e-01 & 7.128716e-05 & 1.354472e-13 & 97 & 1.328125e+00 & 3.735423e-04 & 8.427703e-13 \\\\\n",
      "\\hline\n",
      "49 & 3.847656e-01 & 7.003546e-05 & 1.443290e-13 & 98 & 1.429688e+00 & 3.327727e-04 & 8.341106e-13 \\\\\n",
      "\\hline\n",
      "50 & 3.632812e-01 & 6.896257e-05 & 1.587619e-13 & 99 & 1.501953e+00 & 3.288984e-04 & 8.496537e-13 \\\\\n",
      "\\hline\n",
      "51 & 4.570312e-01 & 7.337332e-05 & 1.636469e-13 & 100 & 1.482422e+00 & 2.392530e-04 & 6.661338e-13 \\\\\n",
      "\\hline\n",
      "\\end{tabular}\n",
      "\\end{minipage}\n"
     ]
    },
    {
     "data": {
      "text/plain": "<Figure size 1000x600 with 1 Axes>",
      "image/png": "[encoded data removed]"
     },
     "metadata": {},
     "output_type": "display_data"
    }
   ],
   "source": [
    "generate_table2()\n",
    "generate_value2()"
   ],
   "metadata": {
    "collapsed": false,
    "ExecuteTime": {
     "end_time": "2024-05-22T01:13:22.150737Z",
     "start_time": "2024-05-22T01:13:17.758616Z"
    }
   },
   "id": "462f36a897bb8b53",
   "execution_count": 228
  },
  {
   "cell_type": "code",
   "outputs": [
    {
     "name": "stdout",
     "output_type": "stream",
     "text": [
      "(array([[2.        , 1.        , 0.66666667, 0.5       , 0.4       ],\n",
      "       [1.        , 2.        , 1.33333333, 1.        , 0.8       ],\n",
      "       [0.66666667, 1.33333333, 2.        , 1.5       , 1.2       ],\n",
      "       [0.5       , 1.        , 1.5       , 2.        , 1.6       ],\n",
      "       [0.4       , 0.8       , 1.2       , 1.6       , 2.        ]]), array([ 1., -1.,  1., -1.,  1.]))\n"
     ]
    }
   ],
   "source": [
    "print(generate_matrix_and_vector_2(5))"
   ],
   "metadata": {
    "collapsed": false,
    "ExecuteTime": {
     "end_time": "2024-05-22T01:14:24.271334Z",
     "start_time": "2024-05-22T01:14:24.267734Z"
    }
   },
   "id": "77677c06e45c1277",
   "execution_count": 231
  },
  {
   "cell_type": "code",
   "outputs": [],
   "source": [],
   "metadata": {
    "collapsed": false,
    "ExecuteTime": {
     "end_time": "2024-05-22T01:13:22.158906Z",
     "start_time": "2024-05-22T01:13:22.155888Z"
    }
   },
   "id": "1155f47760af0a36",
   "execution_count": 229
  }
 ],
 "metadata": {
  "kernelspec": {
   "display_name": "Python 3",
   "language": "python",
   "name": "python3"
  },
  "language_info": {
   "codemirror_mode": {
    "name": "ipython",
    "version": 2
   },
   "file_extension": ".py",
   "mimetype": "text/x-python",
   "name": "python",
   "nbconvert_exporter": "python",
   "pygments_lexer": "ipython2",
   "version": "2.7.6"
  }
 },
 "nbformat": 4,
 "nbformat_minor": 5
}
