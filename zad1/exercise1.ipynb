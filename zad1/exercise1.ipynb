{
 "cells": [
  {
   "cell_type": "code",
   "execution_count": 63,
   "id": "initial_id",
   "metadata": {
    "collapsed": true,
    "jupyter": {
     "outputs_hidden": true
    },
    "ExecuteTime": {
     "end_time": "2024-03-04T17:15:37.398603Z",
     "start_time": "2024-03-04T17:15:37.344019Z"
    }
   },
   "outputs": [],
   "source": [
    "import numpy as np\n",
    "import pandas as pd\n",
    "from fractions import Fraction\n",
    "pd.set_option('display.float_format', '{:.10f}'.format)"
   ]
  },
  {
   "cell_type": "markdown",
   "id": "1205c752ce83b41b",
   "metadata": {
    "collapsed": false
   },
   "source": [
    "## Metody obliczeniowe w nauce i techine - arytmetyka komputerowa"
   ]
  },
  {
   "cell_type": "markdown",
   "id": "8f5c1593a773ed9c",
   "metadata": {
    "collapsed": false
   },
   "source": [
    "### Ćwiczenie 7\n",
    "Dana jest zależność rekurencyjna 3x<sub style=\"text-decoration:none;\">k-1</sub> - 10x<sub style=\"text-decoration:none;\">k</sub> + 3x<sub style=\"text-decoration:none;\">k+1</sub> = 0. Wartości początkowe x<sub style=\"text-decoration:none;\">0</sub>=1, x<sub style=\"text-decoration:none;\">1</sub>=1/3. Wyznaczyć wartości x<sub style=\"text-decoration:none;\">k</sub>, x<sub style=\"text-decoration:none;\">k+1</sub> dla k=45. Następnie korzystając z wyznaczonych wartości x<sub style=\"text-decoration:none;\">k</sub> i x<sub style=\"text-decoration:none;\">k+1</sub> obliczyć x<sub style=\"text-decoration:none;\">1</sub> i x<sub style=\"text-decoration:none;\">0</sub>, wykonując rekurencję w tył. Porównać wyznaczone wartości x<sub style=\"text-decoration:none;\">1</sub> i x<sub style=\"text-decoration:none;\">0</sub> z dokładnymi wartościami początkowymi 1 i 1/3. Wykonać obliczenia dla różnej precyzji zmiennych (float, double, long double). Skomentować różnice. Co będzie, jeśli wszędzie liczbę 3 zastąpimy przez liczbę 2 lub 20, lub 30?"
   ]
  },
  {
   "cell_type": "markdown",
   "id": "d52ad7ea74787951",
   "metadata": {
    "collapsed": false
   },
   "source": [
    "### Przekształcenie\n",
    "x<sub style=\"text-decoration:none;\">k+1</sub> = 10/3 x<sub style=\"text-decoration:none;\">k</sub> - x<sub style=\"text-decoration:none;\">k-1</sub>\n",
    "x<sub style=\"text-decoration:none;\">k</sub> = 10/3 x<sub style=\"text-decoration:none;\">k-1</sub> - x<sub style=\"text-decoration:none;\">k-2</sub>"
   ]
  },
  {
   "cell_type": "code",
   "execution_count": 64,
   "id": "b800b87fa675ae2d",
   "metadata": {
    "collapsed": false,
    "ExecuteTime": {
     "end_time": "2024-03-04T17:15:37.409810Z",
     "start_time": "2024-03-04T17:15:37.401595Z"
    }
   },
   "outputs": [],
   "source": [
    "def recursive_function_f(k, c = 3):\n",
    "    if k <= 0:\n",
    "        return np.single(1)\n",
    "    if k == 1:\n",
    "        return np.single(1/c)\n",
    "    return np.single( ( 10 * recursive_function_f(k - 1) - c * recursive_function_f(k - 2)) / c )"
   ]
  },
  {
   "cell_type": "code",
   "execution_count": 65,
   "id": "dea11dd20b807253",
   "metadata": {
    "collapsed": false,
    "ExecuteTime": {
     "end_time": "2024-03-04T17:15:37.454808Z",
     "start_time": "2024-03-04T17:15:37.411800Z"
    }
   },
   "outputs": [],
   "source": [
    "def generate(state, k, c = 3):\n",
    "    calculate_tab = [0] * k \n",
    "    if state == 0:\n",
    "        calculate_tab[0] = np.float32(1)\n",
    "        calculate_tab[1] = np.float32(1/c)\n",
    "        for i in range(2, k):\n",
    "            calculate_tab[i] = np.float32(( 10 * calculate_tab[i-1] - c * calculate_tab[i - 2]) / c)\n",
    "    elif state == 1:\n",
    "        calculate_tab[0] = np.float64(1)\n",
    "        calculate_tab[1] = np.float64(1/c)\n",
    "        for i in range(2, k):\n",
    "            calculate_tab[i] = np.float64(( 10 * calculate_tab[i-1] - c * calculate_tab[i - 2]) / c)\n",
    "    elif state == 2:\n",
    "        calculate_tab[0] = Fraction(1)\n",
    "        calculate_tab[1] = Fraction(1/c)\n",
    "        for i in range(2, k):\n",
    "            calculate_tab[i] = Fraction(( 10 * calculate_tab[i-1] - c * calculate_tab[i - 2]) / c)\n",
    "    return calculate_tab"
   ]
  },
  {
   "cell_type": "code",
   "execution_count": 66,
   "id": "b8757077126063de",
   "metadata": {
    "collapsed": false,
    "ExecuteTime": {
     "end_time": "2024-03-04T17:15:37.519192Z",
     "start_time": "2024-03-04T17:15:37.455807Z"
    }
   },
   "outputs": [],
   "source": [
    "data = [generate(0,47), generate(1,47), generate(2,47)]\n",
    "df = pd.DataFrame(data).T\n",
    "df.columns=[\"float\", \"double\", \"longdouble\"]"
   ]
  },
  {
   "cell_type": "code",
   "execution_count": 67,
   "id": "65ad821021038134",
   "metadata": {
    "collapsed": false,
    "ExecuteTime": {
     "end_time": "2024-03-04T17:15:37.555782Z",
     "start_time": "2024-03-04T17:15:37.521189Z"
    }
   },
   "outputs": [
    {
     "name": "stdout",
     "output_type": "stream",
     "text": [
      "                       float             double  \\\n",
      "0               1.0000000000       1.0000000000   \n",
      "1               0.3333333433       0.3333333333   \n",
      "2               0.1111111417       0.1111111111   \n",
      "3               0.0370371304       0.0370370370   \n",
      "4               0.0123459594       0.0123456790   \n",
      "5               0.0041160677       0.0041152263   \n",
      "6               0.0013742661       0.0013717421   \n",
      "7               0.0004648194       0.0004572474   \n",
      "8               0.0001751318       0.0001524158   \n",
      "9               0.0001189533       0.0000508053   \n",
      "10              0.0002213791       0.0000169351   \n",
      "11              0.0006189770       0.0000056450   \n",
      "12              0.0018418776       0.0000018817   \n",
      "13              0.0055206148       0.0000006272   \n",
      "14              0.0165601708       0.0000002090   \n",
      "15              0.0496799536       0.0000000695   \n",
      "16              0.1490396708       0.0000000226   \n",
      "17              0.4471189380       0.0000000060   \n",
      "18              1.3413567543      -0.0000000027   \n",
      "19              4.0240702629      -0.0000000149   \n",
      "20             12.0722103119      -0.0000000468   \n",
      "21             36.2166290283      -0.0000001413   \n",
      "22            108.6498870850      -0.0000004242   \n",
      "23            325.9496459961      -0.0000012727   \n",
      "24            977.8489379883      -0.0000038180   \n",
      "25           2933.5468750000      -0.0000114540   \n",
      "26           8800.6406250000      -0.0000343621   \n",
      "27          26401.9218750000      -0.0001030864   \n",
      "28          79205.7656250000      -0.0003092593   \n",
      "29         237617.2968750000      -0.0009277778   \n",
      "30         712851.8750000000      -0.0027833335   \n",
      "31        2138555.5000000000      -0.0083500005   \n",
      "32        6415666.5000000000      -0.0250500016   \n",
      "33       19247000.0000000000      -0.0751500047   \n",
      "34       57741000.0000000000      -0.2254500142   \n",
      "35      173223008.0000000000      -0.6763500427   \n",
      "36      519669024.0000000000      -2.0290501281   \n",
      "37     1559007104.0000000000      -6.0871503842   \n",
      "38     4677021184.0000000000     -18.2614511527   \n",
      "39    14031063040.0000000000     -54.7843534581   \n",
      "40    42093187072.0000000000    -164.3530603742   \n",
      "41   126279557120.0000000000    -493.0591811225   \n",
      "42   378838679552.0000000000   -1479.1775433676   \n",
      "43  1136516005888.0000000000   -4437.5326301027   \n",
      "44  3409547886592.0000000000  -13312.5978903080   \n",
      "45 10228643921920.0000000000  -39937.7936709241   \n",
      "46 30685932814336.0000000000 -119813.3810127722   \n",
      "\n",
      "                                           longdouble  \n",
      "0                                                   1  \n",
      "1                  6004799503160661/18014398509481984  \n",
      "2                   1000799917193443/9007199254740992  \n",
      "3                  2001599834386877/54043195528445952  \n",
      "4                   500399958596699/40532396646334464  \n",
      "5                 2001599834386067/486388759756013568  \n",
      "6                 1000799917189753/729583139634020352  \n",
      "7                2001599834320457/4377498837804122112  \n",
      "8                 250199979223627/1641562064176545792  \n",
      "9               2001599829006047/39397489540237099008  \n",
      "10              1000799892979663/59096234310355648512  \n",
      "11             2001599398538837/354577405862133891072  \n",
      "12              500398977938609/265933054396600418304  \n",
      "13            2001564530694827/3191196652759205019648  \n",
      "14            1000641050579173/4786794979138807529472  \n",
      "15           1998740235330017/28720769874832845176832  \n",
      "16             123491465179691/5385144351531158470656  \n",
      "17          1769972310780407/258486928873495606591488  \n",
      "18           -41523939035717/387730393310243409887232  \n",
      "19       -16760229577738003/2326382359861460459323392  \n",
      "20       -41713716218684281/1744786769896095344492544  \n",
      "21    -1517706582547729213/20937441238753144133910528  \n",
      "22    -6837686020802329007/31406161858129716200865792  \n",
      "23  -123094361173117017223/18843697114877829720519...  \n",
      "24  -138483157919591031263/70663864180791861451948032  \n",
      "25  -9970803383009229346033/1695932740339004674846...  \n",
      "26  -44868623229940869604697/254389911050850701227...  \n",
      "27  -807635234151734327979643/15263394663051042073...  \n",
      "28  -1817179280844601906727971/1144754599728828155...  \n",
      "29  -65418454126418467317302053/137370551967459378...  \n",
      "30  -294383043576889502265406787/20605582795118906...  \n",
      "31  -5298894784400023839452417263/1236334967707134...  \n",
      "32  -1490314158113007104804589077/1159064032225438...  \n",
      "33  -429210477536562058982396749273/11127014709364...  \n",
      "34  -1931447148914537271820122919277/1669052206404...  \n",
      "35  -34766048680461686905560887642083/100143132384...  \n",
      "36  -78223609531038799540711665968461/751073492882...  \n",
      "37  -2816049943117396799478418649959693/9012881914...  \n",
      "38  -12672224744028285605659283262366167/135193228...  \n",
      "39  -228100045392509140917879897397686103/81115937...  \n",
      "40  -256612551066572783534616484406783753/30418476...  \n",
      "41  -18476103676793240414508399675963525313/730043...  \n",
      "42  -83142466545569581865295804941173411457/109506...  \n",
      "43  -1496564397820252473575340501739796501323/6570...  \n",
      "44  -3367269895095568065544520132114210901751/4927...  \n",
      "45  -121221716223440450359602740768910267558133/59...  \n",
      "46  -545497723005482026618212341466495541559147/88...  \n"
     ]
    }
   ],
   "source": [
    "print(df)"
   ]
  }
 ],
 "metadata": {
  "kernelspec": {
   "display_name": "Python 3 (ipykernel)",
   "language": "python",
   "name": "python3"
  },
  "language_info": {
   "codemirror_mode": {
    "name": "ipython",
    "version": 3
   },
   "file_extension": ".py",
   "mimetype": "text/x-python",
   "name": "python",
   "nbconvert_exporter": "python",
   "pygments_lexer": "ipython3",
   "version": "3.11.2"
  }
 },
 "nbformat": 4,
 "nbformat_minor": 5
}
