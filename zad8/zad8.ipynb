{
 "cells": [
  {
   "cell_type": "code",
   "execution_count": 194,
   "id": "initial_id",
   "metadata": {
    "collapsed": true,
    "ExecuteTime": {
     "end_time": "2024-06-13T23:41:40.007783Z",
     "start_time": "2024-06-13T23:41:39.999810Z"
    }
   },
   "outputs": [],
   "source": [
    "import numpy as np\n",
    "import timeit"
   ]
  },
  {
   "cell_type": "code",
   "outputs": [],
   "source": [
    "m = 2.5\n",
    "k = 8"
   ],
   "metadata": {
    "collapsed": false,
    "ExecuteTime": {
     "end_time": "2024-06-13T23:41:40.012431Z",
     "start_time": "2024-06-13T23:41:40.009768Z"
    }
   },
   "id": "8455f91787c0bda6",
   "execution_count": 195
  },
  {
   "cell_type": "code",
   "outputs": [],
   "source": [
    "def generate_matrix_and_vector(n, dtype=np.float64):\n",
    "    matrix = np.zeros((n,n), dtype=dtype)\n",
    "\n",
    "    for i in range(1, n+1):\n",
    "        for j in range(1, n+1):\n",
    "            if i == j:\n",
    "                matrix[i-1, j-1] = k\n",
    "            elif j > i:\n",
    "                matrix[i-1, j-1] = (-1) ** j * (m / j)\n",
    "            elif j == i-1:\n",
    "                matrix[i-1, j-1] = m/i\n",
    "\n",
    "\n",
    "    vector = np.array([1 if i % 2 == 0 else -1 for i in range(n)], dtype=dtype)\n",
    "\n",
    "    return matrix, vector"
   ],
   "metadata": {
    "collapsed": false,
    "ExecuteTime": {
     "end_time": "2024-06-13T23:41:40.047941Z",
     "start_time": "2024-06-13T23:41:40.041942Z"
    }
   },
   "id": "af853410f8c2099c",
   "execution_count": 196
  },
  {
   "cell_type": "code",
   "outputs": [],
   "source": [
    "def difference(v1, v2):\n",
    "    differences = np.abs(v1 - v2)\n",
    "\n",
    "    max_difference = np.max(differences)\n",
    "    return max_difference"
   ],
   "metadata": {
    "collapsed": false,
    "ExecuteTime": {
     "end_time": "2024-06-13T23:41:40.053940Z",
     "start_time": "2024-06-13T23:41:40.048942Z"
    }
   },
   "id": "739f82a68db9d362",
   "execution_count": 197
  },
  {
   "cell_type": "code",
   "outputs": [],
   "source": [
    "def jacobi_iteration_matrix(A):\n",
    "    D = np.diag(np.diag(A))\n",
    "    D_inv = np.linalg.inv(D)\n",
    "    M = np.eye(A.shape[0]) - D_inv @ A\n",
    "    return M\n",
    "\n",
    "def spectral_radius(matrix):\n",
    "    eigenvalues = np.linalg.eigvals(matrix)\n",
    "    return max(abs(eigenvalues))"
   ],
   "metadata": {
    "collapsed": false,
    "ExecuteTime": {
     "end_time": "2024-06-13T23:41:40.072685Z",
     "start_time": "2024-06-13T23:41:40.067940Z"
    }
   },
   "id": "3eee708120a24e7",
   "execution_count": 198
  },
  {
   "cell_type": "code",
   "outputs": [
    {
     "name": "stdout",
     "output_type": "stream",
     "text": [
      "n = 3, rho = 0.15625000000000003\n",
      "n = 4, rho = 0.15625000000000008\n",
      "n = 5, rho = 0.15625\n",
      "n = 6, rho = 0.15625000000000006\n",
      "n = 7, rho = 0.15625000000000022\n",
      "n = 8, rho = 0.15624999999999983\n",
      "n = 9, rho = 0.1562500000000002\n",
      "n = 10, rho = 0.15625\n",
      "n = 11, rho = 0.15625000000000003\n",
      "n = 12, rho = 0.15624999999999972\n",
      "n = 13, rho = 0.1562499999999998\n",
      "n = 14, rho = 0.1562500000000004\n",
      "n = 15, rho = 0.15625000000000083\n",
      "n = 16, rho = 0.15625000000000047\n",
      "n = 17, rho = 0.15625000000000006\n",
      "n = 18, rho = 0.15625000000000033\n",
      "n = 19, rho = 0.15625000000000047\n",
      "n = 20, rho = 0.1562499999999999\n",
      "n = 21, rho = 0.15625000000000025\n",
      "n = 22, rho = 0.15625000000000044\n",
      "n = 23, rho = 0.1562499999999998\n",
      "n = 24, rho = 0.1562499999999997\n",
      "n = 25, rho = 0.15625000000000036\n",
      "n = 26, rho = 0.1562500000000001\n",
      "n = 27, rho = 0.15624999999999997\n",
      "n = 28, rho = 0.15624999999999983\n",
      "n = 29, rho = 0.15625000000000092\n",
      "n = 30, rho = 0.15624999999999978\n",
      "n = 31, rho = 0.15625000000000053\n",
      "n = 32, rho = 0.15625000000000047\n",
      "n = 33, rho = 0.15625000000000058\n",
      "n = 34, rho = 0.1562499999999999\n",
      "n = 35, rho = 0.1562500000000004\n",
      "n = 36, rho = 0.15625000000000058\n",
      "n = 37, rho = 0.15625000000000022\n",
      "n = 38, rho = 0.15624999999999994\n",
      "n = 39, rho = 0.1562499999999999\n",
      "n = 40, rho = 0.15624999999999967\n",
      "n = 41, rho = 0.15625000000000028\n",
      "n = 42, rho = 0.15625000000000008\n",
      "n = 43, rho = 0.15625000000000042\n",
      "n = 44, rho = 0.15624999999999956\n",
      "n = 45, rho = 0.1562500000000001\n",
      "n = 46, rho = 0.15625000000000017\n",
      "n = 47, rho = 0.15625000000000003\n",
      "n = 48, rho = 0.1562499999999999\n",
      "n = 49, rho = 0.1562500000000003\n",
      "n = 50, rho = 0.15625000000000017\n",
      "n = 51, rho = 0.15625000000000036\n",
      "n = 52, rho = 0.15624999999999997\n",
      "n = 53, rho = 0.15624999999999994\n",
      "n = 54, rho = 0.15625000000000042\n",
      "n = 55, rho = 0.15624999999999978\n",
      "n = 56, rho = 0.15625\n",
      "n = 57, rho = 0.15625000000000022\n",
      "n = 58, rho = 0.15624999999999972\n",
      "n = 59, rho = 0.15625000000000025\n",
      "n = 60, rho = 0.15624999999999986\n",
      "n = 61, rho = 0.15624999999999967\n",
      "n = 62, rho = 0.1562500000000003\n",
      "n = 63, rho = 0.15624999999999967\n",
      "n = 64, rho = 0.1562500000000001\n",
      "n = 65, rho = 0.15625000000000047\n",
      "n = 66, rho = 0.15624999999999956\n",
      "n = 67, rho = 0.15625000000000022\n",
      "n = 68, rho = 0.1562499999999994\n",
      "n = 69, rho = 0.15624999999999978\n",
      "n = 70, rho = 0.15624999999999994\n",
      "n = 71, rho = 0.15625000000000022\n",
      "n = 72, rho = 0.15624999999999978\n",
      "n = 73, rho = 0.15624999999999944\n",
      "n = 74, rho = 0.15625000000000014\n",
      "n = 75, rho = 0.15625\n",
      "n = 76, rho = 0.15625000000000044\n",
      "n = 77, rho = 0.15625000000000025\n",
      "n = 78, rho = 0.1562500000000004\n",
      "n = 79, rho = 0.15625000000000022\n",
      "n = 80, rho = 0.15625000000000064\n",
      "n = 81, rho = 0.15625000000000072\n",
      "n = 82, rho = 0.15624999999999986\n",
      "n = 83, rho = 0.15625000000000017\n",
      "n = 84, rho = 0.1562499999999999\n",
      "n = 85, rho = 0.15625000000000033\n",
      "n = 86, rho = 0.15625000000000044\n",
      "n = 87, rho = 0.1562500000000007\n",
      "n = 88, rho = 0.15625000000000025\n",
      "n = 89, rho = 0.15625000000000025\n",
      "n = 90, rho = 0.1562500000000002\n",
      "n = 91, rho = 0.1562499999999999\n",
      "n = 92, rho = 0.15625000000000064\n",
      "n = 93, rho = 0.15624999999999967\n",
      "n = 94, rho = 0.15625000000000025\n",
      "n = 95, rho = 0.15625000000000053\n",
      "n = 96, rho = 0.1562500000000005\n",
      "n = 97, rho = 0.15625000000000006\n",
      "n = 98, rho = 0.15625000000000003\n",
      "n = 99, rho = 0.15624999999999986\n",
      "n = 100, rho = 0.1562500000000006\n",
      "n = 101, rho = 0.15625000000000064\n",
      "n = 102, rho = 0.15625000000000036\n",
      "n = 103, rho = 0.1562500000000001\n",
      "n = 104, rho = 0.1562500000000001\n",
      "n = 105, rho = 0.1562500000000003\n",
      "n = 106, rho = 0.1562500000000006\n",
      "n = 107, rho = 0.15625000000000056\n",
      "n = 108, rho = 0.1562500000000003\n",
      "n = 109, rho = 0.15625000000000075\n",
      "n = 110, rho = 0.15625000000000075\n",
      "n = 111, rho = 0.15625000000000006\n",
      "n = 112, rho = 0.15625000000000028\n",
      "n = 113, rho = 0.15625000000000042\n",
      "n = 114, rho = 0.15625000000000033\n",
      "n = 115, rho = 0.15625000000000028\n",
      "n = 116, rho = 0.1562500000000005\n",
      "n = 117, rho = 0.1562500000000003\n",
      "n = 118, rho = 0.15625000000000028\n",
      "n = 119, rho = 0.15625000000000014\n",
      "n = 120, rho = 0.15625000000000067\n",
      "n = 121, rho = 0.15625000000000108\n",
      "n = 122, rho = 0.15624999999999967\n",
      "n = 123, rho = 0.15624999999999994\n",
      "n = 124, rho = 0.15625000000000117\n",
      "n = 125, rho = 0.15625000000000056\n",
      "n = 126, rho = 0.15625000000000022\n",
      "n = 127, rho = 0.15624999999999958\n",
      "n = 128, rho = 0.15625000000000067\n",
      "n = 129, rho = 0.15625000000000067\n",
      "n = 130, rho = 0.1562499999999998\n",
      "n = 131, rho = 0.15625000000000064\n",
      "n = 132, rho = 0.15625000000000058\n",
      "n = 133, rho = 0.15625\n",
      "n = 134, rho = 0.15625000000000028\n",
      "n = 135, rho = 0.1562499999999999\n",
      "n = 136, rho = 0.15624999999999997\n",
      "n = 137, rho = 0.15625000000000067\n",
      "n = 138, rho = 0.1562500000000004\n",
      "n = 139, rho = 0.15625000000000014\n",
      "n = 140, rho = 0.15625000000000092\n",
      "n = 141, rho = 0.15625\n",
      "n = 142, rho = 0.15625000000000056\n",
      "n = 143, rho = 0.15625000000000033\n",
      "n = 144, rho = 0.15625000000000033\n",
      "n = 145, rho = 0.15625000000000053\n",
      "n = 146, rho = 0.15625000000000025\n",
      "n = 147, rho = 0.1562500000000007\n",
      "n = 148, rho = 0.15624999999999972\n",
      "n = 149, rho = 0.15624999999999997\n",
      "n = 150, rho = 0.15624999999999978\n",
      "n = 151, rho = 0.15625000000000072\n",
      "n = 152, rho = 0.1562500000000005\n",
      "n = 153, rho = 0.15625000000000017\n",
      "n = 154, rho = 0.15625000000000028\n",
      "n = 155, rho = 0.15625000000000017\n",
      "n = 156, rho = 0.15624999999999994\n",
      "n = 157, rho = 0.1562500000000002\n",
      "n = 158, rho = 0.15624999999999994\n",
      "n = 159, rho = 0.15625\n",
      "n = 160, rho = 0.1562499999999999\n",
      "n = 161, rho = 0.15624999999999994\n",
      "n = 162, rho = 0.15624999999999997\n",
      "n = 163, rho = 0.15625000000000075\n",
      "n = 164, rho = 0.15624999999999967\n",
      "n = 165, rho = 0.15625000000000056\n",
      "n = 166, rho = 0.15625000000000022\n",
      "n = 167, rho = 0.15625000000000092\n",
      "n = 168, rho = 0.15625\n",
      "n = 169, rho = 0.15625000000000008\n",
      "n = 170, rho = 0.15625000000000042\n",
      "n = 171, rho = 0.1562500000000005\n",
      "n = 172, rho = 0.15625000000000003\n",
      "n = 173, rho = 0.15625000000000033\n",
      "n = 174, rho = 0.15625000000000044\n",
      "n = 175, rho = 0.15625000000000078\n",
      "n = 176, rho = 0.15625000000000086\n",
      "n = 177, rho = 0.1562500000000004\n",
      "n = 178, rho = 0.1562499999999995\n",
      "n = 179, rho = 0.15625000000000092\n",
      "n = 180, rho = 0.15625000000000058\n",
      "n = 181, rho = 0.1562500000000006\n",
      "n = 182, rho = 0.15625000000000006\n",
      "n = 183, rho = 0.15624999999999994\n",
      "n = 184, rho = 0.15625000000000056\n",
      "n = 185, rho = 0.15625000000000072\n",
      "n = 186, rho = 0.15624999999999953\n",
      "n = 187, rho = 0.15625000000000044\n",
      "n = 188, rho = 0.15625000000000028\n",
      "n = 189, rho = 0.1562500000000004\n",
      "n = 190, rho = 0.15624999999999975\n",
      "n = 191, rho = 0.15625000000000033\n",
      "n = 192, rho = 0.1562499999999995\n",
      "n = 193, rho = 0.15625000000000017\n",
      "n = 194, rho = 0.1562500000000014\n",
      "n = 195, rho = 0.15625000000000017\n",
      "n = 196, rho = 0.15625000000000033\n",
      "n = 197, rho = 0.1562500000000002\n",
      "n = 198, rho = 0.15625000000000028\n",
      "n = 199, rho = 0.15625000000000105\n"
     ]
    }
   ],
   "source": [
    "for i in range(3, 200):\n",
    "    A, _ = generate_matrix_and_vector(i)\n",
    "    M = jacobi_iteration_matrix(A)\n",
    "    rho = spectral_radius(M)\n",
    "    print(f\"n = {i}, rho = {rho}\")"
   ],
   "metadata": {
    "collapsed": false,
    "ExecuteTime": {
     "end_time": "2024-06-13T23:41:42.724346Z",
     "start_time": "2024-06-13T23:41:40.073681Z"
    }
   },
   "id": "be147005a20ec7f3",
   "execution_count": 199
  },
  {
   "cell_type": "code",
   "outputs": [],
   "source": [
    "def jacobi_method(A, b, rho, typed=1, stop=1):\n",
    "    iterations = 0\n",
    "    if typed == 1:\n",
    "        x = np.zeros_like(b)\n",
    "    else:\n",
    "        x = np.array([100 if i % 2 == 0 else -100 for i in range(b.shape[0])])\n",
    "        \n",
    "    D = np.diag(A)\n",
    "    R = A - np.diagflat(D)\n",
    "    while True:\n",
    "        x_new = (b - R @ x) / D\n",
    "        iterations += 1\n",
    "        if stop == 1:\n",
    "            if np.linalg.norm(x_new - x) < rho:\n",
    "                break\n",
    "        else:\n",
    "            if np.linalg.norm(A @ x_new - b) < rho:\n",
    "                break\n",
    "        x = x_new\n",
    "            \n",
    "    return x_new, iterations"
   ],
   "metadata": {
    "collapsed": false,
    "ExecuteTime": {
     "end_time": "2024-06-13T23:41:42.730049Z",
     "start_time": "2024-06-13T23:41:42.725345Z"
    }
   },
   "id": "32f04b79ac7d7f98",
   "execution_count": 200
  },
  {
   "cell_type": "code",
   "outputs": [],
   "source": [
    "rhos = [1e-1, 1e-3, 1e-5, 1e-7, 1e-9, 1e-11]"
   ],
   "metadata": {
    "collapsed": false,
    "ExecuteTime": {
     "end_time": "2024-06-13T23:41:42.735842Z",
     "start_time": "2024-06-13T23:41:42.730049Z"
    }
   },
   "id": "214fe2cca4cd00d3",
   "execution_count": 201
  },
  {
   "cell_type": "code",
   "outputs": [],
   "source": [
    "def generate_iterations_table(typed, stop):\n",
    "    table = \"\\\\noindent\\\\begin{minipage}{\\\\linewidth}\\n\\\\centering\\n\"\n",
    "    table += \"\\\\begin{tabular}{|c|\" + \"c|\" * len(rhos) + \"}\\n\\\\hline\\n\"\n",
    "    table += \"\\\\multicolumn{1}{|c|}{} & \\\\multicolumn{\" + str(len(rhos)) + \"}{c|}{\\\\textbf{$\\\\rho$}} \\\\\\\\ \\\\cline{2-\" + str(len(rhos) + 1) + \"}\\n\"\n",
    "    table += \"\\\\multicolumn{1}{|c|}{\\\\multirow{-2}{*}{\\\\textbf{$n$}}} \"\n",
    "    for rho in rhos:\n",
    "        table += f\"& {rho} \"\n",
    "    table += \"\\\\\\\\ \\\\hline\\n\"\n",
    "\n",
    "    n_values = list(range(5, 431, 25)) + [500,1000]\n",
    "\n",
    "    for n in n_values:\n",
    "        row = f\"{n} \"\n",
    "        for rho in rhos:\n",
    "            A, b = generate_matrix_and_vector(n)\n",
    "            _, iterations = jacobi_method(A, b, rho=rho, typed=typed, stop=stop)\n",
    "            row += f\"& {iterations} \"\n",
    "        row += \"\\\\\\\\ \\\\hline\\n\"\n",
    "        table += row\n",
    "\n",
    "    table += \"\\\\end{tabular}\\n\"\n",
    "    table += \"\\\\captionsetup{justification=centering}\\n\"\n",
    "    if typed == 1 and stop == 1:\n",
    "        table += \"\\\\captionof{table}{Liczba iteracji dla różnych wartości n dla wektora [0, 0, ...] i pierwszego kryterium stopu}\\n\\\\end{minipage}\"\n",
    "    elif typed == 1 and stop == 2:\n",
    "        table += \"\\\\captionof{table}{Liczba iteracji dla różnych wartości n dla wektora [0, 0, ...] i drugiego kryterium stopu}\\n\\\\end{minipage}\"\n",
    "    elif typed == 2 and stop == 1:\n",
    "        table += \"\\\\captionof{table}{Liczba iteracji dla różnych wartości n dla wektora [100, -100, ...] i pierwszego kryterium stopu}\\n\\\\end{minipage}\"\n",
    "    else:\n",
    "        table += \"\\\\captionof{table}{Liczba iteracji dla różnych wartości n dla wektora [100, -100, ...] i drugiego kryterium stopu}\\n\\\\end{minipage}\"\n",
    "    return table"
   ],
   "metadata": {
    "collapsed": false,
    "ExecuteTime": {
     "end_time": "2024-06-13T23:41:42.743240Z",
     "start_time": "2024-06-13T23:41:42.736797Z"
    }
   },
   "id": "30ea6ca60f0ced40",
   "execution_count": 202
  },
  {
   "cell_type": "code",
   "outputs": [],
   "source": [
    "def generate_difference_table(typed, stop):\n",
    "    table = \"\\\\noindent\\\\begin{minipage}{\\\\linewidth}\\n\\\\centering\\n\"\n",
    "    table += \"\\\\begin{tabular}{|c|\" + \"c|\" * len(rhos) + \"}\\n\\\\hline\\n\"\n",
    "    table += \"\\\\multicolumn{1}{|c|}{} & \\\\multicolumn{\" + str(len(rhos)) + \"}{c|}{\\\\textbf{$\\\\rho$}} \\\\\\\\ \\\\cline{2-\" + str(len(rhos) + 1) + \"}\\n\"\n",
    "    table += \"\\\\multicolumn{1}{|c|}{\\\\multirow{-2}{*}{\\\\textbf{$n$}}} \"\n",
    "    for rho in rhos:\n",
    "        table += f\"& {rho} \"\n",
    "    table += \"\\\\\\\\ \\\\hline\\n\"\n",
    "\n",
    "    n_values = list(range(5, 431, 25)) + [500,1000]\n",
    "\n",
    "    for n in n_values:\n",
    "        row = f\"{n} \"\n",
    "        for rho in rhos:\n",
    "            A, b = generate_matrix_and_vector(n)\n",
    "            x, _ = jacobi_method(A, b, rho=rho, typed=typed, stop=stop)\n",
    "            diff = difference(b, A @ x)\n",
    "            row += f\"& {diff:.8f} \"\n",
    "        row += \"\\\\\\\\ \\\\hline\\n\"\n",
    "        table += row\n",
    "\n",
    "    table += \"\\\\end{tabular}\\n\"\n",
    "    table += \"\\\\captionsetup{justification=centering}\\n\"\n",
    "    if typed == 1 and stop == 1:\n",
    "        table += \"\\\\captionof{table}{Różnice dla różnych wartości n dla wektora [0, 0, ...] i pierwszego kryterium stopu}\\n\\\\end{minipage}\"\n",
    "    elif typed == 1 and stop == 2:\n",
    "        table += \"\\\\captionof{table}{Różnice dla różnych wartości n dla wektora [0, 0, ...] i drugiego kryterium stopu}\\n\\\\end{minipage}\"\n",
    "    elif typed == 2 and stop == 1:\n",
    "        table += \"\\\\captionof{table}{Różnice dla różnych wartości n dla wektora [100, -100, ...] i pierwszego kryterium stopu}\\n\\\\end{minipage}\"\n",
    "    else:\n",
    "        table += \"\\\\captionof{table}{Różnice dla różnych wartości n dla wektora [100, -100, ...] i drugiego kryterium stopu}\\n\\\\end{minipage}\"\n",
    "    return table"
   ],
   "metadata": {
    "collapsed": false,
    "ExecuteTime": {
     "end_time": "2024-06-13T23:41:42.750067Z",
     "start_time": "2024-06-13T23:41:42.744280Z"
    }
   },
   "id": "636ce65feada7e3d",
   "execution_count": 203
  },
  {
   "cell_type": "code",
   "outputs": [],
   "source": [
    "def generate_execution_time_table(typed, stop):\n",
    "    table = \"\\\\noindent\\\\begin{minipage}{\\\\linewidth}\\n\\\\centering\\n\"\n",
    "    table += \"\\\\begin{tabular}{|c|\" + \"c|\" * len(rhos) + \"}\\n\\\\hline\\n\"\n",
    "    table += \"\\\\multicolumn{1}{|c|}{} & \\\\multicolumn{\" + str(len(rhos)) + \"}{c|}{\\\\textbf{$\\\\rho$}} \\\\\\\\ \\\\cline{2-\" + str(len(rhos) + 1) + \"}\\n\"\n",
    "    table += \"\\\\multicolumn{1}{|c|}{\\\\multirow{-2}{*}{\\\\textbf{$n$}}} \"\n",
    "    for rho in rhos:\n",
    "        table += f\"& {rho} \"\n",
    "    table += \"\\\\\\\\ \\\\hline\\n\"\n",
    "\n",
    "    n_values = list(range(5, 431, 25)) + [500,1000]\n",
    "    \n",
    "    for n in n_values:\n",
    "        row = f\"{n} \"\n",
    "        for rho in rhos:\n",
    "            A, b = generate_matrix_and_vector(n)\n",
    "            exec_time = timeit.timeit(lambda: jacobi_method(A, b, rho=rho, typed=typed, stop=stop), number=1)\n",
    "            row += f\"& {exec_time:.8f} \"\n",
    "        row += \"\\\\\\\\ \\\\hline\\n\"\n",
    "        table += row\n",
    "\n",
    "    table += \"\\\\end{tabular}\\n\"\n",
    "    table += \"\\\\captionsetup{justification=centering}\\n\"\n",
    "    if typed == 1 and stop == 1:\n",
    "        table += \"\\\\captionof{table}{Czasy wykonania w sekundach dla różnych wartości n dla wektora [0, 0, ...] i pierwszego kryterium stopu}\\n\\\\end{minipage}\"\n",
    "    elif typed == 1 and stop == 2:\n",
    "        table += \"\\\\captionof{table}{Czasy wykonania w sekundach dla różnych wartości n dla wektora [0, 0, ...] i drugiego kryterium stopu}\\n\\\\end{minipage}\"\n",
    "    elif typed == 2 and stop == 1:\n",
    "        table += \"\\\\captionof{table}{Czasy wykonania w sekundach dla różnych wartości n dla wektora [100, -100, ...] i pierwszego kryterium stopu}\\n\\\\end{minipage}\"\n",
    "    else:\n",
    "        table += \"\\\\captionof{table}{Czasy wykonania w sekundach dla różnych wartości n dla wektora [100, -100, ...] i drugiego kryterium stopu}\\n\\\\end{minipage}\"\n",
    "    return table"
   ],
   "metadata": {
    "collapsed": false,
    "ExecuteTime": {
     "end_time": "2024-06-13T23:41:42.757210Z",
     "start_time": "2024-06-13T23:41:42.751061Z"
    }
   },
   "id": "ec5aa57579831ce0",
   "execution_count": 204
  },
  {
   "cell_type": "code",
   "outputs": [
    {
     "name": "stdout",
     "output_type": "stream",
     "text": [
      "\\noindent\\begin{minipage}{\\linewidth}\n",
      "\\centering\n",
      "\\begin{tabular}{|c|c|c|c|c|c|c|}\n",
      "\\hline\n",
      "\\multicolumn{1}{|c|}{} & \\multicolumn{6}{c|}{\\textbf{$\\rho$}} \\\\ \\cline{2-7}\n",
      "\\multicolumn{1}{|c|}{\\multirow{-2}{*}{\\textbf{$n$}}} & 0.1 & 0.001 & 1e-05 & 1e-07 & 1e-09 & 1e-11 \\\\ \\hline\n",
      "5 & 2 & 4 & 7 & 9 & 12 & 14 \\\\ \\hline\n",
      "30 & 3 & 5 & 7 & 9 & 12 & 14 \\\\ \\hline\n",
      "55 & 3 & 5 & 7 & 9 & 12 & 14 \\\\ \\hline\n",
      "80 & 3 & 5 & 7 & 9 & 12 & 14 \\\\ \\hline\n",
      "105 & 3 & 5 & 7 & 9 & 12 & 14 \\\\ \\hline\n",
      "130 & 3 & 5 & 7 & 9 & 12 & 14 \\\\ \\hline\n",
      "155 & 3 & 5 & 7 & 9 & 12 & 14 \\\\ \\hline\n",
      "180 & 3 & 5 & 7 & 9 & 12 & 14 \\\\ \\hline\n",
      "205 & 3 & 5 & 7 & 9 & 12 & 14 \\\\ \\hline\n",
      "230 & 3 & 5 & 7 & 9 & 12 & 14 \\\\ \\hline\n",
      "255 & 3 & 5 & 7 & 9 & 12 & 14 \\\\ \\hline\n",
      "280 & 3 & 5 & 7 & 9 & 12 & 14 \\\\ \\hline\n",
      "305 & 3 & 5 & 7 & 9 & 12 & 14 \\\\ \\hline\n",
      "330 & 3 & 5 & 7 & 9 & 12 & 14 \\\\ \\hline\n",
      "355 & 3 & 5 & 7 & 9 & 12 & 14 \\\\ \\hline\n",
      "380 & 3 & 5 & 7 & 9 & 12 & 14 \\\\ \\hline\n",
      "405 & 3 & 5 & 7 & 9 & 12 & 14 \\\\ \\hline\n",
      "430 & 3 & 5 & 7 & 9 & 12 & 14 \\\\ \\hline\n",
      "500 & 3 & 5 & 7 & 9 & 12 & 14 \\\\ \\hline\n",
      "1000 & 3 & 5 & 7 & 9 & 12 & 14 \\\\ \\hline\n",
      "\\end{tabular}\n",
      "\\captionsetup{justification=centering}\n",
      "\\captionof{table}{Liczba iteracji dla różnych wartości n dla wektora [0, 0, ...] i pierwszego kryterium stopu}\n",
      "\\end{minipage}\n"
     ]
    }
   ],
   "source": [
    "print(generate_iterations_table(1, 1))"
   ],
   "metadata": {
    "collapsed": false,
    "ExecuteTime": {
     "end_time": "2024-06-13T23:41:45.470578Z",
     "start_time": "2024-06-13T23:41:42.758204Z"
    }
   },
   "id": "bcdb97f2dae12301",
   "execution_count": 205
  },
  {
   "cell_type": "code",
   "outputs": [
    {
     "name": "stdout",
     "output_type": "stream",
     "text": [
      "\\noindent\\begin{minipage}{\\linewidth}\n",
      "\\centering\n",
      "\\begin{tabular}{|c|c|c|c|c|c|c|}\n",
      "\\hline\n",
      "\\multicolumn{1}{|c|}{} & \\multicolumn{6}{c|}{\\textbf{$\\rho$}} \\\\ \\cline{2-7}\n",
      "\\multicolumn{1}{|c|}{\\multirow{-2}{*}{\\textbf{$n$}}} & 0.1 & 0.001 & 1e-05 & 1e-07 & 1e-09 & 1e-11 \\\\ \\hline\n",
      "5 & 0.03203668 & 0.00078881 & 0.00000267 & 0.00000007 & 0.00000000 & 0.00000000 \\\\ \\hline\n",
      "30 & 0.00586995 & 0.00013075 & 0.00000240 & 0.00000008 & 0.00000000 & 0.00000000 \\\\ \\hline\n",
      "55 & 0.00697123 & 0.00014847 & 0.00000232 & 0.00000008 & 0.00000000 & 0.00000000 \\\\ \\hline\n",
      "80 & 0.00804614 & 0.00015937 & 0.00000228 & 0.00000008 & 0.00000000 & 0.00000000 \\\\ \\hline\n",
      "105 & 0.00883454 & 0.00016729 & 0.00000230 & 0.00000008 & 0.00000000 & 0.00000000 \\\\ \\hline\n",
      "130 & 0.00945857 & 0.00017350 & 0.00000233 & 0.00000008 & 0.00000000 & 0.00000000 \\\\ \\hline\n",
      "155 & 0.00997413 & 0.00017863 & 0.00000235 & 0.00000008 & 0.00000000 & 0.00000000 \\\\ \\hline\n",
      "180 & 0.01041403 & 0.00018299 & 0.00000237 & 0.00000008 & 0.00000000 & 0.00000000 \\\\ \\hline\n",
      "205 & 0.01079715 & 0.00018678 & 0.00000238 & 0.00000008 & 0.00000000 & 0.00000000 \\\\ \\hline\n",
      "230 & 0.01113688 & 0.00019013 & 0.00000240 & 0.00000008 & 0.00000000 & 0.00000000 \\\\ \\hline\n",
      "255 & 0.01144172 & 0.00019314 & 0.00000241 & 0.00000008 & 0.00000000 & 0.00000000 \\\\ \\hline\n",
      "280 & 0.01171845 & 0.00019586 & 0.00000242 & 0.00000009 & 0.00000000 & 0.00000000 \\\\ \\hline\n",
      "305 & 0.01197159 & 0.00019836 & 0.00000243 & 0.00000009 & 0.00000000 & 0.00000000 \\\\ \\hline\n",
      "330 & 0.01220504 & 0.00020065 & 0.00000244 & 0.00000009 & 0.00000000 & 0.00000000 \\\\ \\hline\n",
      "355 & 0.01242148 & 0.00020278 & 0.00000245 & 0.00000009 & 0.00000000 & 0.00000000 \\\\ \\hline\n",
      "380 & 0.01262335 & 0.00020477 & 0.00000245 & 0.00000009 & 0.00000000 & 0.00000000 \\\\ \\hline\n",
      "405 & 0.01281238 & 0.00020663 & 0.00000246 & 0.00000009 & 0.00000000 & 0.00000000 \\\\ \\hline\n",
      "430 & 0.01299021 & 0.00020837 & 0.00000247 & 0.00000009 & 0.00000000 & 0.00000000 \\\\ \\hline\n",
      "500 & 0.01343817 & 0.00021277 & 0.00000248 & 0.00000009 & 0.00000000 & 0.00000000 \\\\ \\hline\n",
      "1000 & 0.01550066 & 0.00023299 & 0.00000256 & 0.00000009 & 0.00000000 & 0.00000000 \\\\ \\hline\n",
      "\\end{tabular}\n",
      "\\captionsetup{justification=centering}\n",
      "\\captionof{table}{Różnice dla różnych wartości n dla wektora [0, 0, ...] i pierwszego kryterium stopu}\n",
      "\\end{minipage}\n"
     ]
    }
   ],
   "source": [
    "print(generate_difference_table(1, 1))"
   ],
   "metadata": {
    "collapsed": false,
    "ExecuteTime": {
     "end_time": "2024-06-13T23:41:48.256361Z",
     "start_time": "2024-06-13T23:41:45.471573Z"
    }
   },
   "id": "9fb3661ad3861367",
   "execution_count": 206
  },
  {
   "cell_type": "code",
   "outputs": [
    {
     "name": "stdout",
     "output_type": "stream",
     "text": [
      "\\noindent\\begin{minipage}{\\linewidth}\n",
      "\\centering\n",
      "\\begin{tabular}{|c|c|c|c|c|c|c|}\n",
      "\\hline\n",
      "\\multicolumn{1}{|c|}{} & \\multicolumn{6}{c|}{\\textbf{$\\rho$}} \\\\ \\cline{2-7}\n",
      "\\multicolumn{1}{|c|}{\\multirow{-2}{*}{\\textbf{$n$}}} & 0.1 & 0.001 & 1e-05 & 1e-07 & 1e-09 & 1e-11 \\\\ \\hline\n",
      "5 & 0.00009210 & 0.00005160 & 0.00006600 & 0.00007750 & 0.00011420 & 0.00011740 \\\\ \\hline\n",
      "30 & 0.00006130 & 0.00007020 & 0.00008140 & 0.00010690 & 0.00010090 & 0.00018140 \\\\ \\hline\n",
      "55 & 0.00008040 & 0.00008380 & 0.00012730 & 0.00012350 & 0.00014560 & 0.00015150 \\\\ \\hline\n",
      "80 & 0.00010360 & 0.00007020 & 0.00007900 & 0.00009630 & 0.00011200 & 0.00014270 \\\\ \\hline\n",
      "105 & 0.00052800 & 0.00058640 & 0.00076610 & 0.00101250 & 0.00130850 & 0.00137630 \\\\ \\hline\n",
      "130 & 0.00040690 & 0.00060770 & 0.00078030 & 0.00086070 & 0.00106890 & 0.00105010 \\\\ \\hline\n",
      "155 & 0.00040520 & 0.00061880 & 0.00065100 & 0.00082430 & 0.00127240 & 0.00106430 \\\\ \\hline\n",
      "180 & 0.00041940 & 0.00045040 & 0.00056050 & 0.00082300 & 0.00118220 & 0.00145290 \\\\ \\hline\n",
      "205 & 0.00054480 & 0.00076830 & 0.00070790 & 0.00114550 & 0.00135920 & 0.00123620 \\\\ \\hline\n",
      "230 & 0.00043420 & 0.00058680 & 0.00075990 & 0.00100280 & 0.00123890 & 0.00157510 \\\\ \\hline\n",
      "255 & 0.00041480 & 0.00050140 & 0.00074930 & 0.00102420 & 0.00115580 & 0.00141120 \\\\ \\hline\n",
      "280 & 0.00050340 & 0.00084380 & 0.00080830 & 0.00094420 & 0.00118070 & 0.00141090 \\\\ \\hline\n",
      "305 & 0.00054550 & 0.00058130 & 0.00089740 & 0.00097740 & 0.00131130 & 0.00133620 \\\\ \\hline\n",
      "330 & 0.00056070 & 0.00061090 & 0.00094470 & 0.00098840 & 0.00139540 & 0.00145000 \\\\ \\hline\n",
      "355 & 0.00066030 & 0.00065120 & 0.00085560 & 0.00095460 & 0.00131210 & 0.00156710 \\\\ \\hline\n",
      "380 & 0.00081710 & 0.00303580 & 0.00119090 & 0.00139600 & 0.00157620 & 0.00191420 \\\\ \\hline\n",
      "405 & 0.00083090 & 0.00136620 & 0.00154710 & 0.00156730 & 0.00178850 & 0.00208900 \\\\ \\hline\n",
      "430 & 0.00097600 & 0.00131060 & 0.00128230 & 0.00152460 & 0.00178000 & 0.00204720 \\\\ \\hline\n",
      "500 & 0.00117010 & 0.00138420 & 0.00158790 & 0.00169500 & 0.00198970 & 0.00237740 \\\\ \\hline\n",
      "1000 & 0.00565880 & 0.00640400 & 0.00682250 & 0.00568800 & 0.00698570 & 0.00673180 \\\\ \\hline\n",
      "\\end{tabular}\n",
      "\\captionsetup{justification=centering}\n",
      "\\captionof{table}{Czasy wykonania w sekundach dla różnych wartości n dla wektora [0, 0, ...] i pierwszego kryterium stopu}\n",
      "\\end{minipage}\n"
     ]
    }
   ],
   "source": [
    "print(generate_execution_time_table(1, 1))"
   ],
   "metadata": {
    "collapsed": false,
    "ExecuteTime": {
     "end_time": "2024-06-13T23:41:51.032144Z",
     "start_time": "2024-06-13T23:41:48.257361Z"
    }
   },
   "id": "4ded7a341c803f15",
   "execution_count": 207
  },
  {
   "cell_type": "code",
   "outputs": [
    {
     "name": "stdout",
     "output_type": "stream",
     "text": [
      "\\noindent\\begin{minipage}{\\linewidth}\n",
      "\\centering\n",
      "\\begin{tabular}{|c|c|c|c|c|c|c|}\n",
      "\\hline\n",
      "\\multicolumn{1}{|c|}{} & \\multicolumn{6}{c|}{\\textbf{$\\rho$}} \\\\ \\cline{2-7}\n",
      "\\multicolumn{1}{|c|}{\\multirow{-2}{*}{\\textbf{$n$}}} & 0.1 & 0.001 & 1e-05 & 1e-07 & 1e-09 & 1e-11 \\\\ \\hline\n",
      "5 & 2 & 4 & 7 & 9 & 12 & 14 \\\\ \\hline\n",
      "30 & 3 & 5 & 7 & 9 & 12 & 14 \\\\ \\hline\n",
      "55 & 3 & 5 & 7 & 9 & 12 & 14 \\\\ \\hline\n",
      "80 & 3 & 5 & 7 & 9 & 12 & 14 \\\\ \\hline\n",
      "105 & 3 & 5 & 7 & 9 & 12 & 14 \\\\ \\hline\n",
      "130 & 3 & 5 & 7 & 9 & 12 & 14 \\\\ \\hline\n",
      "155 & 3 & 5 & 7 & 9 & 12 & 14 \\\\ \\hline\n",
      "180 & 3 & 5 & 7 & 9 & 12 & 14 \\\\ \\hline\n",
      "205 & 3 & 5 & 7 & 9 & 12 & 14 \\\\ \\hline\n",
      "230 & 3 & 5 & 7 & 9 & 12 & 14 \\\\ \\hline\n",
      "255 & 3 & 5 & 7 & 9 & 12 & 14 \\\\ \\hline\n",
      "280 & 3 & 5 & 7 & 9 & 12 & 14 \\\\ \\hline\n",
      "305 & 3 & 5 & 7 & 9 & 12 & 14 \\\\ \\hline\n",
      "330 & 3 & 5 & 7 & 9 & 12 & 14 \\\\ \\hline\n",
      "355 & 3 & 5 & 7 & 9 & 12 & 14 \\\\ \\hline\n",
      "380 & 3 & 5 & 7 & 9 & 12 & 14 \\\\ \\hline\n",
      "405 & 3 & 5 & 7 & 9 & 12 & 14 \\\\ \\hline\n",
      "430 & 3 & 5 & 7 & 9 & 12 & 14 \\\\ \\hline\n",
      "500 & 3 & 5 & 7 & 9 & 12 & 14 \\\\ \\hline\n",
      "1000 & 3 & 5 & 7 & 10 & 12 & 14 \\\\ \\hline\n",
      "\\end{tabular}\n",
      "\\captionsetup{justification=centering}\n",
      "\\captionof{table}{Liczba iteracji dla różnych wartości n dla wektora [0, 0, ...] i drugiego kryterium stopu}\n",
      "\\end{minipage}\n"
     ]
    }
   ],
   "source": [
    "print(generate_iterations_table(1, 2))"
   ],
   "metadata": {
    "collapsed": false,
    "ExecuteTime": {
     "end_time": "2024-06-13T23:41:53.953707Z",
     "start_time": "2024-06-13T23:41:51.034132Z"
    }
   },
   "id": "32ef7f1122e7c5e6",
   "execution_count": 208
  },
  {
   "cell_type": "code",
   "outputs": [
    {
     "name": "stdout",
     "output_type": "stream",
     "text": [
      "\\noindent\\begin{minipage}{\\linewidth}\n",
      "\\centering\n",
      "\\begin{tabular}{|c|c|c|c|c|c|c|}\n",
      "\\hline\n",
      "\\multicolumn{1}{|c|}{} & \\multicolumn{6}{c|}{\\textbf{$\\rho$}} \\\\ \\cline{2-7}\n",
      "\\multicolumn{1}{|c|}{\\multirow{-2}{*}{\\textbf{$n$}}} & 0.1 & 0.001 & 1e-05 & 1e-07 & 1e-09 & 1e-11 \\\\ \\hline\n",
      "5 & 0.03203668 & 0.00078881 & 0.00000267 & 0.00000007 & 0.00000000 & 0.00000000 \\\\ \\hline\n",
      "30 & 0.00586995 & 0.00013075 & 0.00000240 & 0.00000008 & 0.00000000 & 0.00000000 \\\\ \\hline\n",
      "55 & 0.00697123 & 0.00014847 & 0.00000232 & 0.00000008 & 0.00000000 & 0.00000000 \\\\ \\hline\n",
      "80 & 0.00804614 & 0.00015937 & 0.00000228 & 0.00000008 & 0.00000000 & 0.00000000 \\\\ \\hline\n",
      "105 & 0.00883454 & 0.00016729 & 0.00000230 & 0.00000008 & 0.00000000 & 0.00000000 \\\\ \\hline\n",
      "130 & 0.00945857 & 0.00017350 & 0.00000233 & 0.00000008 & 0.00000000 & 0.00000000 \\\\ \\hline\n",
      "155 & 0.00997413 & 0.00017863 & 0.00000235 & 0.00000008 & 0.00000000 & 0.00000000 \\\\ \\hline\n",
      "180 & 0.01041403 & 0.00018299 & 0.00000237 & 0.00000008 & 0.00000000 & 0.00000000 \\\\ \\hline\n",
      "205 & 0.01079715 & 0.00018678 & 0.00000238 & 0.00000008 & 0.00000000 & 0.00000000 \\\\ \\hline\n",
      "230 & 0.01113688 & 0.00019013 & 0.00000240 & 0.00000008 & 0.00000000 & 0.00000000 \\\\ \\hline\n",
      "255 & 0.01144172 & 0.00019314 & 0.00000241 & 0.00000008 & 0.00000000 & 0.00000000 \\\\ \\hline\n",
      "280 & 0.01171845 & 0.00019586 & 0.00000242 & 0.00000009 & 0.00000000 & 0.00000000 \\\\ \\hline\n",
      "305 & 0.01197159 & 0.00019836 & 0.00000243 & 0.00000009 & 0.00000000 & 0.00000000 \\\\ \\hline\n",
      "330 & 0.01220504 & 0.00020065 & 0.00000244 & 0.00000009 & 0.00000000 & 0.00000000 \\\\ \\hline\n",
      "355 & 0.01242148 & 0.00020278 & 0.00000245 & 0.00000009 & 0.00000000 & 0.00000000 \\\\ \\hline\n",
      "380 & 0.01262335 & 0.00020477 & 0.00000245 & 0.00000009 & 0.00000000 & 0.00000000 \\\\ \\hline\n",
      "405 & 0.01281238 & 0.00020663 & 0.00000246 & 0.00000009 & 0.00000000 & 0.00000000 \\\\ \\hline\n",
      "430 & 0.01299021 & 0.00020837 & 0.00000247 & 0.00000009 & 0.00000000 & 0.00000000 \\\\ \\hline\n",
      "500 & 0.01343817 & 0.00021277 & 0.00000248 & 0.00000009 & 0.00000000 & 0.00000000 \\\\ \\hline\n",
      "1000 & 0.01550066 & 0.00023299 & 0.00000256 & 0.00000001 & 0.00000000 & 0.00000000 \\\\ \\hline\n",
      "\\end{tabular}\n",
      "\\captionsetup{justification=centering}\n",
      "\\captionof{table}{Różnice dla różnych wartości n dla wektora [0, 0, ...] i drugiego kryterium stopu}\n",
      "\\end{minipage}\n"
     ]
    }
   ],
   "source": [
    "print(generate_difference_table(1, 2))"
   ],
   "metadata": {
    "collapsed": false,
    "ExecuteTime": {
     "end_time": "2024-06-13T23:41:56.772153Z",
     "start_time": "2024-06-13T23:41:53.954922Z"
    }
   },
   "id": "efa1fe085ff84425",
   "execution_count": 209
  },
  {
   "cell_type": "code",
   "outputs": [
    {
     "name": "stdout",
     "output_type": "stream",
     "text": [
      "\\noindent\\begin{minipage}{\\linewidth}\n",
      "\\centering\n",
      "\\begin{tabular}{|c|c|c|c|c|c|c|}\n",
      "\\hline\n",
      "\\multicolumn{1}{|c|}{} & \\multicolumn{6}{c|}{\\textbf{$\\rho$}} \\\\ \\cline{2-7}\n",
      "\\multicolumn{1}{|c|}{\\multirow{-2}{*}{\\textbf{$n$}}} & 0.1 & 0.001 & 1e-05 & 1e-07 & 1e-09 & 1e-11 \\\\ \\hline\n",
      "5 & 0.00014410 & 0.00007020 & 0.00011870 & 0.00012360 & 0.00014130 & 0.00022070 \\\\ \\hline\n",
      "30 & 0.00008000 & 0.00010600 & 0.00010020 & 0.00013660 & 0.00016080 & 0.00055410 \\\\ \\hline\n",
      "55 & 0.00008290 & 0.00007140 & 0.00009890 & 0.00010560 & 0.00012770 & 0.00014560 \\\\ \\hline\n",
      "80 & 0.00006380 & 0.00007930 & 0.00009310 & 0.00010950 & 0.00013930 & 0.00015570 \\\\ \\hline\n",
      "105 & 0.00060800 & 0.00084430 & 0.00104210 & 0.00131400 & 0.00201890 & 0.00244670 \\\\ \\hline\n",
      "130 & 0.00069220 & 0.00104330 & 0.00143000 & 0.00173160 & 0.00236800 & 0.00260560 \\\\ \\hline\n",
      "155 & 0.00059620 & 0.00086270 & 0.00142270 & 0.00196770 & 0.00268400 & 0.00320050 \\\\ \\hline\n",
      "180 & 0.00075960 & 0.00086190 & 0.00131470 & 0.00189710 & 0.00250110 & 0.00300020 \\\\ \\hline\n",
      "205 & 0.00082140 & 0.00114210 & 0.00144480 & 0.00188090 & 0.00249150 & 0.00278320 \\\\ \\hline\n",
      "230 & 0.00085330 & 0.00109060 & 0.00148200 & 0.00182840 & 0.00296750 & 0.00284990 \\\\ \\hline\n",
      "255 & 0.00078230 & 0.00111050 & 0.00167910 & 0.00188610 & 0.00239960 & 0.00240560 \\\\ \\hline\n",
      "280 & 0.00084710 & 0.00104400 & 0.00149080 & 0.00188220 & 0.00233250 & 0.00257940 \\\\ \\hline\n",
      "305 & 0.00086690 & 0.00128120 & 0.00174610 & 0.00169440 & 0.00210610 & 0.00238070 \\\\ \\hline\n",
      "330 & 0.00096030 & 0.00129940 & 0.00151600 & 0.00170230 & 0.00246430 & 0.00316110 \\\\ \\hline\n",
      "355 & 0.00172510 & 0.00137600 & 0.00222300 & 0.00236870 & 0.00294960 & 0.00338110 \\\\ \\hline\n",
      "380 & 0.00138770 & 0.00139780 & 0.00185240 & 0.00201880 & 0.00379270 & 0.00422410 \\\\ \\hline\n",
      "405 & 0.00137640 & 0.00161340 & 0.00206120 & 0.00216670 & 0.00284380 & 0.00365760 \\\\ \\hline\n",
      "430 & 0.00126460 & 0.00180520 & 0.00206470 & 0.00277270 & 0.00338750 & 0.00418650 \\\\ \\hline\n",
      "500 & 0.00157690 & 0.00185140 & 0.00212060 & 0.00255660 & 0.00368180 & 0.00423400 \\\\ \\hline\n",
      "1000 & 0.00580370 & 0.00624550 & 0.00728680 & 0.00895430 & 0.01067600 & 0.00918100 \\\\ \\hline\n",
      "\\end{tabular}\n",
      "\\captionsetup{justification=centering}\n",
      "\\captionof{table}{Czasy wykonania w sekundach dla różnych wartości n dla wektora [0, 0, ...] i drugiego kryterium stopu}\n",
      "\\end{minipage}\n"
     ]
    }
   ],
   "source": [
    "print(generate_execution_time_table(1, 2))"
   ],
   "metadata": {
    "collapsed": false,
    "ExecuteTime": {
     "end_time": "2024-06-13T23:41:59.663243Z",
     "start_time": "2024-06-13T23:41:56.773129Z"
    }
   },
   "id": "29fdb62b4a2f755",
   "execution_count": 210
  },
  {
   "cell_type": "code",
   "outputs": [
    {
     "name": "stdout",
     "output_type": "stream",
     "text": [
      "\\noindent\\begin{minipage}{\\linewidth}\n",
      "\\centering\n",
      "\\begin{tabular}{|c|c|c|c|c|c|c|}\n",
      "\\hline\n",
      "\\multicolumn{1}{|c|}{} & \\multicolumn{6}{c|}{\\textbf{$\\rho$}} \\\\ \\cline{2-7}\n",
      "\\multicolumn{1}{|c|}{\\multirow{-2}{*}{\\textbf{$n$}}} & 0.1 & 0.001 & 1e-05 & 1e-07 & 1e-09 & 1e-11 \\\\ \\hline\n",
      "5 & 5 & 8 & 10 & 13 & 15 & 18 \\\\ \\hline\n",
      "30 & 6 & 8 & 10 & 13 & 15 & 18 \\\\ \\hline\n",
      "55 & 6 & 8 & 10 & 13 & 15 & 18 \\\\ \\hline\n",
      "80 & 6 & 8 & 10 & 13 & 15 & 18 \\\\ \\hline\n",
      "105 & 6 & 8 & 10 & 13 & 15 & 18 \\\\ \\hline\n",
      "130 & 6 & 8 & 10 & 13 & 15 & 18 \\\\ \\hline\n",
      "155 & 6 & 8 & 10 & 13 & 15 & 18 \\\\ \\hline\n",
      "180 & 6 & 8 & 10 & 13 & 15 & 18 \\\\ \\hline\n",
      "205 & 6 & 8 & 10 & 13 & 15 & 18 \\\\ \\hline\n",
      "230 & 6 & 8 & 10 & 13 & 15 & 18 \\\\ \\hline\n",
      "255 & 6 & 8 & 10 & 13 & 15 & 18 \\\\ \\hline\n",
      "280 & 6 & 8 & 10 & 13 & 15 & 18 \\\\ \\hline\n",
      "305 & 6 & 8 & 10 & 13 & 15 & 18 \\\\ \\hline\n",
      "330 & 6 & 8 & 10 & 13 & 15 & 18 \\\\ \\hline\n",
      "355 & 6 & 8 & 10 & 13 & 15 & 18 \\\\ \\hline\n",
      "380 & 6 & 8 & 10 & 13 & 15 & 18 \\\\ \\hline\n",
      "405 & 6 & 8 & 10 & 13 & 15 & 18 \\\\ \\hline\n",
      "430 & 6 & 8 & 10 & 13 & 15 & 18 \\\\ \\hline\n",
      "500 & 6 & 8 & 10 & 13 & 15 & 18 \\\\ \\hline\n",
      "1000 & 6 & 8 & 10 & 13 & 15 & 18 \\\\ \\hline\n",
      "\\end{tabular}\n",
      "\\captionsetup{justification=centering}\n",
      "\\captionof{table}{Liczba iteracji dla różnych wartości n dla wektora [100, -100, ...] i pierwszego kryterium stopu}\n",
      "\\end{minipage}\n"
     ]
    }
   ],
   "source": [
    "print(generate_iterations_table(2, 1))"
   ],
   "metadata": {
    "collapsed": false,
    "ExecuteTime": {
     "end_time": "2024-06-13T23:42:02.475171Z",
     "start_time": "2024-06-13T23:41:59.663772Z"
    }
   },
   "id": "749c9744692e85a5",
   "execution_count": 211
  },
  {
   "cell_type": "code",
   "outputs": [
    {
     "name": "stdout",
     "output_type": "stream",
     "text": [
      "\\noindent\\begin{minipage}{\\linewidth}\n",
      "\\centering\n",
      "\\begin{tabular}{|c|c|c|c|c|c|c|}\n",
      "\\hline\n",
      "\\multicolumn{1}{|c|}{} & \\multicolumn{6}{c|}{\\textbf{$\\rho$}} \\\\ \\cline{2-7}\n",
      "\\multicolumn{1}{|c|}{\\multirow{-2}{*}{\\textbf{$n$}}} & 0.1 & 0.001 & 1e-05 & 1e-07 & 1e-09 & 1e-11 \\\\ \\hline\n",
      "5 & 0.06864039 & 0.00033275 & 0.00000748 & 0.00000003 & 0.00000000 & 0.00000000 \\\\ \\hline\n",
      "30 & 0.01973649 & 0.00032769 & 0.00000680 & 0.00000003 & 0.00000000 & 0.00000000 \\\\ \\hline\n",
      "55 & 0.02118610 & 0.00032018 & 0.00000650 & 0.00000003 & 0.00000000 & 0.00000000 \\\\ \\hline\n",
      "80 & 0.02204760 & 0.00031516 & 0.00000631 & 0.00000003 & 0.00000000 & 0.00000000 \\\\ \\hline\n",
      "105 & 0.02266334 & 0.00031142 & 0.00000617 & 0.00000003 & 0.00000000 & 0.00000000 \\\\ \\hline\n",
      "130 & 0.02314150 & 0.00030842 & 0.00000607 & 0.00000003 & 0.00000000 & 0.00000000 \\\\ \\hline\n",
      "155 & 0.02353316 & 0.00030594 & 0.00000598 & 0.00000003 & 0.00000000 & 0.00000000 \\\\ \\hline\n",
      "180 & 0.02386429 & 0.00030380 & 0.00000590 & 0.00000003 & 0.00000000 & 0.00000000 \\\\ \\hline\n",
      "205 & 0.02415153 & 0.00030194 & 0.00000586 & 0.00000003 & 0.00000000 & 0.00000000 \\\\ \\hline\n",
      "230 & 0.02440482 & 0.00030029 & 0.00000592 & 0.00000003 & 0.00000000 & 0.00000000 \\\\ \\hline\n",
      "255 & 0.02463160 & 0.00029880 & 0.00000597 & 0.00000003 & 0.00000000 & 0.00000000 \\\\ \\hline\n",
      "280 & 0.02483669 & 0.00029745 & 0.00000602 & 0.00000003 & 0.00000000 & 0.00000000 \\\\ \\hline\n",
      "305 & 0.02502406 & 0.00029621 & 0.00000606 & 0.00000003 & 0.00000000 & 0.00000000 \\\\ \\hline\n",
      "330 & 0.02519637 & 0.00029537 & 0.00000610 & 0.00000003 & 0.00000000 & 0.00000000 \\\\ \\hline\n",
      "355 & 0.02535599 & 0.00029695 & 0.00000614 & 0.00000003 & 0.00000000 & 0.00000000 \\\\ \\hline\n",
      "380 & 0.02550455 & 0.00029842 & 0.00000618 & 0.00000003 & 0.00000000 & 0.00000000 \\\\ \\hline\n",
      "405 & 0.02564358 & 0.00029980 & 0.00000621 & 0.00000003 & 0.00000000 & 0.00000000 \\\\ \\hline\n",
      "430 & 0.02577415 & 0.00030110 & 0.00000624 & 0.00000003 & 0.00000000 & 0.00000000 \\\\ \\hline\n",
      "500 & 0.02610262 & 0.00030436 & 0.00000632 & 0.00000003 & 0.00000000 & 0.00000000 \\\\ \\hline\n",
      "1000 & 0.02835640 & 0.00031930 & 0.00000667 & 0.00000003 & 0.00000000 & 0.00000000 \\\\ \\hline\n",
      "\\end{tabular}\n",
      "\\captionsetup{justification=centering}\n",
      "\\captionof{table}{Różnice dla różnych wartości n dla wektora [100, -100, ...] i pierwszego kryterium stopu}\n",
      "\\end{minipage}\n"
     ]
    }
   ],
   "source": [
    "print(generate_difference_table(2, 1))"
   ],
   "metadata": {
    "collapsed": false,
    "ExecuteTime": {
     "end_time": "2024-06-13T23:42:05.309092Z",
     "start_time": "2024-06-13T23:42:02.476168Z"
    }
   },
   "id": "96a6e532a1b6d682",
   "execution_count": 212
  },
  {
   "cell_type": "code",
   "outputs": [
    {
     "name": "stdout",
     "output_type": "stream",
     "text": [
      "\\noindent\\begin{minipage}{\\linewidth}\n",
      "\\centering\n",
      "\\begin{tabular}{|c|c|c|c|c|c|c|}\n",
      "\\hline\n",
      "\\multicolumn{1}{|c|}{} & \\multicolumn{6}{c|}{\\textbf{$\\rho$}} \\\\ \\cline{2-7}\n",
      "\\multicolumn{1}{|c|}{\\multirow{-2}{*}{\\textbf{$n$}}} & 0.1 & 0.001 & 1e-05 & 1e-07 & 1e-09 & 1e-11 \\\\ \\hline\n",
      "5 & 0.00024760 & 0.00016430 & 0.00024490 & 0.00029710 & 0.00012370 & 0.00013360 \\\\ \\hline\n",
      "30 & 0.00006920 & 0.00008330 & 0.00013200 & 0.00016430 & 0.00016640 & 0.00020560 \\\\ \\hline\n",
      "55 & 0.00009280 & 0.00008580 & 0.00009900 & 0.00011980 & 0.00013240 & 0.00014980 \\\\ \\hline\n",
      "80 & 0.00009510 & 0.00026230 & 0.00011980 & 0.00013910 & 0.00014050 & 0.00015970 \\\\ \\hline\n",
      "105 & 0.00061140 & 0.00094130 & 0.00109620 & 0.00135630 & 0.00168660 & 0.00187600 \\\\ \\hline\n",
      "130 & 0.00081950 & 0.00115010 & 0.00115460 & 0.00130690 & 0.00139340 & 0.00166080 \\\\ \\hline\n",
      "155 & 0.00064930 & 0.00072190 & 0.00083420 & 0.00119960 & 0.00129760 & 0.00138950 \\\\ \\hline\n",
      "180 & 0.00068510 & 0.00071460 & 0.00126160 & 0.00117270 & 0.00136470 & 0.00161390 \\\\ \\hline\n",
      "205 & 0.00068850 & 0.00093930 & 0.00104700 & 0.00151240 & 0.00192900 & 0.00238720 \\\\ \\hline\n",
      "230 & 0.00090690 & 0.00112600 & 0.00125780 & 0.00172280 & 0.00179150 & 0.00249310 \\\\ \\hline\n",
      "255 & 0.00084920 & 0.00091650 & 0.00125760 & 0.00141040 & 0.00181940 & 0.00214880 \\\\ \\hline\n",
      "280 & 0.00097270 & 0.00102370 & 0.00135140 & 0.00152440 & 0.00184910 & 0.00190570 \\\\ \\hline\n",
      "305 & 0.00096340 & 0.00108740 & 0.00119530 & 0.00168760 & 0.00182930 & 0.00230900 \\\\ \\hline\n",
      "330 & 0.00115510 & 0.00116380 & 0.00145230 & 0.00169550 & 0.00159940 & 0.00192310 \\\\ \\hline\n",
      "355 & 0.00100190 & 0.00106470 & 0.00124500 & 0.00148560 & 0.00189300 & 0.00247210 \\\\ \\hline\n",
      "380 & 0.00131220 & 0.00137220 & 0.00160450 & 0.00199520 & 0.00210810 & 0.00224390 \\\\ \\hline\n",
      "405 & 0.00129120 & 0.00163460 & 0.00171790 & 0.00193410 & 0.00255710 & 0.00292890 \\\\ \\hline\n",
      "430 & 0.00135170 & 0.00159130 & 0.00180400 & 0.00218700 & 0.00239590 & 0.00250670 \\\\ \\hline\n",
      "500 & 0.00160520 & 0.00170960 & 0.00232410 & 0.00230820 & 0.00342140 & 0.00362100 \\\\ \\hline\n",
      "1000 & 0.00917670 & 0.00782890 & 0.00731360 & 0.00942360 & 0.01208250 & 0.00873320 \\\\ \\hline\n",
      "\\end{tabular}\n",
      "\\captionsetup{justification=centering}\n",
      "\\captionof{table}{Czasy wykonania w sekundach dla różnych wartości n dla wektora [100, -100, ...] i pierwszego kryterium stopu}\n",
      "\\end{minipage}\n"
     ]
    }
   ],
   "source": [
    "print(generate_execution_time_table(2, 1))"
   ],
   "metadata": {
    "collapsed": false,
    "ExecuteTime": {
     "end_time": "2024-06-13T23:42:08.335011Z",
     "start_time": "2024-06-13T23:42:05.310088Z"
    }
   },
   "id": "92364d68d2dbf7ab",
   "execution_count": 213
  },
  {
   "cell_type": "code",
   "outputs": [
    {
     "name": "stdout",
     "output_type": "stream",
     "text": [
      "\\noindent\\begin{minipage}{\\linewidth}\n",
      "\\centering\n",
      "\\begin{tabular}{|c|c|c|c|c|c|c|}\n",
      "\\hline\n",
      "\\multicolumn{1}{|c|}{} & \\multicolumn{6}{c|}{\\textbf{$\\rho$}} \\\\ \\cline{2-7}\n",
      "\\multicolumn{1}{|c|}{\\multirow{-2}{*}{\\textbf{$n$}}} & 0.1 & 0.001 & 1e-05 & 1e-07 & 1e-09 & 1e-11 \\\\ \\hline\n",
      "5 & 6 & 8 & 10 & 13 & 15 & 18 \\\\ \\hline\n",
      "30 & 6 & 8 & 10 & 13 & 15 & 18 \\\\ \\hline\n",
      "55 & 6 & 8 & 10 & 13 & 15 & 18 \\\\ \\hline\n",
      "80 & 6 & 8 & 10 & 13 & 15 & 18 \\\\ \\hline\n",
      "105 & 6 & 8 & 10 & 13 & 15 & 18 \\\\ \\hline\n",
      "130 & 6 & 8 & 10 & 13 & 15 & 18 \\\\ \\hline\n",
      "155 & 6 & 8 & 10 & 13 & 15 & 18 \\\\ \\hline\n",
      "180 & 6 & 8 & 10 & 13 & 15 & 18 \\\\ \\hline\n",
      "205 & 6 & 8 & 10 & 13 & 15 & 18 \\\\ \\hline\n",
      "230 & 6 & 8 & 10 & 13 & 15 & 18 \\\\ \\hline\n",
      "255 & 6 & 8 & 10 & 13 & 15 & 18 \\\\ \\hline\n",
      "280 & 6 & 8 & 10 & 13 & 15 & 18 \\\\ \\hline\n",
      "305 & 6 & 8 & 10 & 13 & 15 & 18 \\\\ \\hline\n",
      "330 & 6 & 8 & 10 & 13 & 15 & 18 \\\\ \\hline\n",
      "355 & 6 & 8 & 10 & 13 & 15 & 18 \\\\ \\hline\n",
      "380 & 6 & 8 & 10 & 13 & 15 & 18 \\\\ \\hline\n",
      "405 & 6 & 8 & 10 & 13 & 15 & 18 \\\\ \\hline\n",
      "430 & 6 & 8 & 10 & 13 & 15 & 18 \\\\ \\hline\n",
      "500 & 6 & 8 & 10 & 13 & 15 & 18 \\\\ \\hline\n",
      "1000 & 6 & 8 & 10 & 13 & 15 & 18 \\\\ \\hline\n",
      "\\end{tabular}\n",
      "\\captionsetup{justification=centering}\n",
      "\\captionof{table}{Liczba iteracji dla różnych wartości n dla wektora [100, -100, ...] i drugiego kryterium stopu}\n",
      "\\end{minipage}\n"
     ]
    }
   ],
   "source": [
    "print(generate_iterations_table(2, 2))"
   ],
   "metadata": {
    "collapsed": false,
    "ExecuteTime": {
     "end_time": "2024-06-13T23:42:11.288638Z",
     "start_time": "2024-06-13T23:42:08.336009Z"
    }
   },
   "id": "b3e022b5a3accfa6",
   "execution_count": 214
  },
  {
   "cell_type": "code",
   "outputs": [
    {
     "name": "stdout",
     "output_type": "stream",
     "text": [
      "\\noindent\\begin{minipage}{\\linewidth}\n",
      "\\centering\n",
      "\\begin{tabular}{|c|c|c|c|c|c|c|}\n",
      "\\hline\n",
      "\\multicolumn{1}{|c|}{} & \\multicolumn{6}{c|}{\\textbf{$\\rho$}} \\\\ \\cline{2-7}\n",
      "\\multicolumn{1}{|c|}{\\multirow{-2}{*}{\\textbf{$n$}}} & 0.1 & 0.001 & 1e-05 & 1e-07 & 1e-09 & 1e-11 \\\\ \\hline\n",
      "5 & 0.01509448 & 0.00033275 & 0.00000748 & 0.00000003 & 0.00000000 & 0.00000000 \\\\ \\hline\n",
      "30 & 0.01973649 & 0.00032769 & 0.00000680 & 0.00000003 & 0.00000000 & 0.00000000 \\\\ \\hline\n",
      "55 & 0.02118610 & 0.00032018 & 0.00000650 & 0.00000003 & 0.00000000 & 0.00000000 \\\\ \\hline\n",
      "80 & 0.02204760 & 0.00031516 & 0.00000631 & 0.00000003 & 0.00000000 & 0.00000000 \\\\ \\hline\n",
      "105 & 0.02266334 & 0.00031142 & 0.00000617 & 0.00000003 & 0.00000000 & 0.00000000 \\\\ \\hline\n",
      "130 & 0.02314150 & 0.00030842 & 0.00000607 & 0.00000003 & 0.00000000 & 0.00000000 \\\\ \\hline\n",
      "155 & 0.02353316 & 0.00030594 & 0.00000598 & 0.00000003 & 0.00000000 & 0.00000000 \\\\ \\hline\n",
      "180 & 0.02386429 & 0.00030380 & 0.00000590 & 0.00000003 & 0.00000000 & 0.00000000 \\\\ \\hline\n",
      "205 & 0.02415153 & 0.00030194 & 0.00000586 & 0.00000003 & 0.00000000 & 0.00000000 \\\\ \\hline\n",
      "230 & 0.02440482 & 0.00030029 & 0.00000592 & 0.00000003 & 0.00000000 & 0.00000000 \\\\ \\hline\n",
      "255 & 0.02463160 & 0.00029880 & 0.00000597 & 0.00000003 & 0.00000000 & 0.00000000 \\\\ \\hline\n",
      "280 & 0.02483669 & 0.00029745 & 0.00000602 & 0.00000003 & 0.00000000 & 0.00000000 \\\\ \\hline\n",
      "305 & 0.02502406 & 0.00029621 & 0.00000606 & 0.00000003 & 0.00000000 & 0.00000000 \\\\ \\hline\n",
      "330 & 0.02519637 & 0.00029537 & 0.00000610 & 0.00000003 & 0.00000000 & 0.00000000 \\\\ \\hline\n",
      "355 & 0.02535599 & 0.00029695 & 0.00000614 & 0.00000003 & 0.00000000 & 0.00000000 \\\\ \\hline\n",
      "380 & 0.02550455 & 0.00029842 & 0.00000618 & 0.00000003 & 0.00000000 & 0.00000000 \\\\ \\hline\n",
      "405 & 0.02564358 & 0.00029980 & 0.00000621 & 0.00000003 & 0.00000000 & 0.00000000 \\\\ \\hline\n",
      "430 & 0.02577415 & 0.00030110 & 0.00000624 & 0.00000003 & 0.00000000 & 0.00000000 \\\\ \\hline\n",
      "500 & 0.02610262 & 0.00030436 & 0.00000632 & 0.00000003 & 0.00000000 & 0.00000000 \\\\ \\hline\n",
      "1000 & 0.02835640 & 0.00031930 & 0.00000667 & 0.00000003 & 0.00000000 & 0.00000000 \\\\ \\hline\n",
      "\\end{tabular}\n",
      "\\captionsetup{justification=centering}\n",
      "\\captionof{table}{Różnice dla różnych wartości n dla wektora [100, -100, ...] i drugiego kryterium stopu}\n",
      "\\end{minipage}\n"
     ]
    }
   ],
   "source": [
    "print(generate_difference_table(2, 2))"
   ],
   "metadata": {
    "collapsed": false,
    "ExecuteTime": {
     "end_time": "2024-06-13T23:42:14.236378Z",
     "start_time": "2024-06-13T23:42:11.289633Z"
    }
   },
   "id": "9f32f3be2f213c11",
   "execution_count": 215
  },
  {
   "cell_type": "code",
   "outputs": [
    {
     "name": "stdout",
     "output_type": "stream",
     "text": [
      "\\noindent\\begin{minipage}{\\linewidth}\n",
      "\\centering\n",
      "\\begin{tabular}{|c|c|c|c|c|c|c|}\n",
      "\\hline\n",
      "\\multicolumn{1}{|c|}{} & \\multicolumn{6}{c|}{\\textbf{$\\rho$}} \\\\ \\cline{2-7}\n",
      "\\multicolumn{1}{|c|}{\\multirow{-2}{*}{\\textbf{$n$}}} & 0.1 & 0.001 & 1e-05 & 1e-07 & 1e-09 & 1e-11 \\\\ \\hline\n",
      "5 & 0.00016310 & 0.00011320 & 0.00015910 & 0.00018170 & 0.00017010 & 0.00019360 \\\\ \\hline\n",
      "30 & 0.00013330 & 0.00011440 & 0.00013000 & 0.00015990 & 0.00021430 & 0.00025650 \\\\ \\hline\n",
      "55 & 0.00014070 & 0.00013450 & 0.00029370 & 0.00025160 & 0.00019650 & 0.00018870 \\\\ \\hline\n",
      "80 & 0.00017850 & 0.00011180 & 0.00013590 & 0.00015280 & 0.00017270 & 0.00020530 \\\\ \\hline\n",
      "105 & 0.00098450 & 0.00119320 & 0.00145590 & 0.00190350 & 0.00268290 & 0.00269700 \\\\ \\hline\n",
      "130 & 0.00122940 & 0.00134110 & 0.00179720 & 0.00208580 & 0.00227880 & 0.00326150 \\\\ \\hline\n",
      "155 & 0.00118050 & 0.00169760 & 0.00185640 & 0.00233120 & 0.00293470 & 0.00279820 \\\\ \\hline\n",
      "180 & 0.00105670 & 0.00123510 & 0.00173280 & 0.00199690 & 0.00229980 & 0.00283800 \\\\ \\hline\n",
      "205 & 0.00143510 & 0.00182490 & 0.00165910 & 0.00229030 & 0.00241200 & 0.00301450 \\\\ \\hline\n",
      "230 & 0.00150520 & 0.00143760 & 0.00202540 & 0.00243030 & 0.00322400 & 0.00428640 \\\\ \\hline\n",
      "255 & 0.00141550 & 0.00174640 & 0.00214620 & 0.00286400 & 0.00301920 & 0.00367340 \\\\ \\hline\n",
      "280 & 0.00147310 & 0.00160290 & 0.00190870 & 0.00262080 & 0.00295420 & 0.00340780 \\\\ \\hline\n",
      "305 & 0.00142620 & 0.00228230 & 0.00242570 & 0.00250130 & 0.00271540 & 0.00489350 \\\\ \\hline\n",
      "330 & 0.00204350 & 0.00226830 & 0.00291800 & 0.00378030 & 0.00407250 & 0.00464410 \\\\ \\hline\n",
      "355 & 0.00191110 & 0.00196380 & 0.00269410 & 0.00329710 & 0.00397530 & 0.00401340 \\\\ \\hline\n",
      "380 & 0.00207830 & 0.00261590 & 0.00405450 & 0.00436600 & 0.00606050 & 0.00505770 \\\\ \\hline\n",
      "405 & 0.00276550 & 0.00274760 & 0.00328380 & 0.00892110 & 0.00457200 & 0.00539810 \\\\ \\hline\n",
      "430 & 0.00238990 & 0.00305230 & 0.00361560 & 0.00369840 & 0.00468920 & 0.00460860 \\\\ \\hline\n",
      "500 & 0.00256640 & 0.00283810 & 0.00361790 & 0.00418930 & 0.00398200 & 0.00550310 \\\\ \\hline\n",
      "1000 & 0.00963100 & 0.00967480 & 0.00876910 & 0.01101700 & 0.01132990 & 0.01139270 \\\\ \\hline\n",
      "\\end{tabular}\n",
      "\\captionsetup{justification=centering}\n",
      "\\captionof{table}{Czasy wykonania w sekundach dla różnych wartości n dla wektora [100, -100, ...] i drugiego kryterium stopu}\n",
      "\\end{minipage}\n"
     ]
    }
   ],
   "source": [
    "print(generate_execution_time_table(2, 2))"
   ],
   "metadata": {
    "collapsed": false,
    "ExecuteTime": {
     "end_time": "2024-06-13T23:42:17.427937Z",
     "start_time": "2024-06-13T23:42:14.237376Z"
    }
   },
   "id": "967ba46f1276e076",
   "execution_count": 216
  },
  {
   "cell_type": "code",
   "outputs": [],
   "source": [
    "def generate_latex_table_radius():\n",
    "    n_values = list(range(5, 431, 25)) + [500,1000]\n",
    "    table_rows = []\n",
    "\n",
    "    for n in n_values:\n",
    "        A, _ = generate_matrix_and_vector(n)\n",
    "        M = jacobi_iteration_matrix(A)\n",
    "        radius = spectral_radius(M)\n",
    "        table_rows.append((n, radius))\n",
    "\n",
    "    latex_code = \"\\\\begin{table}[h!]\\n\\\\centering\\n\\\\begin{tabular}{|c|c|}\\n\\\\hline\\nn & Promień spektralny \\\\\\\\ \\\\hline\\n\"\n",
    "\n",
    "    for n, radius in table_rows:\n",
    "        latex_code += f\"{n} & {radius:.6f} \\\\\\\\ \\\\hline\\n\"\n",
    "\n",
    "    latex_code += \"\\\\end{tabular}\\n\\\\caption{Promienie spektralne dla różnych wartości n}\\n\\\\end{table}\"\n",
    "\n",
    "    return latex_code"
   ],
   "metadata": {
    "collapsed": false,
    "ExecuteTime": {
     "end_time": "2024-06-13T23:42:17.433370Z",
     "start_time": "2024-06-13T23:42:17.428933Z"
    }
   },
   "id": "7de4b3b7dd190212",
   "execution_count": 217
  },
  {
   "cell_type": "code",
   "outputs": [
    {
     "name": "stdout",
     "output_type": "stream",
     "text": [
      "\\begin{table}[h!]\n",
      "\\centering\n",
      "\\begin{tabular}{|c|c|}\n",
      "\\hline\n",
      "n & Promień spektralny \\\\ \\hline\n",
      "5 & 0.156250 \\\\ \\hline\n",
      "30 & 0.156250 \\\\ \\hline\n",
      "55 & 0.156250 \\\\ \\hline\n",
      "80 & 0.156250 \\\\ \\hline\n",
      "105 & 0.156250 \\\\ \\hline\n",
      "130 & 0.156250 \\\\ \\hline\n",
      "155 & 0.156250 \\\\ \\hline\n",
      "180 & 0.156250 \\\\ \\hline\n",
      "205 & 0.156250 \\\\ \\hline\n",
      "230 & 0.156250 \\\\ \\hline\n",
      "255 & 0.156250 \\\\ \\hline\n",
      "280 & 0.156250 \\\\ \\hline\n",
      "305 & 0.156250 \\\\ \\hline\n",
      "330 & 0.156250 \\\\ \\hline\n",
      "355 & 0.156250 \\\\ \\hline\n",
      "380 & 0.156250 \\\\ \\hline\n",
      "405 & 0.156250 \\\\ \\hline\n",
      "430 & 0.156250 \\\\ \\hline\n",
      "500 & 0.156250 \\\\ \\hline\n",
      "1000 & 0.156250 \\\\ \\hline\n",
      "\\end{tabular}\n",
      "\\caption{Promienie spektralne dla różnych wartości n}\n",
      "\\end{table}\n"
     ]
    }
   ],
   "source": [
    "print(generate_latex_table_radius())"
   ],
   "metadata": {
    "collapsed": false,
    "ExecuteTime": {
     "end_time": "2024-06-13T23:42:20.729908Z",
     "start_time": "2024-06-13T23:42:17.434363Z"
    }
   },
   "id": "792f3d9a7180bee3",
   "execution_count": 218
  },
  {
   "cell_type": "code",
   "outputs": [],
   "source": [],
   "metadata": {
    "collapsed": false,
    "ExecuteTime": {
     "end_time": "2024-06-13T23:42:20.732908Z",
     "start_time": "2024-06-13T23:42:20.730906Z"
    }
   },
   "id": "187376234595b612",
   "execution_count": 218
  }
 ],
 "metadata": {
  "kernelspec": {
   "display_name": "Python 3",
   "language": "python",
   "name": "python3"
  },
  "language_info": {
   "codemirror_mode": {
    "name": "ipython",
    "version": 2
   },
   "file_extension": ".py",
   "mimetype": "text/x-python",
   "name": "python",
   "nbconvert_exporter": "python",
   "pygments_lexer": "ipython2",
   "version": "2.7.6"
  }
 },
 "nbformat": 4,
 "nbformat_minor": 5
}
