{
 "cells": [
  {
   "cell_type": "code",
   "execution_count": 1,
   "id": "initial_id",
   "metadata": {
    "collapsed": true,
    "ExecuteTime": {
     "end_time": "2024-06-06T17:29:59.814150Z",
     "start_time": "2024-06-06T17:29:59.346304Z"
    }
   },
   "outputs": [],
   "source": [
    "import numpy as np\n",
    "import time\n",
    "kkk = 0"
   ]
  },
  {
   "cell_type": "code",
   "outputs": [],
   "source": [
    "def generate_matrix_and_vector(n, dtype=np.float64):\n",
    "    matrix = np.zeros((n, n), dtype=dtype)\n",
    "\n",
    "    matrix[0, :] = 1\n",
    "\n",
    "    for i in range(1, n):\n",
    "        for j in range(n):\n",
    "            matrix[i, j] = 1 / (i + j + 1)\n",
    "\n",
    "    vector = np.array([1 if i % 2 == 0 else -1 for i in range(n)], dtype=dtype)\n",
    "\n",
    "    return matrix, vector"
   ],
   "metadata": {
    "collapsed": false,
    "ExecuteTime": {
     "end_time": "2024-06-06T17:29:59.819960Z",
     "start_time": "2024-06-06T17:29:59.815138Z"
    }
   },
   "id": "de7c9ada636aae41",
   "execution_count": 2
  },
  {
   "cell_type": "code",
   "outputs": [],
   "source": [
    "def generate_matrix_and_vector_2(n, dtype=np.float64):\n",
    "    matrix = np.zeros((n, n), dtype=dtype)\n",
    "\n",
    "    for i in range(n):\n",
    "        for j in range(i, n):\n",
    "            matrix[i, j] = (2 * (i + 1)) / (j + 1)\n",
    "            matrix[j, i] = matrix[i, j]\n",
    "\n",
    "    vector = np.array([1 if i % 2 == 0 else -1 for i in range(n)], dtype=dtype)\n",
    "\n",
    "    return matrix, vector"
   ],
   "metadata": {
    "collapsed": false,
    "ExecuteTime": {
     "end_time": "2024-06-06T17:29:59.825405Z",
     "start_time": "2024-06-06T17:29:59.820957Z"
    }
   },
   "id": "922ecc9d4923b3cb",
   "execution_count": 3
  },
  {
   "cell_type": "code",
   "outputs": [],
   "source": [
    "def generate_matrix_and_vector_3(n, dtype=np.float64):\n",
    "    matrix = np.zeros((n,n), dtype=dtype)\n",
    "    m = 3\n",
    "    k = 7\n",
    "    for i in range(n):\n",
    "        for j in range(n):\n",
    "            if i == j:\n",
    "                matrix[i, j] = -m * (i+1) - k\n",
    "            elif j == i+1:\n",
    "                matrix[i, j] = i + 1\n",
    "            elif i > 0 and j == i-1:\n",
    "                matrix[i, j] = m/(i+1)\n",
    "\n",
    "    vector = np.array([1 if i % 2 == 0 else -1 for i in range(n)], dtype=dtype)\n",
    "\n",
    "    return matrix, vector"
   ],
   "metadata": {
    "collapsed": false,
    "ExecuteTime": {
     "end_time": "2024-06-06T17:29:59.831724Z",
     "start_time": "2024-06-06T17:29:59.826394Z"
    }
   },
   "id": "f7fc99db6883ce1e",
   "execution_count": 4
  },
  {
   "cell_type": "code",
   "outputs": [],
   "source": [
    "def generate_thomas_matrix(n, dtype=np.float64):\n",
    "    matrix = np.zeros((3, n), dtype=dtype)\n",
    "    m = 3\n",
    "    k = 7\n",
    "    for i in range(n):\n",
    "        matrix[0, i] = m/(i+1) \n",
    "        matrix[1, i] = -m * (i+1) - k\n",
    "        matrix[2, i] = i + 1\n",
    "    \n",
    "    matrix[0, 0] = 0\n",
    "    matrix[-1, -1] = 0\n",
    "\n",
    "    return matrix      "
   ],
   "metadata": {
    "collapsed": false,
    "ExecuteTime": {
     "end_time": "2024-06-06T17:29:59.838425Z",
     "start_time": "2024-06-06T17:29:59.833385Z"
    }
   },
   "id": "15dba84c316826ac",
   "execution_count": 5
  },
  {
   "cell_type": "code",
   "outputs": [],
   "source": [
    "def solve(n, A, B, f_type=np.float64):\n",
    "    for i in range(n):\n",
    "        for j in range(i+1, n):\n",
    "            ratio = A[j, i] / A[i, i]\n",
    "            A[j] -= ratio * A[i]\n",
    "            B[j] -= ratio * B[i]\n",
    "    x_new = np.zeros(n, dtype=f_type)\n",
    "    for i in range(n - 1, -1, -1):\n",
    "        x_new[i] = (B[i] - np.dot(A[i, i + 1:], x_new[i + 1:])) / A[i, i]\n",
    "\n",
    "    return x_new"
   ],
   "metadata": {
    "collapsed": false,
    "ExecuteTime": {
     "end_time": "2024-06-06T17:29:59.844185Z",
     "start_time": "2024-06-06T17:29:59.839413Z"
    }
   },
   "id": "706fa6f325796603",
   "execution_count": 6
  },
  {
   "cell_type": "code",
   "outputs": [],
   "source": [
    "def solve_thomas(n, f_type):\n",
    "    A, x = generate_matrix_and_vector_3(n, f_type)\n",
    "    B = (A @ x).astype(f_type)\n",
    "    d = B.copy()\n",
    "    time_g_start = time.time()\n",
    "    x_new = solve(n, A, B, f_type)\n",
    "    time_g_end = time.time()\n",
    "    \n",
    "    abc = generate_thomas_matrix(n, f_type)\n",
    "    time_t_start = time.time()\n",
    "    C = np.zeros(n, dtype=f_type)\n",
    "    C[0] = abc[1, 0]\n",
    "    X = np.zeros(n, dtype=f_type)\n",
    "    X[0] = d[0]\n",
    "    \n",
    "    for i in range(1, n):\n",
    "        factor = abc[0, i] / C[i - 1]\n",
    "        C[i] = abc[1, i] - factor * abc[2, i - 1]\n",
    "        X[i] = d[i] - factor * X[i - 1]\n",
    "        \n",
    "    X[-1] = X[-1] / C[-1]\n",
    "    for i in range(n - 2, -1, -1):\n",
    "        X[i] = (X[i] - abc[2, i] * X[i + 1]) / C[i]\n",
    "    time_t_end = time.time()\n",
    "    return x, x_new, X, time_g_end - time_g_start, time_t_end - time_t_start"
   ],
   "metadata": {
    "collapsed": false,
    "ExecuteTime": {
     "end_time": "2024-06-06T17:29:59.851460Z",
     "start_time": "2024-06-06T17:29:59.845177Z"
    }
   },
   "id": "cc6f202f34e61e79",
   "execution_count": 7
  },
  {
   "cell_type": "code",
   "outputs": [],
   "source": [
    "def difference(v1, v2):\n",
    "    differences = np.abs(v1 - v2)\n",
    "\n",
    "    max_difference = np.max(differences)\n",
    "    return max_difference"
   ],
   "metadata": {
    "collapsed": false,
    "ExecuteTime": {
     "end_time": "2024-06-06T17:29:59.856309Z",
     "start_time": "2024-06-06T17:29:59.853096Z"
    }
   },
   "id": "85c65ba9f4d08284",
   "execution_count": 8
  },
  {
   "cell_type": "code",
   "outputs": [],
   "source": [
    "def generate_table():\n",
    "    n_values = list(range(3, 31))\n",
    "\n",
    "    float_types = [np.float16, np.float32, np.float64]\n",
    "\n",
    "    results = {f_type: [] for f_type in float_types}\n",
    "\n",
    "    for f_type in float_types:\n",
    "        for n in n_values:\n",
    "            A, x = generate_matrix_and_vector(n, f_type)\n",
    "            B = (A @ x).astype(f_type)\n",
    "            x_new = solve(n, A, B, f_type)\n",
    "            diff = difference(x, x_new)\n",
    "            results[f_type].append(f\"{diff:.8f}\")\n",
    "\n",
    "    # Generate LaTeX table\n",
    "    latex_code = \"\\\\noindent\\\\begin{minipage}{\\\\linewidth}\\n\\\\centering\\n\"\n",
    "    latex_code += \"\\\\begin{tabular}{l|l|l|l}\\n\"\n",
    "    latex_code += \"n & float16 & float32 & float64 \\\\\\\\\\n\\\\hline\\n\"\n",
    "\n",
    "    for i in range(len(n_values)):\n",
    "        n = n_values[i]\n",
    "        float16_val = results[np.float16][i]\n",
    "        float32_val = results[np.float32][i]\n",
    "        float64_val = results[np.float64][i]\n",
    "        row = [n, float16_val, float32_val, float64_val]\n",
    "        latex_code += \" & \".join(map(str, row)) + \" \\\\\\\\\\n\"\n",
    "        if i < len(n_values) - 1:\n",
    "            latex_code += \"\\\\hline\\n\"\n",
    "\n",
    "    latex_code += \"\\\\end{tabular}\\n\\\\end{minipage}\"\n",
    "\n",
    "    print(latex_code)"
   ],
   "metadata": {
    "collapsed": false,
    "ExecuteTime": {
     "end_time": "2024-06-06T17:29:59.864499Z",
     "start_time": "2024-06-06T17:29:59.857929Z"
    }
   },
   "id": "4c75bdf22759d20c",
   "execution_count": 9
  },
  {
   "cell_type": "code",
   "outputs": [
    {
     "name": "stdout",
     "output_type": "stream",
     "text": [
      "\\noindent\\begin{minipage}{\\linewidth}\n",
      "\\centering\n",
      "\\begin{tabular}{l|l|l|l}\n",
      "n & float16 & float32 & float64 \\\\\n",
      "\\hline\n",
      "3 & 0.00000000 & 0.00000209 & 0.00000000 \\\\\n",
      "\\hline\n",
      "4 & 0.00000000 & 0.00000012 & 0.00000000 \\\\\n",
      "\\hline\n",
      "5 & 2.45703125 & 0.00021541 & 0.00000000 \\\\\n",
      "\\hline\n",
      "6 & 2.85156250 & 0.02232707 & 0.00000000 \\\\\n",
      "\\hline\n",
      "7 & 12.43750000 & 0.22568977 & 0.00000001 \\\\\n",
      "\\hline\n",
      "8 & 1.97363281 & 6.13138866 & 0.00000008 \\\\\n",
      "\\hline\n",
      "9 & 3.89648438 & 13.61607647 & 0.00000034 \\\\\n",
      "\\hline\n",
      "10 & 2.67187500 & 6.49310207 & 0.00010529 \\\\\n",
      "\\hline\n",
      "11 & 12.04687500 & 8.97018051 & 0.00764796 \\\\\n",
      "\\hline\n",
      "12 & 20.21875000 & 13.90666676 & 0.71986393 \\\\\n",
      "\\hline\n",
      "13 & 8.32812500 & 76.66101074 & 12.53222833 \\\\\n",
      "\\hline\n",
      "14 & 2.16015625 & 3.12784433 & 11.99258477 \\\\\n",
      "\\hline\n",
      "15 & 7.09375000 & 7.34304523 & 9.06911186 \\\\\n",
      "\\hline\n",
      "16 & 15.92968750 & 9.04860497 & 15.63721333 \\\\\n",
      "\\hline\n",
      "17 & 11.82812500 & 13.35541821 & 14.41392810 \\\\\n",
      "\\hline\n",
      "18 & 4.98437500 & 50.20633698 & 13.50041866 \\\\\n",
      "\\hline\n",
      "19 & 8.63281250 & 27.96179008 & 52.15635040 \\\\\n",
      "\\hline\n",
      "20 & 3.91406250 & 9.07047939 & 403.45553979 \\\\\n",
      "\\hline\n",
      "21 & 1.12890625 & 29.57230568 & 35.09902051 \\\\\n",
      "\\hline\n",
      "22 & 3.92187500 & 11.06279373 & 31.71708292 \\\\\n",
      "\\hline\n",
      "23 & 11.67968750 & 25.99313354 & 28.27397998 \\\\\n",
      "\\hline\n",
      "24 & 9.57031250 & 81.66528320 & 56.14575332 \\\\\n",
      "\\hline\n",
      "25 & 3.86718750 & 10.75170708 & 108.44805726 \\\\\n",
      "\\hline\n",
      "26 & 2.52343750 & 16.85674667 & 44.18601743 \\\\\n",
      "\\hline\n",
      "27 & 63.18750000 & 12.90479374 & 49.20546935 \\\\\n",
      "\\hline\n",
      "28 & 20.89062500 & 48.21633530 & 622.80432228 \\\\\n",
      "\\hline\n",
      "29 & 8.32812500 & 85.09238434 & 209.19552521 \\\\\n",
      "\\hline\n",
      "30 & 279.00000000 & 190.77062988 & 73.06652605 \\\\\n",
      "\\end{tabular}\n",
      "\\end{minipage}\n"
     ]
    }
   ],
   "source": [
    "generate_table()"
   ],
   "metadata": {
    "collapsed": false,
    "ExecuteTime": {
     "end_time": "2024-06-06T17:29:59.931260Z",
     "start_time": "2024-06-06T17:29:59.865491Z"
    }
   },
   "id": "85adff50ec8cfba1",
   "execution_count": 10
  },
  {
   "cell_type": "code",
   "outputs": [],
   "source": [
    "def generate_table2():\n",
    "    n_values = list(range(3, 31)) + [50, 100, 200, 300, 400, 500, 600, 700, 800, 900, 1000]\n",
    "\n",
    "    float_types = [np.float16, np.float32, np.float64]\n",
    "\n",
    "    results = {f_type: [] for f_type in float_types}\n",
    "\n",
    "    for f_type in float_types:\n",
    "        for n in n_values:\n",
    "            A, x = generate_matrix_and_vector_2(n, f_type)\n",
    "            B = (A @ x).astype(f_type)\n",
    "            x_new = solve(n, A, B, f_type)\n",
    "            diff = difference(x, x_new)\n",
    "            formatted_diff = f\"{diff:.10f}\"\n",
    "            results[f_type].append(formatted_diff)\n",
    "\n",
    "    # Generate LaTeX table\n",
    "    latex_code = \"\\\\noindent\\\\begin{minipage}{\\\\linewidth}\\n\\\\centering\\n\"\n",
    "    latex_code += \"\\\\begin{tabular}{l|l|l|l}\\n\"\n",
    "    latex_code += \"n & float16 & float32 & float64 \\\\\\\\\\n\\\\hline\\n\"\n",
    "\n",
    "    for i in range(len(n_values)):\n",
    "        n = n_values[i]\n",
    "        float16_val = results[np.float16][i]\n",
    "        float32_val = results[np.float32][i]\n",
    "        float64_val = results[np.float64][i]\n",
    "        row = [n, float16_val, float32_val, float64_val]\n",
    "        latex_code += \" & \".join(map(str, row)) + \" \\\\\\\\\\n\"\n",
    "        if i < len(n_values) - 1:\n",
    "            latex_code += \"\\\\hline\\n\"\n",
    "\n",
    "    latex_code += \"\\\\end{tabular}\\n\\\\end{minipage}\"\n",
    "\n",
    "    print(latex_code)"
   ],
   "metadata": {
    "collapsed": false,
    "ExecuteTime": {
     "end_time": "2024-06-06T17:29:59.939261Z",
     "start_time": "2024-06-06T17:29:59.932260Z"
    }
   },
   "id": "34185bfcf584bbbf",
   "execution_count": 11
  },
  {
   "cell_type": "code",
   "outputs": [
    {
     "name": "stdout",
     "output_type": "stream",
     "text": [
      "\\noindent\\begin{minipage}{\\linewidth}\n",
      "\\centering\n",
      "\\begin{tabular}{l|l|l|l}\n",
      "n & float16 & float32 & float64 \\\\\n",
      "\\hline\n",
      "3 & 0.0009765625 & 0.0000001192 & 0.0000000000 \\\\\n",
      "\\hline\n",
      "4 & 0.0019531250 & 0.0000001192 & 0.0000000000 \\\\\n",
      "\\hline\n",
      "5 & 0.0009765625 & 0.0000001192 & 0.0000000000 \\\\\n",
      "\\hline\n",
      "6 & 0.0029296875 & 0.0000002980 & 0.0000000000 \\\\\n",
      "\\hline\n",
      "7 & 0.0063476562 & 0.0000010729 & 0.0000000000 \\\\\n",
      "\\hline\n",
      "8 & 0.0073242188 & 0.0000011921 & 0.0000000000 \\\\\n",
      "\\hline\n",
      "9 & 0.0117187500 & 0.0000010729 & 0.0000000000 \\\\\n",
      "\\hline\n",
      "10 & 0.0117187500 & 0.0000030994 & 0.0000000000 \\\\\n",
      "\\hline\n",
      "11 & 0.0107421875 & 0.0000027418 & 0.0000000000 \\\\\n",
      "\\hline\n",
      "12 & 0.0136718750 & 0.0000051260 & 0.0000000000 \\\\\n",
      "\\hline\n",
      "13 & 0.0258789062 & 0.0000066757 & 0.0000000000 \\\\\n",
      "\\hline\n",
      "14 & 0.0166015625 & 0.0000073314 & 0.0000000000 \\\\\n",
      "\\hline\n",
      "15 & 0.0190429688 & 0.0000074506 & 0.0000000000 \\\\\n",
      "\\hline\n",
      "16 & 0.0410156250 & 0.0000054836 & 0.0000000000 \\\\\n",
      "\\hline\n",
      "17 & 0.0634765625 & 0.0000059009 & 0.0000000000 \\\\\n",
      "\\hline\n",
      "18 & 0.0576171875 & 0.0000061989 & 0.0000000000 \\\\\n",
      "\\hline\n",
      "19 & 0.0766601562 & 0.0000056028 & 0.0000000000 \\\\\n",
      "\\hline\n",
      "20 & 0.0668945312 & 0.0000090599 & 0.0000000000 \\\\\n",
      "\\hline\n",
      "21 & 0.0668945312 & 0.0000109076 & 0.0000000000 \\\\\n",
      "\\hline\n",
      "22 & 0.0527343750 & 0.0000154376 & 0.0000000000 \\\\\n",
      "\\hline\n",
      "23 & 0.0644531250 & 0.0000179410 & 0.0000000000 \\\\\n",
      "\\hline\n",
      "24 & 0.0693359375 & 0.0000177026 & 0.0000000000 \\\\\n",
      "\\hline\n",
      "25 & 0.0781250000 & 0.0000150800 & 0.0000000000 \\\\\n",
      "\\hline\n",
      "26 & 0.0966796875 & 0.0000185370 & 0.0000000000 \\\\\n",
      "\\hline\n",
      "27 & 0.1054687500 & 0.0000160933 & 0.0000000000 \\\\\n",
      "\\hline\n",
      "28 & 0.1220703125 & 0.0000151396 & 0.0000000000 \\\\\n",
      "\\hline\n",
      "29 & 0.1015625000 & 0.0000249147 & 0.0000000000 \\\\\n",
      "\\hline\n",
      "30 & 0.1044921875 & 0.0000269413 & 0.0000000000 \\\\\n",
      "\\hline\n",
      "50 & 0.3632812500 & 0.0000689626 & 0.0000000000 \\\\\n",
      "\\hline\n",
      "100 & 1.4824218750 & 0.0002392530 & 0.0000000000 \\\\\n",
      "\\hline\n",
      "200 & 18.7187500000 & 0.0013219118 & 0.0000000000 \\\\\n",
      "\\hline\n",
      "300 & 233.6250000000 & 0.0060015917 & 0.0000000000 \\\\\n",
      "\\hline\n",
      "400 & 10.2265625000 & 0.0100346804 & 0.0000000000 \\\\\n",
      "\\hline\n",
      "500 & 45.2812500000 & 0.0344583988 & 0.0000000001 \\\\\n",
      "\\hline\n",
      "600 & 135.3750000000 & 0.0480726957 & 0.0000000002 \\\\\n",
      "\\hline\n",
      "700 & 74.5000000000 & 0.0570264459 & 0.0000000002 \\\\\n",
      "\\hline\n",
      "800 & 87.5625000000 & 0.1133853197 & 0.0000000002 \\\\\n",
      "\\hline\n",
      "900 & 516.0000000000 & 0.1530019045 & 0.0000000006 \\\\\n",
      "\\hline\n",
      "1000 & 142.1250000000 & 0.2310508490 & 0.0000000006 \\\\\n",
      "\\end{tabular}\n",
      "\\end{minipage}\n"
     ]
    }
   ],
   "source": [
    "generate_table2()"
   ],
   "metadata": {
    "collapsed": false,
    "ExecuteTime": {
     "end_time": "2024-06-06T17:30:59.995155Z",
     "start_time": "2024-06-06T17:29:59.940261Z"
    }
   },
   "id": "462f36a897bb8b53",
   "execution_count": 12
  },
  {
   "cell_type": "code",
   "outputs": [],
   "source": [
    "def norm(A):\n",
    "    n = len(A)\n",
    "    result = 0\n",
    "    for i in range(n):\n",
    "        temp = 0\n",
    "        for j in range(n):\n",
    "            temp += abs(A[i, j])\n",
    "        result = max(result, temp)\n",
    "    return result"
   ],
   "metadata": {
    "collapsed": false,
    "ExecuteTime": {
     "end_time": "2024-06-06T17:30:59.999157Z",
     "start_time": "2024-06-06T17:30:59.996150Z"
    }
   },
   "id": "be4551daf15a776c",
   "execution_count": 13
  },
  {
   "cell_type": "code",
   "outputs": [],
   "source": [
    "def uwarunkowanie(n, typed=1):\n",
    "    if typed == 1:\n",
    "        A, _ = generate_matrix_and_vector(n)\n",
    "    else:\n",
    "        A, _ = generate_matrix_and_vector_2(n)\n",
    "    A_inv = np.linalg.inv(A)\n",
    "    return norm(A_inv) * norm(A)"
   ],
   "metadata": {
    "collapsed": false,
    "ExecuteTime": {
     "end_time": "2024-06-06T17:31:00.007972Z",
     "start_time": "2024-06-06T17:31:00.001154Z"
    }
   },
   "id": "cc79da7ab2c395d8",
   "execution_count": 14
  },
  {
   "cell_type": "code",
   "outputs": [],
   "source": [
    "def generate_table3():\n",
    "    n_values = list(range(3, 31)) + [50, 100, 200, 300, 400, 500, 600, 700, 800, 900, 1000]\n",
    "\n",
    "    results1 = []\n",
    "    results2 = []\n",
    "\n",
    "    for n in n_values:\n",
    "        cond1 = round(uwarunkowanie(n, 1))\n",
    "        cond2 = round(uwarunkowanie(n, 2))\n",
    "        results1.append(cond1)\n",
    "        results2.append(cond2)\n",
    "\n",
    "    # Generate LaTeX table\n",
    "    latex_code = \"\\\\noindent\\\\begin{minipage}{\\\\linewidth}\\n\\\\centering\\n\"\n",
    "    latex_code += \"\\\\begin{tabular}{c|c|c}\\n\"\n",
    "    latex_code += \"n & Zadanie 1 & Zadanie 2 \\\\\\\\\\n\\\\hline\\n\"\n",
    "\n",
    "    for i in range(len(n_values)):\n",
    "        n = n_values[i]\n",
    "        cond1 = results1[i]\n",
    "        cond2 = results2[i]\n",
    "        row = [n, cond1, cond2]\n",
    "        latex_code += \" & \".join(map(str, row)) + \" \\\\\\\\\\n\"\n",
    "        if i < len(n_values) - 1:\n",
    "            latex_code += \"\\\\hline\\n\"\n",
    "\n",
    "    latex_code += \"\\\\end{tabular}\\n\\\\end{minipage}\"\n",
    "\n",
    "    print(latex_code)"
   ],
   "metadata": {
    "collapsed": false,
    "ExecuteTime": {
     "end_time": "2024-06-06T17:31:00.013748Z",
     "start_time": "2024-06-06T17:31:00.008969Z"
    }
   },
   "id": "49ceacf2f43369d6",
   "execution_count": 15
  },
  {
   "cell_type": "code",
   "outputs": [
    {
     "name": "stdout",
     "output_type": "stream",
     "text": [
      "\\noindent\\begin{minipage}{\\linewidth}\n",
      "\\centering\n",
      "\\begin{tabular}{c|c|c}\n",
      "n & Zadanie 1 & Zadanie 2 \\\\\n",
      "\\hline\n",
      "3 & 864 & 9 \\\\\n",
      "\\hline\n",
      "4 & 37920 & 16 \\\\\n",
      "\\hline\n",
      "5 & 1442000 & 27 \\\\\n",
      "\\hline\n",
      "6 & 56344680 & 40 \\\\\n",
      "\\hline\n",
      "7 & 2232478706 & 55 \\\\\n",
      "\\hline\n",
      "8 & 81552932522 & 72 \\\\\n",
      "\\hline\n",
      "9 & 2843171843290 & 92 \\\\\n",
      "\\hline\n",
      "10 & 108960945817880 & 115 \\\\\n",
      "\\hline\n",
      "11 & 3951758149661762 & 140 \\\\\n",
      "\\hline\n",
      "12 & 136453553538479040 & 167 \\\\\n",
      "\\hline\n",
      "13 & 2725392318632902656 & 197 \\\\\n",
      "\\hline\n",
      "14 & 2745139521386732544 & 229 \\\\\n",
      "\\hline\n",
      "15 & 10433483999586590720 & 263 \\\\\n",
      "\\hline\n",
      "16 & 2895360864787874304 & 301 \\\\\n",
      "\\hline\n",
      "17 & 13547271121323634688 & 340 \\\\\n",
      "\\hline\n",
      "18 & 2213939234398773182464 & 382 \\\\\n",
      "\\hline\n",
      "19 & 35706711768479363072 & 426 \\\\\n",
      "\\hline\n",
      "20 & 12204247200534620160 & 473 \\\\\n",
      "\\hline\n",
      "21 & 18981325683706511360 & 522 \\\\\n",
      "\\hline\n",
      "22 & 87949760078083948544 & 573 \\\\\n",
      "\\hline\n",
      "23 & 68289260706615672832 & 627 \\\\\n",
      "\\hline\n",
      "24 & 15152016253574156288 & 684 \\\\\n",
      "\\hline\n",
      "25 & 70359837126158475264 & 742 \\\\\n",
      "\\hline\n",
      "26 & 362112977615711371264 & 804 \\\\\n",
      "\\hline\n",
      "27 & 603916387256579260416 & 867 \\\\\n",
      "\\hline\n",
      "28 & 169886791468135743488 & 934 \\\\\n",
      "\\hline\n",
      "29 & 63136801013028020224 & 1002 \\\\\n",
      "\\hline\n",
      "30 & 26127480498444701696 & 1073 \\\\\n",
      "\\hline\n",
      "50 & 2155986395899543683072 & 3002 \\\\\n",
      "\\hline\n",
      "100 & 8674341296343485513728 & 12070 \\\\\n",
      "\\hline\n",
      "200 & 2786033414634803822592 & 48401 \\\\\n",
      "\\hline\n",
      "300 & 16930578285937360371712 & 108993 \\\\\n",
      "\\hline\n",
      "400 & 107283710368993140277248 & 193847 \\\\\n",
      "\\hline\n",
      "500 & 26044640277047910858752 & 302961 \\\\\n",
      "\\hline\n",
      "600 & 36776228838298525630464 & 436338 \\\\\n",
      "\\hline\n",
      "700 & 38380721845786053181440 & 593975 \\\\\n",
      "\\hline\n",
      "800 & 1350536486395107296149504 & 775873 \\\\\n",
      "\\hline\n",
      "900 & 467782270159791260172288 & 982033 \\\\\n",
      "\\hline\n",
      "1000 & 204099490468308518436864 & 1212454 \\\\\n",
      "\\end{tabular}\n",
      "\\end{minipage}\n"
     ]
    }
   ],
   "source": [
    "generate_table3()"
   ],
   "metadata": {
    "collapsed": false,
    "ExecuteTime": {
     "end_time": "2024-06-06T17:31:05.310368Z",
     "start_time": "2024-06-06T17:31:00.014740Z"
    }
   },
   "id": "877225e9a39175c7",
   "execution_count": 16
  },
  {
   "cell_type": "code",
   "outputs": [],
   "source": [
    "def generate_thomas_tables():\n",
    "    ns = range(50, 1050, 50)\n",
    "    f_types = [np.float32, np.float64]\n",
    "\n",
    "    times = []\n",
    "    errors = []\n",
    "\n",
    "    for n in ns:\n",
    "        row_time = [n]\n",
    "        row_error = [n]\n",
    "        thomas_times = []\n",
    "        gauss_times = []\n",
    "        thomas_errors = []\n",
    "        gauss_errors = []\n",
    "\n",
    "        for f_type in f_types:\n",
    "            x, x_new, X, time_gauss, time_thomas = solve_thomas(n, f_type)\n",
    "            thomas_times.append(time_thomas)\n",
    "            gauss_times.append(time_gauss)\n",
    "            thomas_errors.append(difference(x, X))\n",
    "            gauss_errors.append(difference(x, x_new))\n",
    "\n",
    "        row_time.extend(thomas_times)\n",
    "        row_time.extend(gauss_times)\n",
    "        row_error.extend(thomas_errors)\n",
    "        row_error.extend(gauss_errors)\n",
    "\n",
    "        times.append(row_time)\n",
    "        errors.append(row_error)\n",
    "    \n",
    "    # Generowanie tabeli czasów\n",
    "    latex_times = (\n",
    "        \"\\\\begin{table}[h!]\\n\\\\centering\\n\\\\begin{tabular}{c c c c c}\\n\\\\hline\\n\"\n",
    "        \"\\\\multirow{2}{*}{n} & \\\\multicolumn{2}{c}{Thomas} & \\\\multicolumn{2}{c}{Gauss} \\\\\\\\\\n\"\n",
    "        \"\\\\cline{2-5}\\n\"\n",
    "        \" & float32 & float64 & float32 & float64 \\\\\\\\\\n\\\\hline\\n\"\n",
    "    )\n",
    "    \n",
    "    for row in times:\n",
    "        latex_times += \" & \".join(map(str, row)) + \" \\\\\\\\\\n\"\n",
    "    \n",
    "    latex_times += \"\\\\hline\\n\\\\end{tabular}\\n\\\\caption{Czasy wykonania}\\n\\\\end{table}\\n\"\n",
    "    \n",
    "    # Generowanie tabeli błędów\n",
    "    latex_errors = (\n",
    "        \"\\\\begin{table}[h!]\\n\\\\centering\\n\\\\begin{tabular}{c c c c c}\\n\\\\hline\\n\"\n",
    "        \"\\\\multirow{2}{*}{n} & \\\\multicolumn{2}{c}{Thomas} & \\\\multicolumn{2}{c}{Gauss} \\\\\\\\\\n\"\n",
    "        \"\\\\cline{2-5}\\n\"\n",
    "        \" & float32 & float64 & float32 & float64 \\\\\\\\\\n\\\\hline\\n\"\n",
    "    )\n",
    "    \n",
    "    for row in errors:\n",
    "        latex_errors += \" & \".join(map(str, row)) + \" \\\\\\\\\\n\"\n",
    "    \n",
    "    latex_errors += \"\\\\hline\\n\\\\end{tabular}\\n\\\\caption{Błędy obliczeniowe}\\n\\\\end{table}\\n\"\n",
    "    \n",
    "    return latex_times, latex_errors"
   ],
   "metadata": {
    "collapsed": false,
    "ExecuteTime": {
     "end_time": "2024-06-06T17:31:05.317370Z",
     "start_time": "2024-06-06T17:31:05.311367Z"
    }
   },
   "id": "49920cc43091c4ec",
   "execution_count": 17
  },
  {
   "cell_type": "code",
   "outputs": [
    {
     "name": "stdout",
     "output_type": "stream",
     "text": [
      "\\begin{table}[h!]\n",
      "\\centering\n",
      "\\begin{tabular}{c c c c c}\n",
      "\\hline\n",
      "\\multirow{2}{*}{n} & \\multicolumn{2}{c}{Thomas} & \\multicolumn{2}{c}{Gauss} \\\\\n",
      "\\cline{2-5}\n",
      " & float32 & float64 & float32 & float64 \\\\\n",
      "\\hline\n",
      "50 & 0.0 & 0.0 & 0.004998445510864258 & 0.003988981246948242 \\\\\n",
      "100 & 0.0 & 0.0 & 0.015002727508544922 & 0.015999555587768555 \\\\\n",
      "150 & 0.0010006427764892578 & 0.0009984970092773438 & 0.0365140438079834 & 0.03551173210144043 \\\\\n",
      "200 & 0.0 & 0.0 & 0.06000232696533203 & 0.06302690505981445 \\\\\n",
      "250 & 0.0 & 0.0005354881286621094 & 0.09552931785583496 & 0.09851479530334473 \\\\\n",
      "300 & 0.0009996891021728516 & 0.0009839534759521484 & 0.14500927925109863 & 0.14122796058654785 \\\\\n",
      "350 & 0.0 & 0.0009996891021728516 & 0.19175100326538086 & 0.2615995407104492 \\\\\n",
      "400 & 0.0 & 0.0009984970092773438 & 0.2500593662261963 & 0.2581522464752197 \\\\\n",
      "450 & 0.0009996891021728516 & 0.0009984970092773438 & 0.3134782314300537 & 0.32045412063598633 \\\\\n",
      "500 & 0.0009996891021728516 & 0.00099945068359375 & 0.40335988998413086 & 0.4067056179046631 \\\\\n",
      "550 & 0.0009999275207519531 & 0.0 & 0.5117988586425781 & 0.5290846824645996 \\\\\n",
      "600 & 0.0009996891021728516 & 0.0015172958374023438 & 0.6251490116119385 & 0.6298415660858154 \\\\\n",
      "650 & 0.0009996891021728516 & 0.0009989738464355469 & 0.7252073287963867 & 0.743431568145752 \\\\\n",
      "700 & 0.0009987354278564453 & 0.0020170211791992188 & 1.1017560958862305 & 0.8596432209014893 \\\\\n",
      "750 & 0.0010001659393310547 & 0.00099945068359375 & 0.957421064376831 & 0.9928374290466309 \\\\\n",
      "800 & 0.0009999275207519531 & 0.0009996891021728516 & 1.0863428115844727 & 1.1256754398345947 \\\\\n",
      "850 & 0.001026153564453125 & 0.0009968280792236328 & 1.2298789024353027 & 1.2964086532592773 \\\\\n",
      "900 & 0.0009992122650146484 & 0.0009999275207519531 & 1.4744384288787842 & 1.5144264698028564 \\\\\n",
      "950 & 0.0019965171813964844 & 0.0009992122650146484 & 1.5764389038085938 & 1.6973934173583984 \\\\\n",
      "1000 & 0.0019996166229248047 & 0.002000093460083008 & 1.7641417980194092 & 1.8507273197174072 \\\\\n",
      "\\hline\n",
      "\\end{tabular}\n",
      "\\caption{Czasy wykonania}\n",
      "\\end{table}\n",
      "\n",
      "\\begin{table}[h!]\n",
      "\\centering\n",
      "\\begin{tabular}{c c c c c}\n",
      "\\hline\n",
      "\\multirow{2}{*}{n} & \\multicolumn{2}{c}{Thomas} & \\multicolumn{2}{c}{Gauss} \\\\\n",
      "\\cline{2-5}\n",
      " & float32 & float64 & float32 & float64 \\\\\n",
      "\\hline\n",
      "50 & 1.1920929e-07 & 2.220446049250313e-16 & 1.1920929e-07 & 2.220446049250313e-16 \\\\\n",
      "100 & 1.1920929e-07 & 2.220446049250313e-16 & 1.1920929e-07 & 2.220446049250313e-16 \\\\\n",
      "150 & 2.3841858e-07 & 3.3306690738754696e-16 & 2.3841858e-07 & 3.3306690738754696e-16 \\\\\n",
      "200 & 2.3841858e-07 & 3.3306690738754696e-16 & 2.3841858e-07 & 3.3306690738754696e-16 \\\\\n",
      "250 & 2.3841858e-07 & 3.3306690738754696e-16 & 2.3841858e-07 & 3.3306690738754696e-16 \\\\\n",
      "300 & 2.3841858e-07 & 3.3306690738754696e-16 & 2.3841858e-07 & 3.3306690738754696e-16 \\\\\n",
      "350 & 2.3841858e-07 & 3.3306690738754696e-16 & 2.3841858e-07 & 3.3306690738754696e-16 \\\\\n",
      "400 & 2.3841858e-07 & 3.3306690738754696e-16 & 2.3841858e-07 & 3.3306690738754696e-16 \\\\\n",
      "450 & 2.3841858e-07 & 3.3306690738754696e-16 & 2.3841858e-07 & 3.3306690738754696e-16 \\\\\n",
      "500 & 2.3841858e-07 & 3.3306690738754696e-16 & 2.3841858e-07 & 3.3306690738754696e-16 \\\\\n",
      "550 & 2.3841858e-07 & 3.3306690738754696e-16 & 2.3841858e-07 & 3.3306690738754696e-16 \\\\\n",
      "600 & 2.3841858e-07 & 3.3306690738754696e-16 & 2.3841858e-07 & 3.3306690738754696e-16 \\\\\n",
      "650 & 2.3841858e-07 & 3.3306690738754696e-16 & 2.3841858e-07 & 3.3306690738754696e-16 \\\\\n",
      "700 & 2.3841858e-07 & 3.3306690738754696e-16 & 2.3841858e-07 & 3.3306690738754696e-16 \\\\\n",
      "750 & 2.3841858e-07 & 3.3306690738754696e-16 & 2.3841858e-07 & 3.3306690738754696e-16 \\\\\n",
      "800 & 2.3841858e-07 & 4.440892098500626e-16 & 2.3841858e-07 & 4.440892098500626e-16 \\\\\n",
      "850 & 2.3841858e-07 & 4.440892098500626e-16 & 2.3841858e-07 & 4.440892098500626e-16 \\\\\n",
      "900 & 2.3841858e-07 & 4.440892098500626e-16 & 2.3841858e-07 & 4.440892098500626e-16 \\\\\n",
      "950 & 2.3841858e-07 & 4.440892098500626e-16 & 2.3841858e-07 & 4.440892098500626e-16 \\\\\n",
      "1000 & 2.3841858e-07 & 4.440892098500626e-16 & 2.3841858e-07 & 4.440892098500626e-16 \\\\\n",
      "\\hline\n",
      "\\end{tabular}\n",
      "\\caption{Błędy obliczeniowe}\n",
      "\\end{table}\n"
     ]
    }
   ],
   "source": [
    "z = generate_thomas_tables()\n",
    "print(z[0])\n",
    "print(z[1])"
   ],
   "metadata": {
    "collapsed": false,
    "ExecuteTime": {
     "end_time": "2024-06-06T17:31:31.854268Z",
     "start_time": "2024-06-06T17:31:05.318296Z"
    }
   },
   "id": "5c1f676295d246aa",
   "execution_count": 18
  },
  {
   "cell_type": "code",
   "outputs": [],
   "source": [],
   "metadata": {
    "collapsed": false
   },
   "id": "dd9aabf1b607ce6a"
  }
 ],
 "metadata": {
  "kernelspec": {
   "display_name": "Python 3",
   "language": "python",
   "name": "python3"
  },
  "language_info": {
   "codemirror_mode": {
    "name": "ipython",
    "version": 2
   },
   "file_extension": ".py",
   "mimetype": "text/x-python",
   "name": "python",
   "nbconvert_exporter": "python",
   "pygments_lexer": "ipython2",
   "version": "2.7.6"
  }
 },
 "nbformat": 4,
 "nbformat_minor": 5
}
